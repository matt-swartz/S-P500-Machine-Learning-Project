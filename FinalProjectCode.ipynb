{
  "nbformat": 4,
  "nbformat_minor": 0,
  "metadata": {
    "colab": {
      "name": "FinalProjectCode.ipynb",
      "provenance": []
    },
    "kernelspec": {
      "name": "python3",
      "display_name": "Python 3"
    },
    "language_info": {
      "name": "python"
    }
  },
  "cells": [
    {
      "cell_type": "markdown",
      "metadata": {
        "id": "QqF19QG1U_JN"
      },
      "source": [
        "# CS-UY4536 Final Project: Predicting SP500 Monthly Price Shifts\n",
        "Done by Matthew Swartz and Sasha Agapiev for 12/8/21\n",
        "---\n",
        "\n"
      ]
    },
    {
      "cell_type": "markdown",
      "metadata": {
        "id": "3d6sHnPvUv_s"
      },
      "source": [
        "# Importing Libraries"
      ]
    },
    {
      "cell_type": "code",
      "metadata": {
        "id": "C6DY-wvXUNoo"
      },
      "source": [
        "import numpy as np\n",
        "import pandas as pd\n",
        "\n",
        "# Import Logistic Regression libraries\n",
        "import sklearn\n",
        "from sklearn import linear_model\n",
        "from sklearn import datasets\n",
        "from sklearn.linear_model import LogisticRegression # importing Sklearn's logistic regression's module\n",
        "from sklearn import preprocessing # preprossing is what we do with the data before we run the learning algorithm\n",
        "from sklearn.preprocessing import PolynomialFeatures\n",
        "from sklearn.model_selection import train_test_split \n",
        "\n",
        "# Import plotting libraries \n",
        "import matplotlib.pyplot as plt\n",
        "from scipy import stats\n",
        "import seaborn as sns\n",
        "%matplotlib inline"
      ],
      "execution_count": 42,
      "outputs": []
    },
    {
      "cell_type": "code",
      "metadata": {
        "colab": {
          "base_uri": "https://localhost:8080/",
          "height": 238
        },
        "id": "tQScAHV2UtDQ",
        "outputId": "3bb80c50-2502-4484-ff54-b52588d2afb9"
      },
      "source": [
        "names =[\n",
        "    'DATE', 'PRICE', 'DIVIDEND', 'EARNINGS', 'CPI', 'LIR', \n",
        "    'RP',  'RD', 'RE', 'PE10', 'MPC'\n",
        "]\n",
        "\n",
        "# read in our S&P data\n",
        "df = pd.read_csv('data_csv.csv', header=0, names=names, na_values='?')\n",
        "# remove na values\n",
        "df = df.dropna()\n",
        "# encode monthly percent change where positive month = 1, negative month = 0\n",
        "df['MPC'] = np.where((df.MPC)>=0,1,0)\n",
        "\n",
        "\n",
        "# checking data\n",
        "df.head(6)\n",
        "# print(df.shape)\n",
        "# num_samples = df.shape[0]\n",
        "# num_attributes = df.shape[1]\n",
        "# print(num_samples, num_attributes)"
      ],
      "execution_count": 11,
      "outputs": [
        {
          "output_type": "execute_result",
          "data": {
            "text/html": [
              "<div>\n",
              "<style scoped>\n",
              "    .dataframe tbody tr th:only-of-type {\n",
              "        vertical-align: middle;\n",
              "    }\n",
              "\n",
              "    .dataframe tbody tr th {\n",
              "        vertical-align: top;\n",
              "    }\n",
              "\n",
              "    .dataframe thead th {\n",
              "        text-align: right;\n",
              "    }\n",
              "</style>\n",
              "<table border=\"1\" class=\"dataframe\">\n",
              "  <thead>\n",
              "    <tr style=\"text-align: right;\">\n",
              "      <th></th>\n",
              "      <th>DATE</th>\n",
              "      <th>PRICE</th>\n",
              "      <th>DIVIDEND</th>\n",
              "      <th>EARNINGS</th>\n",
              "      <th>CPI</th>\n",
              "      <th>LIR</th>\n",
              "      <th>RP</th>\n",
              "      <th>RD</th>\n",
              "      <th>RE</th>\n",
              "      <th>PE10</th>\n",
              "      <th>MPC</th>\n",
              "    </tr>\n",
              "  </thead>\n",
              "  <tbody>\n",
              "    <tr>\n",
              "      <th>0</th>\n",
              "      <td>1/1/90</td>\n",
              "      <td>339.97</td>\n",
              "      <td>11.14</td>\n",
              "      <td>22.49</td>\n",
              "      <td>127.4</td>\n",
              "      <td>8.21</td>\n",
              "      <td>666.69</td>\n",
              "      <td>21.85</td>\n",
              "      <td>44.10</td>\n",
              "      <td>17.05</td>\n",
              "      <td>0</td>\n",
              "    </tr>\n",
              "    <tr>\n",
              "      <th>1</th>\n",
              "      <td>2/1/90</td>\n",
              "      <td>330.45</td>\n",
              "      <td>11.23</td>\n",
              "      <td>22.08</td>\n",
              "      <td>128.0</td>\n",
              "      <td>8.47</td>\n",
              "      <td>644.99</td>\n",
              "      <td>21.92</td>\n",
              "      <td>43.10</td>\n",
              "      <td>16.51</td>\n",
              "      <td>1</td>\n",
              "    </tr>\n",
              "    <tr>\n",
              "      <th>2</th>\n",
              "      <td>3/1/90</td>\n",
              "      <td>338.46</td>\n",
              "      <td>11.32</td>\n",
              "      <td>21.67</td>\n",
              "      <td>128.7</td>\n",
              "      <td>8.59</td>\n",
              "      <td>657.03</td>\n",
              "      <td>21.97</td>\n",
              "      <td>42.07</td>\n",
              "      <td>16.83</td>\n",
              "      <td>0</td>\n",
              "    </tr>\n",
              "    <tr>\n",
              "      <th>3</th>\n",
              "      <td>4/1/90</td>\n",
              "      <td>338.18</td>\n",
              "      <td>11.44</td>\n",
              "      <td>21.53</td>\n",
              "      <td>128.9</td>\n",
              "      <td>8.79</td>\n",
              "      <td>655.46</td>\n",
              "      <td>22.17</td>\n",
              "      <td>41.74</td>\n",
              "      <td>16.81</td>\n",
              "      <td>1</td>\n",
              "    </tr>\n",
              "    <tr>\n",
              "      <th>4</th>\n",
              "      <td>5/1/90</td>\n",
              "      <td>350.25</td>\n",
              "      <td>11.55</td>\n",
              "      <td>21.40</td>\n",
              "      <td>129.2</td>\n",
              "      <td>8.76</td>\n",
              "      <td>677.28</td>\n",
              "      <td>22.34</td>\n",
              "      <td>41.38</td>\n",
              "      <td>17.39</td>\n",
              "      <td>1</td>\n",
              "    </tr>\n",
              "    <tr>\n",
              "      <th>5</th>\n",
              "      <td>6/1/90</td>\n",
              "      <td>360.39</td>\n",
              "      <td>11.66</td>\n",
              "      <td>21.26</td>\n",
              "      <td>129.9</td>\n",
              "      <td>8.48</td>\n",
              "      <td>693.13</td>\n",
              "      <td>22.43</td>\n",
              "      <td>40.89</td>\n",
              "      <td>17.82</td>\n",
              "      <td>0</td>\n",
              "    </tr>\n",
              "  </tbody>\n",
              "</table>\n",
              "</div>"
            ],
            "text/plain": [
              "     DATE   PRICE  DIVIDEND  EARNINGS    CPI  ...      RP     RD     RE   PE10  MPC\n",
              "0  1/1/90  339.97     11.14     22.49  127.4  ...  666.69  21.85  44.10  17.05    0\n",
              "1  2/1/90  330.45     11.23     22.08  128.0  ...  644.99  21.92  43.10  16.51    1\n",
              "2  3/1/90  338.46     11.32     21.67  128.7  ...  657.03  21.97  42.07  16.83    0\n",
              "3  4/1/90  338.18     11.44     21.53  128.9  ...  655.46  22.17  41.74  16.81    1\n",
              "4  5/1/90  350.25     11.55     21.40  129.2  ...  677.28  22.34  41.38  17.39    1\n",
              "5  6/1/90  360.39     11.66     21.26  129.9  ...  693.13  22.43  40.89  17.82    0\n",
              "\n",
              "[6 rows x 11 columns]"
            ]
          },
          "metadata": {},
          "execution_count": 11
        }
      ]
    },
    {
      "cell_type": "markdown",
      "metadata": {
        "id": "MaJF9zd0_E6k"
      },
      "source": [
        "# UNSUPERVISED ANALYSIS\n",
        "\n",
        "\n"
      ]
    },
    {
      "cell_type": "code",
      "metadata": {
        "colab": {
          "base_uri": "https://localhost:8080/",
          "height": 526
        },
        "id": "leuJw5LG_Mw4",
        "outputId": "b3f5a9df-3839-4860-9a7d-b084f342fe2a"
      },
      "source": [
        "# Using the df.corr, df.describe methods from pandas to help get a better sense of our data\n",
        "print(df.corr())\n",
        "df.describe()"
      ],
      "execution_count": 12,
      "outputs": [
        {
          "output_type": "stream",
          "name": "stdout",
          "text": [
            "             PRICE  DIVIDEND  EARNINGS  ...        RE      PE10       MPC\n",
            "PRICE     1.000000  0.901687  0.874795  ...  0.815520  0.407127  0.023046\n",
            "DIVIDEND  0.901687  1.000000  0.839127  ...  0.722634  0.019248  0.064273\n",
            "EARNINGS  0.874795  0.839127  1.000000  ...  0.975094  0.175341  0.099684\n",
            "CPI       0.866594  0.905851  0.852571  ...  0.738334  0.003797  0.059620\n",
            "LIR      -0.790626 -0.825611 -0.755927  ... -0.631736 -0.003545 -0.058998\n",
            "RP        0.953333  0.742372  0.768547  ...  0.756740  0.658893 -0.012438\n",
            "RD        0.874325  0.986624  0.795626  ...  0.687959  0.036933  0.060202\n",
            "RE        0.815520  0.722634  0.975094  ...  1.000000  0.287897  0.105928\n",
            "PE10      0.407127  0.019248  0.175341  ...  0.287897  1.000000 -0.071317\n",
            "MPC       0.023046  0.064273  0.099684  ...  0.105928 -0.071317  1.000000\n",
            "\n",
            "[10 rows x 10 columns]\n"
          ]
        },
        {
          "output_type": "execute_result",
          "data": {
            "text/html": [
              "<div>\n",
              "<style scoped>\n",
              "    .dataframe tbody tr th:only-of-type {\n",
              "        vertical-align: middle;\n",
              "    }\n",
              "\n",
              "    .dataframe tbody tr th {\n",
              "        vertical-align: top;\n",
              "    }\n",
              "\n",
              "    .dataframe thead th {\n",
              "        text-align: right;\n",
              "    }\n",
              "</style>\n",
              "<table border=\"1\" class=\"dataframe\">\n",
              "  <thead>\n",
              "    <tr style=\"text-align: right;\">\n",
              "      <th></th>\n",
              "      <th>PRICE</th>\n",
              "      <th>DIVIDEND</th>\n",
              "      <th>EARNINGS</th>\n",
              "      <th>CPI</th>\n",
              "      <th>LIR</th>\n",
              "      <th>RP</th>\n",
              "      <th>RD</th>\n",
              "      <th>RE</th>\n",
              "      <th>PE10</th>\n",
              "      <th>MPC</th>\n",
              "    </tr>\n",
              "  </thead>\n",
              "  <tbody>\n",
              "    <tr>\n",
              "      <th>count</th>\n",
              "      <td>336.000000</td>\n",
              "      <td>336.000000</td>\n",
              "      <td>336.000000</td>\n",
              "      <td>336.000000</td>\n",
              "      <td>336.000000</td>\n",
              "      <td>336.000000</td>\n",
              "      <td>336.000000</td>\n",
              "      <td>336.000000</td>\n",
              "      <td>336.000000</td>\n",
              "      <td>336.000000</td>\n",
              "    </tr>\n",
              "    <tr>\n",
              "      <th>mean</th>\n",
              "      <td>1155.960655</td>\n",
              "      <td>22.330327</td>\n",
              "      <td>53.699196</td>\n",
              "      <td>189.273482</td>\n",
              "      <td>4.650923</td>\n",
              "      <td>1459.163601</td>\n",
              "      <td>28.270804</td>\n",
              "      <td>67.258601</td>\n",
              "      <td>25.511488</td>\n",
              "      <td>0.630952</td>\n",
              "    </tr>\n",
              "    <tr>\n",
              "      <th>std</th>\n",
              "      <td>544.017981</td>\n",
              "      <td>10.223598</td>\n",
              "      <td>28.708202</td>\n",
              "      <td>35.460967</td>\n",
              "      <td>1.913400</td>\n",
              "      <td>500.571075</td>\n",
              "      <td>7.784400</td>\n",
              "      <td>26.267634</td>\n",
              "      <td>6.530115</td>\n",
              "      <td>0.483267</td>\n",
              "    </tr>\n",
              "    <tr>\n",
              "      <th>min</th>\n",
              "      <td>307.120000</td>\n",
              "      <td>11.140000</td>\n",
              "      <td>6.860000</td>\n",
              "      <td>127.400000</td>\n",
              "      <td>1.500000</td>\n",
              "      <td>574.750000</td>\n",
              "      <td>21.500000</td>\n",
              "      <td>8.060000</td>\n",
              "      <td>13.320000</td>\n",
              "      <td>0.000000</td>\n",
              "    </tr>\n",
              "    <tr>\n",
              "      <th>25%</th>\n",
              "      <td>753.660000</td>\n",
              "      <td>14.937500</td>\n",
              "      <td>28.830000</td>\n",
              "      <td>158.975000</td>\n",
              "      <td>2.892500</td>\n",
              "      <td>1053.802500</td>\n",
              "      <td>22.320000</td>\n",
              "      <td>42.960000</td>\n",
              "      <td>20.852500</td>\n",
              "      <td>0.000000</td>\n",
              "    </tr>\n",
              "    <tr>\n",
              "      <th>50%</th>\n",
              "      <td>1160.505000</td>\n",
              "      <td>17.495000</td>\n",
              "      <td>47.360000</td>\n",
              "      <td>185.200000</td>\n",
              "      <td>4.570000</td>\n",
              "      <td>1491.005000</td>\n",
              "      <td>24.755000</td>\n",
              "      <td>63.730000</td>\n",
              "      <td>24.910000</td>\n",
              "      <td>1.000000</td>\n",
              "    </tr>\n",
              "    <tr>\n",
              "      <th>75%</th>\n",
              "      <td>1409.317500</td>\n",
              "      <td>27.520000</td>\n",
              "      <td>82.862500</td>\n",
              "      <td>220.025000</td>\n",
              "      <td>6.042500</td>\n",
              "      <td>1788.047500</td>\n",
              "      <td>31.770000</td>\n",
              "      <td>92.277500</td>\n",
              "      <td>27.412500</td>\n",
              "      <td>1.000000</td>\n",
              "    </tr>\n",
              "    <tr>\n",
              "      <th>max</th>\n",
              "      <td>2664.340000</td>\n",
              "      <td>48.930000</td>\n",
              "      <td>109.880000</td>\n",
              "      <td>246.820000</td>\n",
              "      <td>8.890000</td>\n",
              "      <td>2700.130000</td>\n",
              "      <td>49.590000</td>\n",
              "      <td>111.360000</td>\n",
              "      <td>44.200000</td>\n",
              "      <td>1.000000</td>\n",
              "    </tr>\n",
              "  </tbody>\n",
              "</table>\n",
              "</div>"
            ],
            "text/plain": [
              "             PRICE    DIVIDEND    EARNINGS  ...          RE        PE10         MPC\n",
              "count   336.000000  336.000000  336.000000  ...  336.000000  336.000000  336.000000\n",
              "mean   1155.960655   22.330327   53.699196  ...   67.258601   25.511488    0.630952\n",
              "std     544.017981   10.223598   28.708202  ...   26.267634    6.530115    0.483267\n",
              "min     307.120000   11.140000    6.860000  ...    8.060000   13.320000    0.000000\n",
              "25%     753.660000   14.937500   28.830000  ...   42.960000   20.852500    0.000000\n",
              "50%    1160.505000   17.495000   47.360000  ...   63.730000   24.910000    1.000000\n",
              "75%    1409.317500   27.520000   82.862500  ...   92.277500   27.412500    1.000000\n",
              "max    2664.340000   48.930000  109.880000  ...  111.360000   44.200000    1.000000\n",
              "\n",
              "[8 rows x 10 columns]"
            ]
          },
          "metadata": {},
          "execution_count": 12
        }
      ]
    },
    {
      "cell_type": "markdown",
      "metadata": {
        "id": "Hzx2lEkrWCjC"
      },
      "source": [
        "# SUPERVISED ANALYSIS PART 1: Logistic Regression"
      ]
    },
    {
      "cell_type": "code",
      "metadata": {
        "id": "bkzLri5NWIRZ"
      },
      "source": [
        "# Editing dataframe to get our feature and target array \n",
        "\n",
        "# Convert the df data frame into a numpy array named df2\n",
        "df2 = df.to_numpy()\n",
        "# Select all rows and first 9 columns as X from df2\n",
        "X = df2[:, 1:10]\n",
        "# Select all rows and monthly percent change column as target\n",
        "Y = df2[:, 10:]\n",
        "# added to flatten y as I was getting an error message\n",
        "Y = np.ravel(Y)\n",
        "Y = Y.astype('int')"
      ],
      "execution_count": 13,
      "outputs": []
    },
    {
      "cell_type": "code",
      "metadata": {
        "id": "ZNf_A-FCXemd"
      },
      "source": [
        "# Using built-in preprocessing function to scale the X data \n",
        "X_scale = preprocessing.scale(X)"
      ],
      "execution_count": 14,
      "outputs": []
    },
    {
      "cell_type": "code",
      "metadata": {
        "id": "FkXAS0CgWIXD"
      },
      "source": [
        "# Splitting the dataset into training and test data\n",
        "# 336 training examples, and we decided on a 75/25 split for training and testing\n",
        "X_train = X_scale[:252]\n",
        "Y_train = Y[:252]\n",
        "X_test = X_scale[252:]\n",
        "Y_test = Y[252:]\n"
      ],
      "execution_count": 15,
      "outputs": []
    },
    {
      "cell_type": "code",
      "metadata": {
        "id": "K9j9GvYvuPoe"
      },
      "source": [
        "# Standard Logistic Regression \n",
        "\n",
        "# Initialize an empty list to store values of training set accuracy.\n",
        "acc_train_logreg = [] \n",
        "# Initialize an empty list to store values of test set accuracy.\n",
        "acc_test_logreg = []\n",
        "# Initialize an empty list to store different values of parameter 'iter'.\n",
        "iteration_values = []\n",
        "\n",
        "# This function creates a standard logreg model using sklearn's linear_model module\n",
        "# The code in standard_logreg_model is inspired by code from previous homework assignments\n",
        "# It takes, as arguments: iter(desired number of max_iterations), X_train (training data features), Y_train (training data targets)\n",
        "#     X_test (testing data features), Y_test (testing data targets)\n",
        "def standard_logreg_model(iter , X_train, Y_train, X_test, Y_test):\n",
        "    # Create the Logistic Regression model object with no penalty \n",
        "    # NOTE: Since there's no regularization in the standard logistic regression, the c values are insignificant\n",
        "    logreg = linear_model.LogisticRegression(penalty='none', solver='saga', max_iter=iter)\n",
        "    \n",
        "    # Fit the model on the training set\n",
        "    logreg.fit(X_train, Y_train)\n",
        "    \n",
        "    # Find the prediction on training set\n",
        "    Yhat_train = logreg.predict(X_train)\n",
        "    \n",
        "    # Adding training accuracy to acc_train_logreg\n",
        "    acc_train = logreg.score(X_train, Y_train)\n",
        "    acc_train_logreg.append(acc_train)\n",
        "    print(\"Accuracy on training data = %f\" % acc_train)\n",
        "    \n",
        "    # Find the prediction on test set\n",
        "    Yhat_test = logreg.predict(X_test)\n",
        "    \n",
        "    # Adding testing accuracy to acc_test_logreg\n",
        "    acc_test = logreg.score(X_test, Y_test)\n",
        "    acc_test_logreg.append(acc_test)\n",
        "    print(\"Accuracy on test data = %f\" % acc_test)\n",
        "    \n",
        "    # Appending value of c for graphing purposes\n",
        "    iteration_values.append(iter)\n"
      ],
      "execution_count": 16,
      "outputs": []
    },
    {
      "cell_type": "code",
      "metadata": {
        "colab": {
          "base_uri": "https://localhost:8080/"
        },
        "id": "P5_YatDJu4Z7",
        "outputId": "c4b27f44-b0f6-4aba-c986-57fcd0cde1a0"
      },
      "source": [
        "# running our Standard Logistic Regression with various iterations\n",
        "iters = [100, 500, 1000, 10000, 25000, 50000]\n",
        "\n",
        "# re-initialize the Regressionlists to clear old data\n",
        "acc_train_logreg = [] \n",
        "acc_test_logreg = []\n",
        "iteration_values = []\n",
        "\n",
        "for iter in iters:\n",
        "    standard_logreg_model(iter, X_train, Y_train, X_test, Y_test)\n",
        "\n"
      ],
      "execution_count": 17,
      "outputs": [
        {
          "output_type": "stream",
          "name": "stderr",
          "text": [
            "/usr/local/lib/python3.7/dist-packages/sklearn/linear_model/_sag.py:354: ConvergenceWarning: The max_iter was reached which means the coef_ did not converge\n",
            "  ConvergenceWarning,\n",
            "/usr/local/lib/python3.7/dist-packages/sklearn/linear_model/_sag.py:354: ConvergenceWarning: The max_iter was reached which means the coef_ did not converge\n",
            "  ConvergenceWarning,\n",
            "/usr/local/lib/python3.7/dist-packages/sklearn/linear_model/_sag.py:354: ConvergenceWarning: The max_iter was reached which means the coef_ did not converge\n",
            "  ConvergenceWarning,\n"
          ]
        },
        {
          "output_type": "stream",
          "name": "stdout",
          "text": [
            "Accuracy on training data = 0.642857\n",
            "Accuracy on test data = 0.452381\n",
            "Accuracy on training data = 0.650794\n",
            "Accuracy on test data = 0.404762\n",
            "Accuracy on training data = 0.666667\n",
            "Accuracy on test data = 0.392857\n",
            "Accuracy on training data = 0.654762\n",
            "Accuracy on test data = 0.357143\n",
            "Accuracy on training data = 0.654762\n",
            "Accuracy on test data = 0.357143\n",
            "Accuracy on training data = 0.654762\n",
            "Accuracy on test data = 0.357143\n"
          ]
        }
      ]
    },
    {
      "cell_type": "code",
      "metadata": {
        "colab": {
          "base_uri": "https://localhost:8080/",
          "height": 295
        },
        "id": "HvOAx49zu_vM",
        "outputId": "0f5a8eb8-f8c5-4c05-919e-4b7f22f549ca"
      },
      "source": [
        "# Plot training accuracy(Y-axis) v/s 'c' on X - Axis.\n",
        "plt.plot(iteration_values, acc_train_logreg, '.-', color='green')\n",
        "# Plot test accuracy(Y-Axis) v/s 'c' on X - Axis.\n",
        "plt.plot(iteration_values, acc_test_logreg, '.-', color='red')\n",
        "\n",
        "plt.xlabel('# of Iterations')\n",
        "plt.ylabel('Accuracy')\n",
        "plt.grid()\n",
        "plt.title('Predicting MPC with Standard LogReg')\n",
        "plt.legend(['Training Accuracy', 'Test Accuracy'], loc='best')\n",
        "plt.show(block = False)"
      ],
      "execution_count": 18,
      "outputs": [
        {
          "output_type": "display_data",
          "data": {
            "image/png": "[encoded data removed]",
            "text/plain": [
              "<Figure size 432x288 with 1 Axes>"
            ]
          },
          "metadata": {
            "needs_background": "light"
          }
        }
      ]
    },
    {
      "cell_type": "markdown",
      "metadata": {
        "id": "__nTSYi3WiyD"
      },
      "source": [
        "# Logistic Regression with L1 Regularization"
      ]
    },
    {
      "cell_type": "code",
      "metadata": {
        "id": "flC-ClvIWejn"
      },
      "source": [
        "# \n",
        "# Logistic Regression using Lasso (L1) Regularization\n",
        "# \n",
        "\n",
        "# Initialize an empty list to store values of training set accuracy.\n",
        "acc_train_logreg = [] \n",
        "# Initialize an empty list to store values of test set accuracy.\n",
        "acc_test_logreg = []\n",
        "# Initialize an empty list to store different values of parameter 'c'.\n",
        "c_logreg = []\n",
        "\n",
        "# This function creates an L1 logreg model using sklearn's linear_model module\n",
        "# The code in logreg_model is inspired by code from previous homework assignments\n",
        "# It takes, as arguments: c(desired c value for regularization), X_train (training data features), Y_train (training data targets)\n",
        "#     X_test (testing data features), Y_test (testing data targets)\n",
        "def logreg_model(c , X_train, Y_train, X_test, Y_test):\n",
        "    # Create the Logistic Regression model object with L1 Regularization\n",
        "    logreg = linear_model.LogisticRegression(penalty='l1',C=c,solver='saga',max_iter=10000)\n",
        "    \n",
        "    # Fit the model on the training set\n",
        "    logreg.fit(X_train, Y_train)\n",
        "    \n",
        "    # Find the prediction on training set\n",
        "    Yhat_train = logreg.predict(X_train)\n",
        "    \n",
        "    # Adding training accuracy to acc_train_logreg\n",
        "    acc_train = logreg.score(X_train, Y_train)\n",
        "    acc_train_logreg.append(acc_train)\n",
        "    print(\"Accuracy on training data = %f\" % acc_train)\n",
        "    \n",
        "    # Find the prediction on test set\n",
        "    Yhat_test = logreg.predict(X_test)\n",
        "    \n",
        "    # Adding testing accuracy to acc_test_logreg\n",
        "    acc_test = logreg.score(X_test, Y_test)\n",
        "    acc_test_logreg.append(acc_test)\n",
        "    print(\"Accuracy on test data = %f\" % acc_test)\n",
        "    \n",
        "    # Appending value of c for graphing purposes\n",
        "    c_logreg.append(c)\n"
      ],
      "execution_count": 19,
      "outputs": []
    },
    {
      "cell_type": "code",
      "metadata": {
        "colab": {
          "base_uri": "https://localhost:8080/"
        },
        "id": "v784p786Zdlj",
        "outputId": "dd2dfe58-3e1a-4f50-e278-60bbc6748c93"
      },
      "source": [
        "# running our L1 regularization with various c values\n",
        "cVals = [0.0001, 0.001, 0.01, 0.1, 1, 10]\n",
        "\n",
        "# re-initialize the lists to clear old data\n",
        "acc_train_logreg = [] \n",
        "acc_test_logreg = []\n",
        "c_logreg = []\n",
        "\n",
        "for c in cVals:\n",
        "    logreg_model(c, X_train, Y_train, X_test, Y_test)\n",
        "\n"
      ],
      "execution_count": 20,
      "outputs": [
        {
          "output_type": "stream",
          "name": "stdout",
          "text": [
            "Accuracy on training data = 0.611111\n",
            "Accuracy on test data = 0.690476\n",
            "Accuracy on training data = 0.611111\n",
            "Accuracy on test data = 0.690476\n",
            "Accuracy on training data = 0.611111\n",
            "Accuracy on test data = 0.690476\n",
            "Accuracy on training data = 0.611111\n",
            "Accuracy on test data = 0.690476\n",
            "Accuracy on training data = 0.619048\n",
            "Accuracy on test data = 0.595238\n",
            "Accuracy on training data = 0.638889\n",
            "Accuracy on test data = 0.452381\n"
          ]
        }
      ]
    },
    {
      "cell_type": "code",
      "metadata": {
        "colab": {
          "base_uri": "https://localhost:8080/",
          "height": 295
        },
        "id": "RRSuXmXRaekb",
        "outputId": "43b27ded-ad66-493a-dede-4325de9916d5"
      },
      "source": [
        "# Plot training accuracy(Y-axis) v/s 'c' on X - Axis.\n",
        "plt.plot(c_logreg, acc_train_logreg, '.-', color='green')\n",
        "# Plot test accuracy(Y-Axis) v/s 'c' on X - Axis.\n",
        "plt.plot(c_logreg, acc_test_logreg, '.-', color='red')\n",
        "\n",
        "plt.xlabel('C Values')\n",
        "plt.ylabel('Accuracy')\n",
        "plt.grid()\n",
        "plt.title('Predicting MPC with L1 LogReg')\n",
        "plt.legend(['Training Accuracy', 'Test Accuracy'], loc='best')\n",
        "plt.show(block = False)\n",
        "\n"
      ],
      "execution_count": 21,
      "outputs": [
        {
          "output_type": "display_data",
          "data": {
            "image/png": "[encoded data removed]",
            "text/plain": [
              "<Figure size 432x288 with 1 Axes>"
            ]
          },
          "metadata": {
            "needs_background": "light"
          }
        }
      ]
    },
    {
      "cell_type": "markdown",
      "metadata": {
        "id": "DebZv7vYbbVx"
      },
      "source": [
        "# Logistic Regression with L2 Regularization\n",
        "\n"
      ]
    },
    {
      "cell_type": "code",
      "metadata": {
        "id": "o_3l4yfZbkXE"
      },
      "source": [
        "# \n",
        "# Logistic Regression using Ridge (L2) Regularization\n",
        "#\n",
        "\n",
        "# Initialize an empty list to store values of training set accuracy.\n",
        "acc_train_logreg2 = []\n",
        "# Initialize an empty list to store values of test set accuracy.\n",
        "acc_test_logreg2 = []\n",
        "# Initialize an empty list to store different values of parameter 'c'.\n",
        "c_logreg2 = []\n",
        "\n",
        "# This function creates an L2 logreg model using sklearn's linear_model module\n",
        "# The code in logreg2_model is inspired by code from previous homework assignments\n",
        "# It takes, as arguments: c(desired c value for regularization), X_train (training data features), Y_train (training data targets)\n",
        "#     X_test (testing data features), Y_test (testing data targets)\n",
        "def logreg2_model(c , X_train, Y_train, X_test, Y_test):\n",
        "    # Create the Logistic Regression model object with L2 Regularization\n",
        "    logreg2 = linear_model.LogisticRegression(penalty='l2',C=c,solver='saga',max_iter=10000)\n",
        "    \n",
        "    # Fit the model on the training set\n",
        "    logreg2.fit(X_train, Y_train)\n",
        "    \n",
        "    # Find the prediction on training set\n",
        "    Yhat_train = logreg2.predict(X_train)\n",
        "    \n",
        "    # Adding training accuracy to acc_train_logreg2\n",
        "    acc_train = logreg2.score(X_train, Y_train)\n",
        "    acc_train_logreg2.append(acc_train)\n",
        "    print(\"Accuracy on training data = %f\" % acc_train)\n",
        "    \n",
        "    # Find the prediction on test set\n",
        "    Yhat_test = logreg2.predict(X_test)\n",
        "    \n",
        "    # Adding testing accuracy to acc_test_logreg2\n",
        "    acc_test = logreg2.score(X_test, Y_test)\n",
        "    acc_test_logreg2.append(acc_test)\n",
        "    print(\"Accuracy on test data = %f\" % acc_test)\n",
        "    \n",
        "    # Appending value of c for graphing purposes\n",
        "    c_logreg2.append(c)\n",
        "    "
      ],
      "execution_count": 22,
      "outputs": []
    },
    {
      "cell_type": "code",
      "metadata": {
        "colab": {
          "base_uri": "https://localhost:8080/"
        },
        "id": "Y1mAKW4ybteD",
        "outputId": "b839ac36-15a4-4013-dc9b-acaa0de2d1fa"
      },
      "source": [
        "# running our L2 regularization with various c values\n",
        "cVals = [0.0001, 0.001, 0.01, 0.1, 1, 10]\n",
        "\n",
        "# re-initialize the lists to clear old data\n",
        "acc_train_logreg2 = [] \n",
        "acc_test_logreg2 = []\n",
        "c_logreg2 = []\n",
        "\n",
        "for c in cVals:\n",
        "    logreg2_model(c, X_train, Y_train, X_test, Y_test)\n"
      ],
      "execution_count": 23,
      "outputs": [
        {
          "output_type": "stream",
          "name": "stdout",
          "text": [
            "Accuracy on training data = 0.611111\n",
            "Accuracy on test data = 0.690476\n",
            "Accuracy on training data = 0.611111\n",
            "Accuracy on test data = 0.690476\n",
            "Accuracy on training data = 0.611111\n",
            "Accuracy on test data = 0.690476\n",
            "Accuracy on training data = 0.599206\n",
            "Accuracy on test data = 0.583333\n",
            "Accuracy on training data = 0.626984\n",
            "Accuracy on test data = 0.547619\n",
            "Accuracy on training data = 0.638889\n",
            "Accuracy on test data = 0.476190\n"
          ]
        }
      ]
    },
    {
      "cell_type": "code",
      "metadata": {
        "colab": {
          "base_uri": "https://localhost:8080/",
          "height": 295
        },
        "id": "wihq8hkucDmI",
        "outputId": "2420637e-9632-40e6-8f66-376e4538748d"
      },
      "source": [
        "# Plot training accuracy(Y-axis) v/s 'c' on X - Axis.\n",
        "plt.plot(c_logreg2, acc_train_logreg2, '.-', color = 'green')\n",
        "# Plot test accuracy(Y-Axis) v/s 'c' on X - Axis.\n",
        "plt.plot(c_logreg2, acc_test_logreg2, '.-', color = 'red')\n",
        "\n",
        "plt.xlabel('C Values')\n",
        "plt.ylabel('Accuracy')\n",
        "plt.grid()\n",
        "plt.title('Predicting MPC with L2 LogReg')\n",
        "\n",
        "plt.legend(['Training Accuracy', 'Test Accuracy'], loc='best')\n",
        "plt.show(block = False)\n",
        "\n"
      ],
      "execution_count": 24,
      "outputs": [
        {
          "output_type": "display_data",
          "data": {
            "image/png": "[encoded data removed]",
            "text/plain": [
              "<Figure size 432x288 with 1 Axes>"
            ]
          },
          "metadata": {
            "needs_background": "light"
          }
        }
      ]
    },
    {
      "cell_type": "markdown",
      "metadata": {
        "id": "FVzDDhOXxBu7"
      },
      "source": [
        "# Logistic Regression Using Polynomial Feature Transformation\n"
      ]
    },
    {
      "cell_type": "code",
      "metadata": {
        "id": "URFqJ0X7xBJH"
      },
      "source": [
        "# \n",
        "# Logistic Regression with a Polynomial Feature Transformation\n",
        "#\n",
        "\n",
        "# Create an object of PolynomialFeatures(2)\n",
        "poly = PolynomialFeatures(2)\n",
        "# Create the transformed data matrices for training and test using poly.fit_transform(..)\n",
        "X_transformed_train = poly.fit_transform(X_train)\n",
        "X_transformed_test = poly.fit_transform(X_test)"
      ],
      "execution_count": 25,
      "outputs": []
    },
    {
      "cell_type": "code",
      "metadata": {
        "colab": {
          "base_uri": "https://localhost:8080/",
          "height": 503
        },
        "id": "ublxl8XcxN6L",
        "outputId": "bfb55231-7240-42f1-b12e-62e7e1c0b505"
      },
      "source": [
        "# L1 Regularization with Polynomial Feature Transform\n",
        "acc_train_logreg = []\n",
        "acc_test_logreg = []\n",
        "c_logreg = []\n",
        "\n",
        "# Running the L1 logreg model function with the transformed data\n",
        "for c in cVals:\n",
        "    logreg_model(c, X_transformed_train, Y_train, X_transformed_test, Y_test)\n",
        "    \n",
        "# Plot training accuracy(Y-axis) v/s 'c' on X - Axis.\n",
        "plt.plot(c_logreg, acc_train_logreg, '.-', color = 'green')\n",
        "# Plot test accuracy(Y-Axis) v/s 'c' on X - Axis.\n",
        "plt.plot(c_logreg, acc_test_logreg, '.-', color = 'red')\n",
        "# Use the code that you wrote to draw the plot for logreg_model()\n",
        "plt.xlabel('C Values')\n",
        "plt.ylabel('Accuracy')\n",
        "plt.grid()\n",
        "plt.title('Predicting MPC with L1 LogReg on Transformed Data')\n",
        "\n",
        "# Use the following function to have a legend\n",
        "plt.legend(['Training Accuracy', 'Test Accuracy'], loc='best')\n",
        "plt.show(block = False)\n"
      ],
      "execution_count": 35,
      "outputs": [
        {
          "output_type": "stream",
          "name": "stdout",
          "text": [
            "Accuracy on training data = 0.611111\n",
            "Accuracy on test data = 0.690476\n",
            "Accuracy on training data = 0.611111\n",
            "Accuracy on test data = 0.690476\n",
            "Accuracy on training data = 0.611111\n",
            "Accuracy on test data = 0.690476\n",
            "Accuracy on training data = 0.619048\n",
            "Accuracy on test data = 0.690476\n",
            "Accuracy on training data = 0.674603\n",
            "Accuracy on test data = 0.380952\n",
            "Accuracy on training data = 0.670635\n",
            "Accuracy on test data = 0.559524\n"
          ]
        },
        {
          "output_type": "display_data",
          "data": {
            "image/png": "[encoded data removed]",
            "text/plain": [
              "<Figure size 432x288 with 1 Axes>"
            ]
          },
          "metadata": {
            "needs_background": "light"
          }
        }
      ]
    },
    {
      "cell_type": "code",
      "metadata": {
        "colab": {
          "base_uri": "https://localhost:8080/",
          "height": 503
        },
        "id": "WMac3paXxn8E",
        "outputId": "cfac60cf-cbbf-42d7-ad07-789e79c10915"
      },
      "source": [
        "# L2 Regularization with Polynomial Feature Transform\n",
        "acc_train_logreg2 = []\n",
        "acc_test_logreg2 = []\n",
        "c_logreg2 = []\n",
        "\n",
        "# Running the L2 logreg function with the transformed data\n",
        "for c in cVals:\n",
        "    logreg2_model(c, X_transformed_train, Y_train, X_transformed_test, Y_test)\n",
        "    \n",
        "# Plot training accuracy(Y-axis) v/s 'c' on X - Axis.\n",
        "plt.plot(c_logreg2, acc_train_logreg2, '.-', color = 'green')\n",
        "# Plot test accuracy(Y-Axis) v/s 'c' on X - Axis.\n",
        "plt.plot(c_logreg2, acc_test_logreg2, '.-', color = 'red')\n",
        "# Use the code that you wrote to draw the plot for logreg_model()\n",
        "plt.xlabel('C Values')\n",
        "plt.ylabel('Accuracy')\n",
        "plt.grid()\n",
        "plt.title('Predicting MPC with L2 LogReg on Transformed Data')\n",
        "\n",
        "# Use the following function to have a legend\n",
        "plt.legend(['Training Accuracy', 'Test Accuracy'], loc='best')\n",
        "plt.show(block = False)"
      ],
      "execution_count": 36,
      "outputs": [
        {
          "output_type": "stream",
          "name": "stdout",
          "text": [
            "Accuracy on training data = 0.611111\n",
            "Accuracy on test data = 0.690476\n",
            "Accuracy on training data = 0.611111\n",
            "Accuracy on test data = 0.690476\n",
            "Accuracy on training data = 0.615079\n",
            "Accuracy on test data = 0.690476\n",
            "Accuracy on training data = 0.662698\n",
            "Accuracy on test data = 0.369048\n",
            "Accuracy on training data = 0.678571\n",
            "Accuracy on test data = 0.404762\n",
            "Accuracy on training data = 0.686508\n",
            "Accuracy on test data = 0.654762\n"
          ]
        },
        {
          "output_type": "display_data",
          "data": {
            "image/png": "[encoded data removed]",
            "text/plain": [
              "<Figure size 432x288 with 1 Axes>"
            ]
          },
          "metadata": {
            "needs_background": "light"
          }
        }
      ]
    },
    {
      "cell_type": "markdown",
      "metadata": {
        "id": "ibFUXwzZyP_1"
      },
      "source": [
        "# SUPERVISED ANALYSIS PART 2: Support Vector Machines"
      ]
    },
    {
      "cell_type": "markdown",
      "metadata": {
        "id": "tMWQJPsMdthn"
      },
      "source": [
        "# SVM With Linear Kernel "
      ]
    },
    {
      "cell_type": "code",
      "metadata": {
        "id": "2k7DFLCIylY2"
      },
      "source": [
        "# We are using sklearn's built-in SVM tool to create our SVM models\n",
        "from sklearn import svm\n",
        "# Initialize an empty list to store values of training set accuracy\n",
        "acc_train_svm_linear = [] \n",
        "# Initialize an empty list to store values of test set accuracy\n",
        "acc_test_svm_linear = []\n",
        "# Initialize an empty list to store different values of parameter 'c'.\n",
        "c_svm_linear = []\n",
        "\n",
        "# This function creates a linear SVM model using sklearn's SVM module\n",
        "# The code in svm_linear is inspired by code from previous homework assignments\n",
        "# It takes, as arguments: c(desired c value for regularization)\n",
        "def svm_linear(c):\n",
        "    svc_linear = svm.SVC(probability=False, kernel='linear', C=c)\n",
        "\n",
        "    svc_linear.fit(X_train, Y_train)\n",
        "    Yhat_svc_linear_train = svc_linear.predict(X_train)\n",
        "    acc_train = np.mean(Yhat_svc_linear_train == Y_train)\n",
        "    \n",
        "    acc_train_svm_linear.append(acc_train)\n",
        "    print('Train Accuracy = {0:f}'.format(acc_train))\n",
        "    \n",
        "    Yhat_svc_linear_test = svc_linear.predict(X_test)\n",
        "    acc_test = np.mean(Yhat_svc_linear_test == Y_test)\n",
        "    \n",
        "    acc_test_svm_linear.append(acc_test)\n",
        "    print('Test Accuracy = {0:f}'.format(acc_test))\n",
        "    \n",
        "    c_svm_linear.append(c)"
      ],
      "execution_count": 28,
      "outputs": []
    },
    {
      "cell_type": "code",
      "metadata": {
        "colab": {
          "base_uri": "https://localhost:8080/",
          "height": 503
        },
        "id": "JrW45xKEd9vd",
        "outputId": "f5ebf589-9667-4f82-bead-085ce171a29c"
      },
      "source": [
        "acc_train_svm_linear = []\n",
        "acc_test_svm_linear = []\n",
        "c_svm_linear = []\n",
        "\n",
        "# Running the linear SVM function with various c values\n",
        "for c in cVals:\n",
        "    svm_linear(c)\n",
        "\n",
        "plt.plot(c_svm_linear, acc_train_svm_linear, '.-', color = 'green')\n",
        "plt.plot(c_svm_linear, acc_test_svm_linear, '.-', color = 'red')\n",
        "\n",
        "# Use the following function to have a legend\n",
        "plt.legend(['Training Accuracy', 'Test Accuracy'])\n",
        "plt.title(\"Predicting MPC with Linear SVM\")\n",
        "plt.xlabel(\"C Value\")\n",
        "plt.ylabel(\"Accuracy (%)\")\n",
        "plt.grid()\n",
        "plt.show()"
      ],
      "execution_count": 29,
      "outputs": [
        {
          "output_type": "stream",
          "name": "stdout",
          "text": [
            "Train Accuracy = 0.611111\n",
            "Test Accuracy = 0.690476\n",
            "Train Accuracy = 0.611111\n",
            "Test Accuracy = 0.690476\n",
            "Train Accuracy = 0.611111\n",
            "Test Accuracy = 0.690476\n",
            "Train Accuracy = 0.611111\n",
            "Test Accuracy = 0.690476\n",
            "Train Accuracy = 0.611111\n",
            "Test Accuracy = 0.666667\n",
            "Train Accuracy = 0.646825\n",
            "Test Accuracy = 0.511905\n"
          ]
        },
        {
          "output_type": "display_data",
          "data": {
            "image/png": "[encoded data removed]",
            "text/plain": [
              "<Figure size 432x288 with 1 Axes>"
            ]
          },
          "metadata": {
            "needs_background": "light"
          }
        }
      ]
    },
    {
      "cell_type": "markdown",
      "metadata": {
        "id": "7B02RxmtYLCu"
      },
      "source": [
        "# SVM With Radial Basis Function (RBF) Kernel"
      ]
    },
    {
      "cell_type": "code",
      "metadata": {
        "colab": {
          "base_uri": "https://localhost:8080/",
          "height": 503
        },
        "id": "H0IvOxXvYGUL",
        "outputId": "9b9e376d-23a4-4a95-c4d0-2459a76ca425"
      },
      "source": [
        "# Initialize an empty list to store values of training set accuracy\n",
        "acc_train_svm_rbf = []\n",
        "# Initialize an empty list to store values of test set accuracy\n",
        "acc_test_svm_rbf = []\n",
        "# Initialize an empty list to store different values of parameter 'c'\n",
        "c_svm_rbf = []\n",
        "\n",
        "# This function creates an RBF SVM model using sklearn's SVM module\n",
        "# The code in svm_rbf is inspired by code from previous homework assignments\n",
        "# It takes, as arguments: c(desired c value for regularization)\n",
        "def svm_rbf(c):\n",
        "    svc_rbf = svm.SVC(probability=False, kernel='rbf', C=c)\n",
        "      \n",
        "    svc_rbf.fit(X_train, Y_train)\n",
        "\n",
        "    Yhat_svc_rbf_train = svc_rbf.predict(X_train)\n",
        "    acc_train = np.mean(Yhat_svc_rbf_train == Y_train)\n",
        "    \n",
        "    # Adding testing accuracy to acc_train_svm\n",
        "    acc_train_svm_rbf.append(acc_train)\n",
        "    print('Train Accuracy = {0:f}'.format(acc_train))\n",
        "    \n",
        "    Yhat_svc_rbf_test = svc_rbf.predict(X_test)\n",
        "    acc_test = np.mean(Yhat_svc_rbf_test == Y_test)\n",
        "    \n",
        "    # Adding testing accuracy to acc_test_svm\n",
        "    acc_test_svm_rbf.append(acc_test)\n",
        "    print('Test Accuracy = {0:f}'.format(acc_test))\n",
        "    \n",
        "    # Appending value of c for graphing purposes\n",
        "    c_svm_rbf.append(c)\n",
        "  \n",
        "# Running svm_rbf with various c values\n",
        "for c in cVals:\n",
        "    svm_rbf(c)\n",
        "\n",
        "# Plotting the accuracies vs the various c values\n",
        "plt.plot(c_svm_rbf, acc_train_svm_rbf, '.-', color = 'green')\n",
        "plt.plot(c_svm_rbf, acc_test_svm_rbf, '.-', color = 'red')\n",
        "\n",
        "# Use the following function to have a legend\n",
        "plt.legend(['Training Accuracy', 'Test Accuracy'])\n",
        "plt.title(\"Predicting MPC with RBF SVM\")\n",
        "plt.xlabel(\"C Value\")\n",
        "plt.ylabel(\"Accuracy (%)\")\n",
        "plt.grid()\n",
        "plt.show()\n"
      ],
      "execution_count": 31,
      "outputs": [
        {
          "output_type": "stream",
          "name": "stdout",
          "text": [
            "Train Accuracy = 0.611111\n",
            "Test Accuracy = 0.690476\n",
            "Train Accuracy = 0.611111\n",
            "Test Accuracy = 0.690476\n",
            "Train Accuracy = 0.611111\n",
            "Test Accuracy = 0.690476\n",
            "Train Accuracy = 0.611111\n",
            "Test Accuracy = 0.690476\n",
            "Train Accuracy = 0.674603\n",
            "Test Accuracy = 0.690476\n",
            "Train Accuracy = 0.678571\n",
            "Test Accuracy = 0.654762\n"
          ]
        },
        {
          "output_type": "display_data",
          "data": {
            "image/png": "[encoded data removed]",
            "text/plain": [
              "<Figure size 432x288 with 1 Axes>"
            ]
          },
          "metadata": {
            "needs_background": "light"
          }
        }
      ]
    },
    {
      "cell_type": "markdown",
      "metadata": {
        "id": "3NATr-gnZqKA"
      },
      "source": [
        "# SVM with Polynomial Kernel"
      ]
    },
    {
      "cell_type": "code",
      "metadata": {
        "colab": {
          "base_uri": "https://localhost:8080/",
          "height": 712
        },
        "id": "uld8VD5xZvLn",
        "outputId": "1b7378be-5fd0-446a-9866-cba4b64ff835"
      },
      "source": [
        "# Initialize an empty list to store values of training set accuracy\n",
        "acc_train_svm_poly = []\n",
        "# Initialize an empty list to store values of test set accuracy\n",
        "acc_test_svm_poly = []\n",
        "# Initialize an empty list to store different values of parameter 'c'\n",
        "c_svm_poly = []\n",
        "\n",
        "# This function creates a Polynomial SVM model using sklearn's SVM module\n",
        "# The code in svm_polynomial is inspired by code from previous homework assignments\n",
        "# It takes, as arguments: c(desired c value for regularization)\n",
        "def svm_polynomial(c):\n",
        "    svc_polynomial = svm.SVC(probability=False, kernel='poly', C=c)\n",
        "    \n",
        "    svc_polynomial.fit(X_train, Y_train)\n",
        "\n",
        "    Yhat_svc_poly_train = svc_polynomial.predict(X_train)\n",
        "    acc_train = np.mean(Yhat_svc_poly_train == Y_train)\n",
        "    \n",
        "    # Adding testing accuracy to acc_train_svm\n",
        "    acc_train_svm_poly.append(acc_train)\n",
        "    print('Train Accuracy = {0:f}'.format(acc_train))\n",
        "    \n",
        "    Yhat_svc_poly_test = svc_polynomial.predict(X_test)\n",
        "    acc_test = np.mean(Yhat_svc_poly_test == Y_test)\n",
        "    \n",
        "    # Adding testing accuracy to acc_test_svm\n",
        "    acc_test_svm_poly.append(acc_test)\n",
        "    print('Test Accuracy = {0:f}'.format(acc_test))\n",
        "    \n",
        "    # Appending value of c for graphing purposes\n",
        "    c_svm_poly.append(c)\n",
        "  \n",
        "# Running svm_polynomial with various c values\n",
        "for c in cVals:\n",
        "    svm_polynomial(c)\n",
        "\n",
        "# Re-initializing the lists to clear old data \n",
        "acc_train_svm_poly = []\n",
        "acc_test_svm_poly = []\n",
        "c_svm_poly = []\n",
        "for c in cVals:\n",
        "    svm_polynomial(c)\n",
        "plt.plot(c_svm_poly, acc_train_svm_poly, '.-', color = 'green')\n",
        "plt.plot(c_svm_poly, acc_test_svm_poly, '.-', color = 'red')\n",
        "plt.legend(['Training Accuracy', 'Test Accuracy'])\n",
        "plt.title(\"Predicting MPC with Polynomial SVM\")\n",
        "plt.xlabel(\"C Value\")\n",
        "plt.ylabel(\"Accuracy (%)\")\n",
        "plt.grid()\n",
        "plt.show()"
      ],
      "execution_count": 32,
      "outputs": [
        {
          "output_type": "stream",
          "name": "stdout",
          "text": [
            "Train Accuracy = 0.611111\n",
            "Test Accuracy = 0.690476\n",
            "Train Accuracy = 0.611111\n",
            "Test Accuracy = 0.690476\n",
            "Train Accuracy = 0.611111\n",
            "Test Accuracy = 0.690476\n",
            "Train Accuracy = 0.626984\n",
            "Test Accuracy = 0.690476\n",
            "Train Accuracy = 0.634921\n",
            "Test Accuracy = 0.690476\n",
            "Train Accuracy = 0.682540\n",
            "Test Accuracy = 0.535714\n",
            "Train Accuracy = 0.611111\n",
            "Test Accuracy = 0.690476\n",
            "Train Accuracy = 0.611111\n",
            "Test Accuracy = 0.690476\n",
            "Train Accuracy = 0.611111\n",
            "Test Accuracy = 0.690476\n",
            "Train Accuracy = 0.626984\n",
            "Test Accuracy = 0.690476\n",
            "Train Accuracy = 0.634921\n",
            "Test Accuracy = 0.690476\n",
            "Train Accuracy = 0.682540\n",
            "Test Accuracy = 0.535714\n"
          ]
        },
        {
          "output_type": "display_data",
          "data": {
            "image/png": "[encoded data removed]",
            "text/plain": [
              "<Figure size 432x288 with 1 Axes>"
            ]
          },
          "metadata": {
            "needs_background": "light"
          }
        }
      ]
    },
    {
      "cell_type": "markdown",
      "metadata": {
        "id": "Sb5RzGgXEyxV"
      },
      "source": [
        "# SVM With Linear Kernel on Polynomial Transformed Data"
      ]
    },
    {
      "cell_type": "code",
      "metadata": {
        "colab": {
          "base_uri": "https://localhost:8080/",
          "height": 503
        },
        "id": "zWKTqKk2EyLu",
        "outputId": "464ef614-dd82-4d30-9e5a-2ab64590be6d"
      },
      "source": [
        "def svm_linear(c):\n",
        "    svc_linear = svm.SVC(probability=False, kernel='linear', C=c)\n",
        "\n",
        "    svc_linear.fit(X_transformed_train, Y_train)\n",
        "    Yhat_svc_linear_train = svc_linear.predict(X_transformed_train)\n",
        "    acc_train = np.mean(Yhat_svc_linear_train == Y_train)\n",
        "    \n",
        "    acc_train_svm_linear.append(acc_train)\n",
        "    print('Train Accuracy = {0:f}'.format(acc_train))\n",
        "    \n",
        "    Yhat_svc_linear_test = svc_linear.predict(X_transformed_test)\n",
        "    acc_test = np.mean(Yhat_svc_linear_test == Y_test)\n",
        "    \n",
        "    acc_test_svm_linear.append(acc_test)\n",
        "    print('Test Accuracy = {0:f}'.format(acc_test))\n",
        "    \n",
        "    c_svm_linear.append(c)\n",
        "  \n",
        "acc_train_svm_linear = []\n",
        "acc_test_svm_linear = []\n",
        "c_svm_linear = []\n",
        "\n",
        "# Running the linear SVM function with various c values\n",
        "for c in cVals:\n",
        "    svm_linear(c)\n",
        "\n",
        "plt.plot(c_svm_linear, acc_train_svm_linear, '.-', color = 'green')\n",
        "plt.plot(c_svm_linear, acc_test_svm_linear, '.-', color = 'red')\n",
        "\n",
        "# Use the following function to have a legend\n",
        "plt.legend(['Training Accuracy', 'Test Accuracy'])\n",
        "plt.title(\"Predicting MPC with Linear SVM on Transformed Data\")\n",
        "plt.xlabel(\"C Value\")\n",
        "plt.ylabel(\"Accuracy (%)\")\n",
        "plt.grid()\n",
        "plt.show()"
      ],
      "execution_count": 37,
      "outputs": [
        {
          "output_type": "stream",
          "name": "stdout",
          "text": [
            "Train Accuracy = 0.611111\n",
            "Test Accuracy = 0.690476\n",
            "Train Accuracy = 0.611111\n",
            "Test Accuracy = 0.690476\n",
            "Train Accuracy = 0.623016\n",
            "Test Accuracy = 0.690476\n",
            "Train Accuracy = 0.682540\n",
            "Test Accuracy = 0.357143\n",
            "Train Accuracy = 0.678571\n",
            "Test Accuracy = 0.357143\n",
            "Train Accuracy = 0.678571\n",
            "Test Accuracy = 0.535714\n"
          ]
        },
        {
          "output_type": "display_data",
          "data": {
            "image/png": "[encoded data removed]",
            "text/plain": [
              "<Figure size 432x288 with 1 Axes>"
            ]
          },
          "metadata": {
            "needs_background": "light"
          }
        }
      ]
    },
    {
      "cell_type": "markdown",
      "metadata": {
        "id": "EAkC9kwjHWXf"
      },
      "source": [
        "# SVM With RBF Kernel on Polynomial Transformed Data\n",
        "\n"
      ]
    },
    {
      "cell_type": "code",
      "metadata": {
        "colab": {
          "base_uri": "https://localhost:8080/",
          "height": 503
        },
        "id": "2wN12fvnHfdD",
        "outputId": "176dd88a-ce28-496c-e6b6-00d16c0261ff"
      },
      "source": [
        "def svm_rbf(c):\n",
        "    svc_rbf = svm.SVC(probability=False, kernel='rbf', C=c)\n",
        "      \n",
        "    svc_rbf.fit(X_transformed_train, Y_train)\n",
        "\n",
        "    Yhat_svc_rbf_train = svc_rbf.predict(X_transformed_train)\n",
        "    acc_train = np.mean(Yhat_svc_rbf_train == Y_train)\n",
        "    \n",
        "    # Adding testing accuracy to acc_train_svm\n",
        "    acc_train_svm_rbf.append(acc_train)\n",
        "    print('Train Accuracy = {0:f}'.format(acc_train))\n",
        "    \n",
        "    Yhat_svc_rbf_test = svc_rbf.predict(X_transformed_test)\n",
        "    acc_test = np.mean(Yhat_svc_rbf_test == Y_test)\n",
        "    \n",
        "    # Adding testing accuracy to acc_test_svm\n",
        "    acc_test_svm_rbf.append(acc_test)\n",
        "    print('Test Accuracy = {0:f}'.format(acc_test))\n",
        "    \n",
        "    # Appending value of c for graphing purposes\n",
        "    c_svm_rbf.append(c)\n",
        "\n",
        "acc_train_svm_rbf = []\n",
        "acc_test_svm_rbf = []\n",
        "c_svm_rbf = []\n",
        "\n",
        "# Running svm_rbf with various c values\n",
        "for c in cVals:\n",
        "    svm_rbf(c)\n",
        "\n",
        "\n",
        "# Plotting the accuracies vs the various c values\n",
        "plt.plot(c_svm_rbf, acc_train_svm_rbf, '.-', color = 'green')\n",
        "plt.plot(c_svm_rbf, acc_test_svm_rbf, '.-', color = 'red')\n",
        "\n",
        "# Use the following function to have a legend\n",
        "plt.legend(['Training Accuracy', 'Test Accuracy'])\n",
        "plt.title(\"Predicting MPC with RBF SVM on Transformed Data\")\n",
        "plt.xlabel(\"C Value\")\n",
        "plt.ylabel(\"Accuracy (%)\")\n",
        "plt.grid()\n",
        "plt.show()\n"
      ],
      "execution_count": 39,
      "outputs": [
        {
          "output_type": "stream",
          "name": "stdout",
          "text": [
            "Train Accuracy = 0.611111\n",
            "Test Accuracy = 0.690476\n",
            "Train Accuracy = 0.611111\n",
            "Test Accuracy = 0.690476\n",
            "Train Accuracy = 0.611111\n",
            "Test Accuracy = 0.690476\n",
            "Train Accuracy = 0.611111\n",
            "Test Accuracy = 0.690476\n",
            "Train Accuracy = 0.642857\n",
            "Test Accuracy = 0.690476\n",
            "Train Accuracy = 0.690476\n",
            "Test Accuracy = 0.654762\n"
          ]
        },
        {
          "output_type": "display_data",
          "data": {
            "image/png": "[encoded data removed]",
            "text/plain": [
              "<Figure size 432x288 with 1 Axes>"
            ]
          },
          "metadata": {
            "needs_background": "light"
          }
        }
      ]
    },
    {
      "cell_type": "markdown",
      "metadata": {
        "id": "E3F85v3bIHzy"
      },
      "source": [
        "# SVM With Polynomial Kernel on Polynomial Transformed Data"
      ]
    },
    {
      "cell_type": "code",
      "metadata": {
        "colab": {
          "base_uri": "https://localhost:8080/",
          "height": 712
        },
        "id": "dx8kKOI_IOJp",
        "outputId": "257eb8da-0e4c-4142-8c57-c7465b821d35"
      },
      "source": [
        "def svm_polynomial(c):\n",
        "    svc_polynomial = svm.SVC(probability=False, kernel='poly', C=c)\n",
        "    \n",
        "    svc_polynomial.fit(X_transformed_train, Y_train)\n",
        "\n",
        "    Yhat_svc_poly_train = svc_polynomial.predict(X_transformed_train)\n",
        "    acc_train = np.mean(Yhat_svc_poly_train == Y_train)\n",
        "    \n",
        "    # Adding testing accuracy to acc_train_svm\n",
        "    acc_train_svm_poly.append(acc_train)\n",
        "    print('Train Accuracy = {0:f}'.format(acc_train))\n",
        "    \n",
        "    Yhat_svc_poly_test = svc_polynomial.predict(X_transformed_test)\n",
        "    acc_test = np.mean(Yhat_svc_poly_test == Y_test)\n",
        "    \n",
        "    # Adding testing accuracy to acc_test_svm\n",
        "    acc_test_svm_poly.append(acc_test)\n",
        "    print('Test Accuracy = {0:f}'.format(acc_test))\n",
        "    \n",
        "    # Appending value of c for graphing purposes\n",
        "    c_svm_poly.append(c)\n",
        "  \n",
        "# Running svm_polynomial with various c values\n",
        "for c in cVals:\n",
        "    svm_polynomial(c)\n",
        "\n",
        "# Re-initializing the lists to clear old data \n",
        "acc_train_svm_poly = []\n",
        "acc_test_svm_poly = []\n",
        "c_svm_poly = []\n",
        "for c in cVals:\n",
        "    svm_polynomial(c)\n",
        "plt.plot(c_svm_poly, acc_train_svm_poly, '.-', color = 'green')\n",
        "plt.plot(c_svm_poly, acc_test_svm_poly, '.-', color = 'red')\n",
        "plt.legend(['Training Accuracy', 'Test Accuracy'])\n",
        "plt.title(\"Predicting MPC with Polynomial SVM on Transformed Data\")\n",
        "plt.xlabel(\"C Value\")\n",
        "plt.ylabel(\"Accuracy (%)\")\n",
        "plt.grid()\n",
        "plt.show()"
      ],
      "execution_count": 40,
      "outputs": [
        {
          "output_type": "stream",
          "name": "stdout",
          "text": [
            "Train Accuracy = 0.611111\n",
            "Test Accuracy = 0.690476\n",
            "Train Accuracy = 0.611111\n",
            "Test Accuracy = 0.690476\n",
            "Train Accuracy = 0.611111\n",
            "Test Accuracy = 0.690476\n",
            "Train Accuracy = 0.615079\n",
            "Test Accuracy = 0.690476\n",
            "Train Accuracy = 0.650794\n",
            "Test Accuracy = 0.500000\n",
            "Train Accuracy = 0.658730\n",
            "Test Accuracy = 0.547619\n",
            "Train Accuracy = 0.611111\n",
            "Test Accuracy = 0.690476\n",
            "Train Accuracy = 0.611111\n",
            "Test Accuracy = 0.690476\n",
            "Train Accuracy = 0.611111\n",
            "Test Accuracy = 0.690476\n",
            "Train Accuracy = 0.615079\n",
            "Test Accuracy = 0.690476\n",
            "Train Accuracy = 0.650794\n",
            "Test Accuracy = 0.500000\n",
            "Train Accuracy = 0.658730\n",
            "Test Accuracy = 0.547619\n"
          ]
        },
        {
          "output_type": "display_data",
          "data": {
            "image/png": "[encoded data removed]",
            "text/plain": [
              "<Figure size 432x288 with 1 Axes>"
            ]
          },
          "metadata": {
            "needs_background": "light"
          }
        }
      ]
    },
    {
      "cell_type": "markdown",
      "metadata": {
        "id": "kLbwY98mIwCf"
      },
      "source": [
        "# SUPERVISED ANALYSIS PART 3: Neural Networks"
      ]
    },
    {
      "cell_type": "markdown",
      "metadata": {
        "id": "rFBfD4ppTL9T"
      },
      "source": [
        "# Neural Network with Sigmoid Activation Function"
      ]
    },
    {
      "cell_type": "code",
      "metadata": {
        "id": "hM4vYxj4Izyc"
      },
      "source": [
        "from sklearn.preprocessing import StandardScaler # we're using the built-in sklearn scaler for our data\n",
        "import numpy.random as r                         # some more useful imports\n",
        "from sklearn.metrics import accuracy_score\n",
        "\n",
        "# modifying our data for the neural network\n",
        "X_scale = StandardScaler()\n",
        "X = X_scale.fit_transform(X)\n",
        "# split up our data\n",
        "X_train, X_test, y_train, y_test = train_test_split(X, Y, test_size=0.25)"
      ],
      "execution_count": 56,
      "outputs": []
    },
    {
      "cell_type": "code",
      "metadata": {
        "id": "GE0AXhbvJNB1"
      },
      "source": [
        "# function for setting up output layer, need 2 output neurons as y is either 0 or 1\n",
        "# we decided with this for our final approach because it yielded better results than when using one output layer\n",
        "def convert_y_to_vect(y):\n",
        "    y_vect = np.zeros((len(y), 2))\n",
        "    for i in range(len(y)):\n",
        "        y_vect[i, y[i]] = 1\n",
        "    return y_vect\n",
        "# converting to vectors\n",
        "y_v_train = convert_y_to_vect(y_train)\n",
        "y_v_test = convert_y_to_vect(y_test)"
      ],
      "execution_count": 44,
      "outputs": []
    },
    {
      "cell_type": "code",
      "metadata": {
        "id": "e4bPRDluJcFL"
      },
      "source": [
        "# function to calculate our sigmoid value\n",
        "def f(z):\n",
        "    return 1 / (1 + np.exp(-z))\n",
        "# function to calculate our sigmoid value\n",
        "def f_deriv(z):\n",
        "    return f(z) * (1 - f(z))\n",
        "\n"
      ],
      "execution_count": 47,
      "outputs": []
    },
    {
      "cell_type": "code",
      "metadata": {
        "id": "Dq4MygCcJmPN"
      },
      "source": [
        "# function to setup and initialize W and b\n",
        "def setup_and_init_weights(nn_structure):\n",
        "    W = {} #creating a dictionary i.e. a set of key: value pairs\n",
        "    b = {}\n",
        "    for l in range(1, len(nn_structure)):\n",
        "        W[l] = r.random_sample((nn_structure[l], nn_structure[l-1]))\n",
        "        b[l] = r.random_sample((nn_structure[l],))\n",
        "    return W, b\n",
        "# function to setup W_step and b_step\n",
        "def init_tri_values(nn_structure):\n",
        "    tri_W = {}\n",
        "    tri_b = {}\n",
        "    for l in range(1, len(nn_structure)):\n",
        "        tri_W[l] = np.zeros((nn_structure[l], nn_structure[l-1]))\n",
        "        tri_b[l] = np.zeros((nn_structure[l],))\n",
        "    return tri_W, tri_b\n",
        "# function to calculate our feed forward of NN\n",
        "def feed_forward(x, W, b):\n",
        "    a = {1: x} \n",
        "    z = { }\n",
        "    for l in range(1, len(W) + 1): # for each layer\n",
        "        node_in = a[l]\n",
        "        z[l+1] = W[l].dot(node_in) + b[l]  # z^(l+1) = W^(l)*a^(l) + b^(l)\n",
        "        a[l+1] = f(z[l+1]) # a^(l+1) = f(z^(l+1))\n",
        "    return a, z\n",
        "# function to calculate our delta for each node in the outer layer\n",
        "def calculate_out_layer_delta(y, a_out, z_out):\n",
        "    return -(y-a_out) * f_deriv(z_out) \n",
        "# function to calculate our delta for each node in the hidden layer\n",
        "def calculate_hidden_delta(delta_plus_1, w_l, z_l):\n",
        "    return np.dot(np.transpose(w_l), delta_plus_1) * f_deriv(z_l)"
      ],
      "execution_count": 48,
      "outputs": []
    },
    {
      "cell_type": "code",
      "metadata": {
        "id": "N66MBw3UJoNC"
      },
      "source": [
        "def train_nn(c, nn_structure, X, y, iter_num=3000, alpha=0.25):\n",
        "    W, b = setup_and_init_weights(nn_structure)\n",
        "    cnt = 0\n",
        "    N = len(y)\n",
        "    avg_cost_func = []\n",
        "    #lambd = lambda regularization parameter for regularized cost function -- if no regularization, set lambd = 0\n",
        "    lambd = 1/c\n",
        "    print('Starting gradient descent for {} iterations'.format(iter_num))\n",
        "    while cnt < iter_num:\n",
        "        if cnt%1000 == 0:\n",
        "            print('Iteration {} of {}'.format(cnt, iter_num))\n",
        "        tri_W, tri_b = init_tri_values(nn_structure)\n",
        "        avg_cost = 0\n",
        "        for i in range(N):\n",
        "            delta = {}\n",
        "            # perform the feed forward pass and return the stored a and z values, to be used in the\n",
        "            # gradient descent step\n",
        "            a, z = feed_forward(X[i, :], W, b)\n",
        "            # loop from nl-1 to 1 backpropagating the errors\n",
        "            for l in range(len(nn_structure), 0, -1):\n",
        "                if l == len(nn_structure):\n",
        "                    delta[l] = calculate_out_layer_delta(y[i,:], a[l], z[l])\n",
        "                    avg_cost += np.linalg.norm((y[i,:]-a[l]))\n",
        "                else:\n",
        "                    if l > 1:\n",
        "                        delta[l] = calculate_hidden_delta(delta[l+1], W[l], z[l])\n",
        "                    # triW^(l) = triW^(l) + delta^(l+1) * transpose(a^(l))\n",
        "                    tri_W[l] += np.dot(delta[l+1][:,np.newaxis], np.transpose(a[l][:,np.newaxis]))# np.newaxis increase the number of dimensions\n",
        "                    # trib^(l) = trib^(l) + delta^(l+1)\n",
        "                    tri_b[l] += delta[l+1]\n",
        "        # perform the gradient descent step for the weights in each layer\n",
        "        for l in range(len(nn_structure) - 1, 0, -1):\n",
        "            W[l] += -alpha * (1.0/N * tri_W[l] + lambd * W[l])\n",
        "            b[l] += -alpha * (1.0/N * tri_b[l])\n",
        "        # complete the average cost calculation\n",
        "        avg_cost = 1.0/N * avg_cost\n",
        "        avg_cost_func.append(avg_cost)\n",
        "        cnt += 1\n",
        "    return W, b, avg_cost_func\n",
        "\n",
        "\n",
        "def predict_y(W, b, X, n_layers):\n",
        "    N = X.shape[0]\n",
        "    y = np.zeros((N,))\n",
        "    for i in range(N):\n",
        "        a, z = feed_forward(X[i, :], W, b)\n",
        "        y[i] = np.argmax(a[n_layers])\n",
        "    return y"
      ],
      "execution_count": 49,
      "outputs": []
    },
    {
      "cell_type": "code",
      "metadata": {
        "colab": {
          "base_uri": "https://localhost:8080/",
          "height": 694
        },
        "id": "8I-mEdiYJ4jv",
        "outputId": "fb16d860-d7e8-4599-f6e1-e92748d84412"
      },
      "source": [
        "nn_structure = [9, 10, 2] # To change the number of hidden layers, change the value of nn_structure[1]\n",
        "cVals = [0.0001, 0.001, 0.01, 0.1, 1, 10]\n",
        "train_accuracies = []\n",
        "test_accuracies = []\n",
        "# train the NN\n",
        "for c in cVals:\n",
        "  W, b, avg_cost_func = train_nn(c, nn_structure, X_train, y_v_train, 1000)\n",
        "  y_pred_train = predict_y(W, b, X_train, 3)\n",
        "  y_pred_test = predict_y(W, b, X_test, 3)\n",
        "  train_accuracies.append((accuracy_score(y_train, y_pred_train) * 100))\n",
        "  test_accuracies.append((accuracy_score(y_test, y_pred_test) * 100))\n",
        "\n",
        "plt.plot(cVals, train_accuracies, '.-', color = 'green')\n",
        "plt.plot(cVals, test_accuracies, '.-', color = 'red')\n",
        "plt.legend(['Training Accuracy', 'Test Accuracy'])\n",
        "plt.title(\"Predicting MPC with Neural Network\")\n",
        "plt.xlabel(\"C Value\")\n",
        "plt.ylabel(\"Accuracy (%)\")\n",
        "plt.grid()\n",
        "plt.show()\n",
        "\n"
      ],
      "execution_count": 57,
      "outputs": [
        {
          "output_type": "stream",
          "name": "stdout",
          "text": [
            "Starting gradient descent for 1000 iterations\n",
            "Iteration 0 of 1000\n"
          ]
        },
        {
          "output_type": "stream",
          "name": "stderr",
          "text": [
            "/usr/local/lib/python3.7/dist-packages/ipykernel_launcher.py:3: RuntimeWarning: overflow encountered in exp\n",
            "  This is separate from the ipykernel package so we can avoid doing imports until\n",
            "/usr/local/lib/python3.7/dist-packages/ipykernel_launcher.py:33: RuntimeWarning: overflow encountered in multiply\n"
          ]
        },
        {
          "output_type": "stream",
          "name": "stdout",
          "text": [
            "Starting gradient descent for 1000 iterations\n",
            "Iteration 0 of 1000\n"
          ]
        },
        {
          "output_type": "stream",
          "name": "stderr",
          "text": [
            "/usr/local/lib/python3.7/dist-packages/ipykernel_launcher.py:3: RuntimeWarning: overflow encountered in exp\n",
            "  This is separate from the ipykernel package so we can avoid doing imports until\n",
            "/usr/local/lib/python3.7/dist-packages/ipykernel_launcher.py:33: RuntimeWarning: overflow encountered in multiply\n"
          ]
        },
        {
          "output_type": "stream",
          "name": "stdout",
          "text": [
            "Starting gradient descent for 1000 iterations\n",
            "Iteration 0 of 1000\n"
          ]
        },
        {
          "output_type": "stream",
          "name": "stderr",
          "text": [
            "/usr/local/lib/python3.7/dist-packages/ipykernel_launcher.py:3: RuntimeWarning: overflow encountered in exp\n",
            "  This is separate from the ipykernel package so we can avoid doing imports until\n",
            "/usr/local/lib/python3.7/dist-packages/ipykernel_launcher.py:33: RuntimeWarning: overflow encountered in multiply\n"
          ]
        },
        {
          "output_type": "stream",
          "name": "stdout",
          "text": [
            "Starting gradient descent for 1000 iterations\n",
            "Iteration 0 of 1000\n"
          ]
        },
        {
          "output_type": "stream",
          "name": "stderr",
          "text": [
            "/usr/local/lib/python3.7/dist-packages/ipykernel_launcher.py:3: RuntimeWarning: overflow encountered in exp\n",
            "  This is separate from the ipykernel package so we can avoid doing imports until\n"
          ]
        },
        {
          "output_type": "stream",
          "name": "stdout",
          "text": [
            "Starting gradient descent for 1000 iterations\n",
            "Iteration 0 of 1000\n",
            "Starting gradient descent for 1000 iterations\n",
            "Iteration 0 of 1000\n"
          ]
        },
        {
          "output_type": "display_data",
          "data": {
            "image/png": "[encoded data removed]",
            "text/plain": [
              "<Figure size 432x288 with 1 Axes>"
            ]
          },
          "metadata": {
            "needs_background": "light"
          }
        }
      ]
    },
    {
      "cell_type": "markdown",
      "metadata": {
        "id": "4jVGJlxxTIbz"
      },
      "source": [
        "# Neural Network with Sigmoid Activation Function on Polynomial Transformed Data"
      ]
    },
    {
      "cell_type": "code",
      "metadata": {
        "colab": {
          "base_uri": "https://localhost:8080/",
          "height": 694
        },
        "id": "YurtF85xTaPx",
        "outputId": "e27881ac-6a6b-4394-d938-dbb5bd4fc4d5"
      },
      "source": [
        "i, inputlayer = X_transformed_train.shape\n",
        "nn_structure = [inputlayer, 10, 2] # To change the number of hidden layers, change the value of nn_structure[1]\n",
        "cVals = [0.0001, 0.001, 0.01, 0.1, 1, 10]\n",
        "train_accuracies = []\n",
        "test_accuracies = []\n",
        "# train the NN\n",
        "for c in cVals:\n",
        "  W, b, avg_cost_func = train_nn(c, nn_structure, X_transformed_train, y_v_train, 1000)\n",
        "  y_pred_train = predict_y(W, b, X_transformed_train, 3)\n",
        "  y_pred_test = predict_y(W, b, X_transformed_test, 3)\n",
        "  train_accuracies.append((accuracy_score(y_train, y_pred_train) * 100))\n",
        "  test_accuracies.append((accuracy_score(y_test, y_pred_test) * 100))\n",
        "\n",
        "plt.plot(cVals, train_accuracies, '.-', color = 'green')\n",
        "plt.plot(cVals, test_accuracies, '.-', color = 'red')\n",
        "plt.legend(['Training Accuracy', 'Test Accuracy'])\n",
        "plt.title(\"Predicting MPC with Neural Network on Transformed Data\")\n",
        "plt.xlabel(\"C Value\")\n",
        "plt.ylabel(\"Accuracy (%)\")\n",
        "plt.grid()\n",
        "plt.show()"
      ],
      "execution_count": 62,
      "outputs": [
        {
          "output_type": "stream",
          "name": "stdout",
          "text": [
            "Starting gradient descent for 1000 iterations\n",
            "Iteration 0 of 1000\n"
          ]
        },
        {
          "output_type": "stream",
          "name": "stderr",
          "text": [
            "/usr/local/lib/python3.7/dist-packages/ipykernel_launcher.py:3: RuntimeWarning: overflow encountered in exp\n",
            "  This is separate from the ipykernel package so we can avoid doing imports until\n",
            "/usr/local/lib/python3.7/dist-packages/ipykernel_launcher.py:33: RuntimeWarning: overflow encountered in multiply\n"
          ]
        },
        {
          "output_type": "stream",
          "name": "stdout",
          "text": [
            "Starting gradient descent for 1000 iterations\n",
            "Iteration 0 of 1000\n"
          ]
        },
        {
          "output_type": "stream",
          "name": "stderr",
          "text": [
            "/usr/local/lib/python3.7/dist-packages/ipykernel_launcher.py:3: RuntimeWarning: overflow encountered in exp\n",
            "  This is separate from the ipykernel package so we can avoid doing imports until\n",
            "/usr/local/lib/python3.7/dist-packages/ipykernel_launcher.py:33: RuntimeWarning: overflow encountered in multiply\n"
          ]
        },
        {
          "output_type": "stream",
          "name": "stdout",
          "text": [
            "Starting gradient descent for 1000 iterations\n",
            "Iteration 0 of 1000\n"
          ]
        },
        {
          "output_type": "stream",
          "name": "stderr",
          "text": [
            "/usr/local/lib/python3.7/dist-packages/ipykernel_launcher.py:3: RuntimeWarning: overflow encountered in exp\n",
            "  This is separate from the ipykernel package so we can avoid doing imports until\n",
            "/usr/local/lib/python3.7/dist-packages/ipykernel_launcher.py:33: RuntimeWarning: overflow encountered in multiply\n"
          ]
        },
        {
          "output_type": "stream",
          "name": "stdout",
          "text": [
            "Starting gradient descent for 1000 iterations\n",
            "Iteration 0 of 1000\n"
          ]
        },
        {
          "output_type": "stream",
          "name": "stderr",
          "text": [
            "/usr/local/lib/python3.7/dist-packages/ipykernel_launcher.py:3: RuntimeWarning: overflow encountered in exp\n",
            "  This is separate from the ipykernel package so we can avoid doing imports until\n"
          ]
        },
        {
          "output_type": "stream",
          "name": "stdout",
          "text": [
            "Starting gradient descent for 1000 iterations\n",
            "Iteration 0 of 1000\n",
            "Starting gradient descent for 1000 iterations\n",
            "Iteration 0 of 1000\n"
          ]
        },
        {
          "output_type": "display_data",
          "data": {
            "image/png": "[encoded data removed]",
            "text/plain": [
              "<Figure size 432x288 with 1 Axes>"
            ]
          },
          "metadata": {
            "needs_background": "light"
          }
        }
      ]
    },
    {
      "cell_type": "markdown",
      "metadata": {
        "id": "N3aqBTseVOxG"
      },
      "source": [
        "# Neural Network with TanH Activation Function\n",
        "\n"
      ]
    },
    {
      "cell_type": "code",
      "metadata": {
        "id": "JZDjgcaDVWj2"
      },
      "source": [
        "# function to calculate our tanh value\n",
        "def f_tanh(z):\n",
        "    return (np.exp(z) - np.exp(-z)) / (np.exp(z) + np.exp(-z))\n",
        "# function to calculate our tanh derivative value\n",
        "def f_tanh_deriv(z):\n",
        "    return 1 - (f(z) ** 2)"
      ],
      "execution_count": 63,
      "outputs": []
    },
    {
      "cell_type": "code",
      "metadata": {
        "id": "tzIugDbpVauY"
      },
      "source": [
        "# function to calculate our feed forward of NN with tanh\n",
        "def feed_forward_tanh(x, W, b):\n",
        "    a = {1: x} \n",
        "    z = { }\n",
        "    for l in range(1, len(W) + 1): # for each layer\n",
        "        node_in = a[l]\n",
        "        z[l+1] = W[l].dot(node_in) + b[l]  # z^(l+1) = W^(l)*a^(l) + b^(l)\n",
        "        a[l+1] = f_tanh(z[l+1]) # a^(l+1) = f(z^(l+1))\n",
        "    return a, z\n",
        "# function to calculate our delta for each node in the outer layer\n",
        "def calculate_out_layer_delta_tanh(y, a_out, z_out):\n",
        "    return -(y-a_out) * f_tanh_deriv(z_out) \n",
        "# function to calculate our delta for each node in the hidden layer\n",
        "def calculate_hidden_delta_tanh(delta_plus_1, w_l, z_l):\n",
        "    return np.dot(np.transpose(w_l), delta_plus_1) * f_tanh_deriv(z_l)\n"
      ],
      "execution_count": 64,
      "outputs": []
    },
    {
      "cell_type": "code",
      "metadata": {
        "id": "reZip8KwVhFT"
      },
      "source": [
        "# function for back propigating and training our NN\n",
        "def train_nn_tanh(c, nn_structure, X, y, iter_num=3000, alpha=0.25):\n",
        "    W, b = setup_and_init_weights(nn_structure)\n",
        "    cnt = 0\n",
        "    #lambd = lambda regularization parameter for regularized cost function -- if no regularization, set lambd = 0\n",
        "    lambd = 1/c\n",
        "    N = len(y)\n",
        "    avg_cost_func = []\n",
        "    print('Starting gradient descent for {} iterations'.format(iter_num))\n",
        "    while cnt < iter_num:\n",
        "        if cnt%1000 == 0:\n",
        "            print('Iteration {} of {}'.format(cnt, iter_num))\n",
        "        tri_W, tri_b = init_tri_values(nn_structure)\n",
        "        avg_cost = 0\n",
        "        for i in range(N):\n",
        "            delta = {}\n",
        "            # perform the feed forward pass and return the stored a and z values, to be used in the\n",
        "            # gradient descent step\n",
        "            a, z = feed_forward_tanh(X[i, :], W, b)\n",
        "            # loop from nl-1 to 1 backpropagating the errors\n",
        "            for l in range(len(nn_structure), 0, -1):\n",
        "                if l == len(nn_structure):\n",
        "                    delta[l] = calculate_out_layer_delta_tanh(y[i,:], a[l], z[l])\n",
        "                    avg_cost += np.linalg.norm((y[i,:]-a[l]))\n",
        "                else:\n",
        "                    if l > 1:\n",
        "                        delta[l] = calculate_hidden_delta_tanh(delta[l+1], W[l], z[l])\n",
        "                    # triW^(l) = triW^(l) + delta^(l+1) * transpose(a^(l))\n",
        "                    tri_W[l] += np.dot(delta[l+1][:,np.newaxis], np.transpose(a[l][:,np.newaxis]))# np.newaxis increase the number of dimensions\n",
        "                    # trib^(l) = trib^(l) + delta^(l+1)\n",
        "                    tri_b[l] += delta[l+1]\n",
        "        # perform the gradient descent step for the weights in each layer\n",
        "        for l in range(len(nn_structure) - 1, 0, -1):\n",
        "            W[l] += -alpha * (1.0/N * tri_W[l] + lambd * W[l])\n",
        "            b[l] += -alpha * (1.0/N * tri_b[l])\n",
        "        # complete the average cost calculation\n",
        "        avg_cost = 1.0/N * avg_cost\n",
        "        avg_cost_func.append(avg_cost)\n",
        "        cnt += 1\n",
        "    return W, b, avg_cost_func\n",
        "# running our NN\n",
        "def predict_y_tanh(W, b, X, n_layers):\n",
        "    N = X.shape[0]\n",
        "    y = np.zeros((N,))\n",
        "    for i in range(N):\n",
        "        a, z = feed_forward_tanh(X[i, :], W, b)\n",
        "        y[i] = np.argmax(a[n_layers])\n",
        "    return y"
      ],
      "execution_count": 65,
      "outputs": []
    },
    {
      "cell_type": "code",
      "metadata": {
        "colab": {
          "base_uri": "https://localhost:8080/",
          "height": 781
        },
        "id": "U4ZtfSA9WMCp",
        "outputId": "25b7c23c-c27d-4dc4-fe2e-e226af65419d"
      },
      "source": [
        "nn_structure = [9, 10, 2] # To change the number of hidden layers, change the value of nn_structure[1]\n",
        "cVals = [0.0001, 0.001, 0.01, 0.1, 1, 10]\n",
        "train_accuracies = []\n",
        "test_accuracies = []\n",
        "# train the NN\n",
        "for c in cVals:\n",
        "  W, b, avg_cost_func = train_nn_tanh(c, nn_structure, X_train, y_v_train, 1000)\n",
        "  y_pred_train = predict_y_tanh(W, b, X_train, 3)\n",
        "  y_pred_test = predict_y_tanh(W, b, X_test, 3)\n",
        "  train_accuracies.append((accuracy_score(y_train, y_pred_train) * 100))\n",
        "  test_accuracies.append((accuracy_score(y_test, y_pred_test) * 100))\n",
        "\n",
        "plt.plot(cVals, train_accuracies, '.-', color = 'green')\n",
        "plt.plot(cVals, test_accuracies, '.-', color = 'red')\n",
        "plt.legend(['Training Accuracy', 'Test Accuracy'])\n",
        "plt.title(\"Predicting MPC with TanH Neural Network\")\n",
        "plt.xlabel(\"C Value\")\n",
        "plt.ylabel(\"Accuracy (%)\")\n",
        "plt.grid()\n",
        "plt.show()"
      ],
      "execution_count": 66,
      "outputs": [
        {
          "output_type": "stream",
          "name": "stdout",
          "text": [
            "Starting gradient descent for 1000 iterations\n",
            "Iteration 0 of 1000\n"
          ]
        },
        {
          "output_type": "stream",
          "name": "stderr",
          "text": [
            "/usr/local/lib/python3.7/dist-packages/ipykernel_launcher.py:3: RuntimeWarning: overflow encountered in exp\n",
            "  This is separate from the ipykernel package so we can avoid doing imports until\n",
            "/usr/local/lib/python3.7/dist-packages/ipykernel_launcher.py:3: RuntimeWarning: invalid value encountered in true_divide\n",
            "  This is separate from the ipykernel package so we can avoid doing imports until\n"
          ]
        },
        {
          "output_type": "stream",
          "name": "stdout",
          "text": [
            "Starting gradient descent for 1000 iterations\n",
            "Iteration 0 of 1000\n"
          ]
        },
        {
          "output_type": "stream",
          "name": "stderr",
          "text": [
            "/usr/local/lib/python3.7/dist-packages/ipykernel_launcher.py:3: RuntimeWarning: overflow encountered in exp\n",
            "  This is separate from the ipykernel package so we can avoid doing imports until\n",
            "/usr/local/lib/python3.7/dist-packages/ipykernel_launcher.py:3: RuntimeWarning: invalid value encountered in true_divide\n",
            "  This is separate from the ipykernel package so we can avoid doing imports until\n"
          ]
        },
        {
          "output_type": "stream",
          "name": "stdout",
          "text": [
            "Starting gradient descent for 1000 iterations\n",
            "Iteration 0 of 1000\n"
          ]
        },
        {
          "output_type": "stream",
          "name": "stderr",
          "text": [
            "/usr/local/lib/python3.7/dist-packages/ipykernel_launcher.py:3: RuntimeWarning: overflow encountered in exp\n",
            "  This is separate from the ipykernel package so we can avoid doing imports until\n",
            "/usr/local/lib/python3.7/dist-packages/ipykernel_launcher.py:3: RuntimeWarning: invalid value encountered in true_divide\n",
            "  This is separate from the ipykernel package so we can avoid doing imports until\n"
          ]
        },
        {
          "output_type": "stream",
          "name": "stdout",
          "text": [
            "Starting gradient descent for 1000 iterations\n",
            "Iteration 0 of 1000\n"
          ]
        },
        {
          "output_type": "stream",
          "name": "stderr",
          "text": [
            "/usr/local/lib/python3.7/dist-packages/ipykernel_launcher.py:3: RuntimeWarning: overflow encountered in exp\n",
            "  This is separate from the ipykernel package so we can avoid doing imports until\n",
            "/usr/local/lib/python3.7/dist-packages/ipykernel_launcher.py:3: RuntimeWarning: invalid value encountered in true_divide\n",
            "  This is separate from the ipykernel package so we can avoid doing imports until\n"
          ]
        },
        {
          "output_type": "stream",
          "name": "stdout",
          "text": [
            "Starting gradient descent for 1000 iterations\n",
            "Iteration 0 of 1000\n",
            "Starting gradient descent for 1000 iterations\n",
            "Iteration 0 of 1000\n"
          ]
        },
        {
          "output_type": "display_data",
          "data": {
            "image/png": "[encoded data removed]",
            "text/plain": [
              "<Figure size 432x288 with 1 Axes>"
            ]
          },
          "metadata": {
            "needs_background": "light"
          }
        }
      ]
    },
    {
      "cell_type": "markdown",
      "metadata": {
        "id": "NIjnEEwuXU4_"
      },
      "source": [
        "# Neural Network with TanH Activation Function on Polynomial Transformed Data\n"
      ]
    },
    {
      "cell_type": "code",
      "metadata": {
        "colab": {
          "base_uri": "https://localhost:8080/",
          "height": 781
        },
        "id": "lOPxUIj3Xheg",
        "outputId": "deb7c39b-63a6-4a4b-d562-740761e167b9"
      },
      "source": [
        "i, inputlayer = X_transformed_train.shape\n",
        "nn_structure = [inputlayer, 10, 2] # To change the number of hidden layers, change the value of nn_structure[1]\n",
        "cVals = [0.0001, 0.001, 0.01, 0.1, 1, 10]\n",
        "train_accuracies = []\n",
        "test_accuracies = []\n",
        "# train the NN\n",
        "for c in cVals:\n",
        "  W, b, avg_cost_func = train_nn_tanh(c, nn_structure, X_transformed_train, y_v_train, 1000)\n",
        "  y_pred_train = predict_y_tanh(W, b, X_transformed_train, 3)\n",
        "  y_pred_test = predict_y_tanh(W, b, X_transformed_test, 3)\n",
        "  train_accuracies.append((accuracy_score(y_train, y_pred_train) * 100))\n",
        "  test_accuracies.append((accuracy_score(y_test, y_pred_test) * 100))\n",
        "\n",
        "plt.plot(cVals, train_accuracies, '.-', color = 'green')\n",
        "plt.plot(cVals, test_accuracies, '.-', color = 'red')\n",
        "plt.legend(['Training Accuracy', 'Test Accuracy'])\n",
        "plt.title(\"Predicting MPC with TanH Neural Network on Transformed Data\")\n",
        "plt.xlabel(\"C Value\")\n",
        "plt.ylabel(\"Accuracy (%)\")\n",
        "plt.grid()\n",
        "plt.show()"
      ],
      "execution_count": 67,
      "outputs": [
        {
          "output_type": "stream",
          "name": "stdout",
          "text": [
            "Starting gradient descent for 1000 iterations\n",
            "Iteration 0 of 1000\n"
          ]
        },
        {
          "output_type": "stream",
          "name": "stderr",
          "text": [
            "/usr/local/lib/python3.7/dist-packages/ipykernel_launcher.py:3: RuntimeWarning: overflow encountered in exp\n",
            "  This is separate from the ipykernel package so we can avoid doing imports until\n",
            "/usr/local/lib/python3.7/dist-packages/ipykernel_launcher.py:3: RuntimeWarning: invalid value encountered in true_divide\n",
            "  This is separate from the ipykernel package so we can avoid doing imports until\n"
          ]
        },
        {
          "output_type": "stream",
          "name": "stdout",
          "text": [
            "Starting gradient descent for 1000 iterations\n",
            "Iteration 0 of 1000\n"
          ]
        },
        {
          "output_type": "stream",
          "name": "stderr",
          "text": [
            "/usr/local/lib/python3.7/dist-packages/ipykernel_launcher.py:3: RuntimeWarning: overflow encountered in exp\n",
            "  This is separate from the ipykernel package so we can avoid doing imports until\n",
            "/usr/local/lib/python3.7/dist-packages/ipykernel_launcher.py:3: RuntimeWarning: invalid value encountered in true_divide\n",
            "  This is separate from the ipykernel package so we can avoid doing imports until\n"
          ]
        },
        {
          "output_type": "stream",
          "name": "stdout",
          "text": [
            "Starting gradient descent for 1000 iterations\n",
            "Iteration 0 of 1000\n"
          ]
        },
        {
          "output_type": "stream",
          "name": "stderr",
          "text": [
            "/usr/local/lib/python3.7/dist-packages/ipykernel_launcher.py:3: RuntimeWarning: overflow encountered in exp\n",
            "  This is separate from the ipykernel package so we can avoid doing imports until\n",
            "/usr/local/lib/python3.7/dist-packages/ipykernel_launcher.py:3: RuntimeWarning: invalid value encountered in true_divide\n",
            "  This is separate from the ipykernel package so we can avoid doing imports until\n"
          ]
        },
        {
          "output_type": "stream",
          "name": "stdout",
          "text": [
            "Starting gradient descent for 1000 iterations\n",
            "Iteration 0 of 1000\n"
          ]
        },
        {
          "output_type": "stream",
          "name": "stderr",
          "text": [
            "/usr/local/lib/python3.7/dist-packages/ipykernel_launcher.py:3: RuntimeWarning: overflow encountered in exp\n",
            "  This is separate from the ipykernel package so we can avoid doing imports until\n",
            "/usr/local/lib/python3.7/dist-packages/ipykernel_launcher.py:3: RuntimeWarning: invalid value encountered in true_divide\n",
            "  This is separate from the ipykernel package so we can avoid doing imports until\n"
          ]
        },
        {
          "output_type": "stream",
          "name": "stdout",
          "text": [
            "Starting gradient descent for 1000 iterations\n",
            "Iteration 0 of 1000\n",
            "Starting gradient descent for 1000 iterations\n",
            "Iteration 0 of 1000\n"
          ]
        },
        {
          "output_type": "display_data",
          "data": {
            "image/png": "[encoded data removed]",
            "text/plain": [
              "<Figure size 432x288 with 1 Axes>"
            ]
          },
          "metadata": {
            "needs_background": "light"
          }
        }
      ]
    },
    {
      "cell_type": "code",
      "metadata": {
        "colab": {
          "base_uri": "https://localhost:8080/"
        },
        "id": "ABFZLSGjYXdt",
        "outputId": "93963171-6246-44ee-9525-df876d7db8c8"
      },
      "source": [
        ""
      ],
      "execution_count": 68,
      "outputs": [
        {
          "output_type": "stream",
          "name": "stdout",
          "text": [
            "[37.698412698412696, 37.698412698412696, 37.698412698412696, 37.698412698412696, 62.301587301587304, 62.301587301587304]\n",
            "[34.523809523809526, 34.523809523809526, 34.523809523809526, 34.523809523809526, 65.47619047619048, 65.47619047619048]\n"
          ]
        }
      ]
    }
  ]
}