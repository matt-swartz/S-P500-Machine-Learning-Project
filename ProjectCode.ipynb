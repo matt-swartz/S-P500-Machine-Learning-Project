{
  "nbformat": 4,
  "nbformat_minor": 0,
  "metadata": {
    "colab": {
      "name": "ProjectCode.ipynb",
      "provenance": []
    },
    "kernelspec": {
      "name": "python3",
      "display_name": "Python 3"
    },
    "language_info": {
      "name": "python"
    }
  },
  "cells": [
    {
      "cell_type": "markdown",
      "metadata": {
        "id": "QqF19QG1U_JN"
      },
      "source": [
        "# CS-UY4536 Final Project: Predicting SP500 Monthly Price Shifts\n",
        "Done by Matthew Swartz and Sasha Agapiev for 12/8/21\n",
        "---\n",
        "\n"
      ]
    },
    {
      "cell_type": "markdown",
      "metadata": {
        "id": "3d6sHnPvUv_s"
      },
      "source": [
        "# Importing Libraries"
      ]
    },
    {
      "cell_type": "code",
      "metadata": {
        "id": "C6DY-wvXUNoo"
      },
      "source": [
        "import numpy as np\n",
        "import pandas as pd\n",
        "\n",
        "# Import Logistic Regression libraries\n",
        "import sklearn\n",
        "from sklearn import linear_model\n",
        "from sklearn import datasets\n",
        "from sklearn.linear_model import LogisticRegression # importing Sklearn's logistic regression's module\n",
        "from sklearn import preprocessing # preprossing is what we do with the data before we run the learning algorithm\n",
        "from sklearn.preprocessing import PolynomialFeatures\n",
        "from sklearn.model_selection import train_test_split \n",
        "\n",
        "# Import plotting libraries \n",
        "import matplotlib.pyplot as plt\n",
        "from scipy import stats\n",
        "import seaborn as sns\n",
        "%matplotlib inline"
      ],
      "execution_count": 51,
      "outputs": []
    },
    {
      "cell_type": "code",
      "metadata": {
        "colab": {
          "base_uri": "https://localhost:8080/",
          "height": 238
        },
        "id": "tQScAHV2UtDQ",
        "outputId": "c5bd5094-52ce-428e-83b9-16f38914acf5"
      },
      "source": [
        "names =[\n",
        "    'DATE', 'PRICE', 'DIVIDEND', 'EARNINGS', 'CPI', 'LIR', \n",
        "    'RP',  'RD', 'RE', 'PE10', 'MPC'\n",
        "]\n",
        "\n",
        "# read in our S&P data\n",
        "df = pd.read_csv('data_csv.csv', header=0, names=names, na_values='?')\n",
        "# remove na values\n",
        "df = df.dropna()\n",
        "# encode monthly percent change where positive month = 1, negative month = 0\n",
        "df['MPC'] = np.where((df.MPC)>=0,1,0)\n",
        "\n",
        "# checking data\n",
        "df.head(6)\n",
        "# print(df.shape)\n",
        "# num_samples = df.shape[0]\n",
        "# num_attributes = df.shape[1]\n",
        "# print(num_samples, num_attributes)"
      ],
      "execution_count": 52,
      "outputs": [
        {
          "output_type": "execute_result",
          "data": {
            "text/html": [
              "<div>\n",
              "<style scoped>\n",
              "    .dataframe tbody tr th:only-of-type {\n",
              "        vertical-align: middle;\n",
              "    }\n",
              "\n",
              "    .dataframe tbody tr th {\n",
              "        vertical-align: top;\n",
              "    }\n",
              "\n",
              "    .dataframe thead th {\n",
              "        text-align: right;\n",
              "    }\n",
              "</style>\n",
              "<table border=\"1\" class=\"dataframe\">\n",
              "  <thead>\n",
              "    <tr style=\"text-align: right;\">\n",
              "      <th></th>\n",
              "      <th>DATE</th>\n",
              "      <th>PRICE</th>\n",
              "      <th>DIVIDEND</th>\n",
              "      <th>EARNINGS</th>\n",
              "      <th>CPI</th>\n",
              "      <th>LIR</th>\n",
              "      <th>RP</th>\n",
              "      <th>RD</th>\n",
              "      <th>RE</th>\n",
              "      <th>PE10</th>\n",
              "      <th>MPC</th>\n",
              "    </tr>\n",
              "  </thead>\n",
              "  <tbody>\n",
              "    <tr>\n",
              "      <th>0</th>\n",
              "      <td>1/1/90</td>\n",
              "      <td>339.97</td>\n",
              "      <td>11.14</td>\n",
              "      <td>22.49</td>\n",
              "      <td>127.4</td>\n",
              "      <td>8.21</td>\n",
              "      <td>666.69</td>\n",
              "      <td>21.85</td>\n",
              "      <td>44.10</td>\n",
              "      <td>17.05</td>\n",
              "      <td>0</td>\n",
              "    </tr>\n",
              "    <tr>\n",
              "      <th>1</th>\n",
              "      <td>2/1/90</td>\n",
              "      <td>330.45</td>\n",
              "      <td>11.23</td>\n",
              "      <td>22.08</td>\n",
              "      <td>128.0</td>\n",
              "      <td>8.47</td>\n",
              "      <td>644.99</td>\n",
              "      <td>21.92</td>\n",
              "      <td>43.10</td>\n",
              "      <td>16.51</td>\n",
              "      <td>1</td>\n",
              "    </tr>\n",
              "    <tr>\n",
              "      <th>2</th>\n",
              "      <td>3/1/90</td>\n",
              "      <td>338.46</td>\n",
              "      <td>11.32</td>\n",
              "      <td>21.67</td>\n",
              "      <td>128.7</td>\n",
              "      <td>8.59</td>\n",
              "      <td>657.03</td>\n",
              "      <td>21.97</td>\n",
              "      <td>42.07</td>\n",
              "      <td>16.83</td>\n",
              "      <td>0</td>\n",
              "    </tr>\n",
              "    <tr>\n",
              "      <th>3</th>\n",
              "      <td>4/1/90</td>\n",
              "      <td>338.18</td>\n",
              "      <td>11.44</td>\n",
              "      <td>21.53</td>\n",
              "      <td>128.9</td>\n",
              "      <td>8.79</td>\n",
              "      <td>655.46</td>\n",
              "      <td>22.17</td>\n",
              "      <td>41.74</td>\n",
              "      <td>16.81</td>\n",
              "      <td>1</td>\n",
              "    </tr>\n",
              "    <tr>\n",
              "      <th>4</th>\n",
              "      <td>5/1/90</td>\n",
              "      <td>350.25</td>\n",
              "      <td>11.55</td>\n",
              "      <td>21.40</td>\n",
              "      <td>129.2</td>\n",
              "      <td>8.76</td>\n",
              "      <td>677.28</td>\n",
              "      <td>22.34</td>\n",
              "      <td>41.38</td>\n",
              "      <td>17.39</td>\n",
              "      <td>1</td>\n",
              "    </tr>\n",
              "    <tr>\n",
              "      <th>5</th>\n",
              "      <td>6/1/90</td>\n",
              "      <td>360.39</td>\n",
              "      <td>11.66</td>\n",
              "      <td>21.26</td>\n",
              "      <td>129.9</td>\n",
              "      <td>8.48</td>\n",
              "      <td>693.13</td>\n",
              "      <td>22.43</td>\n",
              "      <td>40.89</td>\n",
              "      <td>17.82</td>\n",
              "      <td>0</td>\n",
              "    </tr>\n",
              "  </tbody>\n",
              "</table>\n",
              "</div>"
            ],
            "text/plain": [
              "     DATE   PRICE  DIVIDEND  EARNINGS    CPI  ...      RP     RD     RE   PE10  MPC\n",
              "0  1/1/90  339.97     11.14     22.49  127.4  ...  666.69  21.85  44.10  17.05    0\n",
              "1  2/1/90  330.45     11.23     22.08  128.0  ...  644.99  21.92  43.10  16.51    1\n",
              "2  3/1/90  338.46     11.32     21.67  128.7  ...  657.03  21.97  42.07  16.83    0\n",
              "3  4/1/90  338.18     11.44     21.53  128.9  ...  655.46  22.17  41.74  16.81    1\n",
              "4  5/1/90  350.25     11.55     21.40  129.2  ...  677.28  22.34  41.38  17.39    1\n",
              "5  6/1/90  360.39     11.66     21.26  129.9  ...  693.13  22.43  40.89  17.82    0\n",
              "\n",
              "[6 rows x 11 columns]"
            ]
          },
          "metadata": {},
          "execution_count": 52
        }
      ]
    },
    {
      "cell_type": "markdown",
      "metadata": {
        "id": "Hzx2lEkrWCjC"
      },
      "source": [
        "# SUPERVISED ANALYSIS PART 1: Logistic Regression"
      ]
    },
    {
      "cell_type": "code",
      "metadata": {
        "id": "bkzLri5NWIRZ"
      },
      "source": [
        "# Editing dataframe to get our feature and target array \n",
        "\n",
        "# Convert the df data frame into a numpy array named df2\n",
        "df2 = df.to_numpy()\n",
        "# Select all rows and first 11 columns as X from df2\n",
        "X = df2[:, 1:10]\n",
        "# Select all rows and monthly percent change column as target\n",
        "Y = df2[:, 10:]\n",
        "# added to flatten y as I was getting an error message\n",
        "Y = np.ravel(Y)\n",
        "Y = Y.astype('int')\n"
      ],
      "execution_count": 53,
      "outputs": []
    },
    {
      "cell_type": "code",
      "metadata": {
        "id": "ZNf_A-FCXemd"
      },
      "source": [
        "# Using built-in preprocessing function to scale the X data \n",
        "X_scale = preprocessing.scale(X)"
      ],
      "execution_count": 54,
      "outputs": []
    },
    {
      "cell_type": "code",
      "metadata": {
        "id": "FkXAS0CgWIXD"
      },
      "source": [
        "# Splitting the dataset into training and test data\n",
        "# 336 training examples, and we decided on a 75/25 split for training and testing\n",
        "X_train = X_scale[:252]\n",
        "Y_train = Y[:252]\n",
        "X_test = X_scale[252:]\n",
        "Y_test = Y[252:]\n"
      ],
      "execution_count": 55,
      "outputs": []
    },
    {
      "cell_type": "code",
      "metadata": {
        "id": "K9j9GvYvuPoe"
      },
      "source": [
        "# Standard Logistic Regression \n",
        "\n",
        "# Initialize an empty list to store values of training set accuracy.\n",
        "acc_train_logreg = [] \n",
        "# Initialize an empty list to store values of test set accuracy.\n",
        "acc_test_logreg = []\n",
        "# Initialize an empty list to store different values of parameter 'iter'.\n",
        "iteration_values = []\n",
        "\n",
        "# This function creates a standard logreg model using sklearn's linear_model module\n",
        "# The code in standard_logreg_model is inspired by code from previous homework assignments\n",
        "# It takes, as arguments: iter(desired number of max_iterations), X_train (training data features), Y_train (training data targets)\n",
        "#     X_test (testing data features), Y_test (testing data targets)\n",
        "def standard_logreg_model(iter , X_train, Y_train, X_test, Y_test):\n",
        "    # Create the Logistic Regression model object with no penalty \n",
        "    # NOTE: Since there's no regularization in the standard logistic regression, the c values are insignificant\n",
        "    logreg = linear_model.LogisticRegression(penalty='none', solver='saga', max_iter=iter)\n",
        "    \n",
        "    # Fit the model on the training set\n",
        "    logreg.fit(X_train, Y_train)\n",
        "    \n",
        "    # Find the prediction on training set\n",
        "    Yhat_train = logreg.predict(X_train)\n",
        "    \n",
        "    # Adding training accuracy to acc_train_logreg\n",
        "    acc_train = logreg.score(X_train, Y_train)\n",
        "    acc_train_logreg.append(acc_train)\n",
        "    print(\"Accuracy on training data = %f\" % acc_train)\n",
        "    \n",
        "    # Find the prediction on test set\n",
        "    Yhat_test = logreg.predict(X_test)\n",
        "    \n",
        "    # Adding testing accuracy to acc_test_logreg\n",
        "    acc_test = logreg.score(X_test, Y_test)\n",
        "    acc_test_logreg.append(acc_test)\n",
        "    print(\"Accuracy on test data = %f\" % acc_test)\n",
        "    \n",
        "    # Appending value of c for graphing purposes\n",
        "    iteration_values.append(iter)\n"
      ],
      "execution_count": 56,
      "outputs": []
    },
    {
      "cell_type": "code",
      "metadata": {
        "colab": {
          "base_uri": "https://localhost:8080/"
        },
        "id": "P5_YatDJu4Z7",
        "outputId": "03da884b-722b-4f2c-b199-5cf943497aaf"
      },
      "source": [
        "# running our Standard Logistic Regression with various iterations\n",
        "iters = [100, 500, 1000, 10000, 25000, 50000]\n",
        "\n",
        "# re-initialize the Regressionlists to clear old data\n",
        "acc_train_logreg = [] \n",
        "acc_test_logreg = []\n",
        "iteration_values = []\n",
        "\n",
        "for iter in iters:\n",
        "    standard_logreg_model(iter, X_train, Y_train, X_test, Y_test)\n",
        "\n"
      ],
      "execution_count": 57,
      "outputs": [
        {
          "output_type": "stream",
          "name": "stderr",
          "text": [
            "/usr/local/lib/python3.7/dist-packages/sklearn/linear_model/_sag.py:354: ConvergenceWarning: The max_iter was reached which means the coef_ did not converge\n",
            "  ConvergenceWarning,\n",
            "/usr/local/lib/python3.7/dist-packages/sklearn/linear_model/_sag.py:354: ConvergenceWarning: The max_iter was reached which means the coef_ did not converge\n",
            "  ConvergenceWarning,\n",
            "/usr/local/lib/python3.7/dist-packages/sklearn/linear_model/_sag.py:354: ConvergenceWarning: The max_iter was reached which means the coef_ did not converge\n",
            "  ConvergenceWarning,\n"
          ]
        },
        {
          "output_type": "stream",
          "name": "stdout",
          "text": [
            "Accuracy on training data = 0.642857\n",
            "Accuracy on test data = 0.452381\n",
            "Accuracy on training data = 0.650794\n",
            "Accuracy on test data = 0.404762\n",
            "Accuracy on training data = 0.666667\n",
            "Accuracy on test data = 0.392857\n",
            "Accuracy on training data = 0.654762\n",
            "Accuracy on test data = 0.357143\n",
            "Accuracy on training data = 0.654762\n",
            "Accuracy on test data = 0.357143\n",
            "Accuracy on training data = 0.654762\n",
            "Accuracy on test data = 0.357143\n"
          ]
        }
      ]
    },
    {
      "cell_type": "code",
      "metadata": {
        "colab": {
          "base_uri": "https://localhost:8080/",
          "height": 295
        },
        "id": "HvOAx49zu_vM",
        "outputId": "e23e798a-5d08-4fd0-c4eb-d3b34c968dfc"
      },
      "source": [
        "# Plot training accuracy(Y-axis) v/s 'c' on X - Axis.\n",
        "plt.plot(iteration_values, acc_train_logreg, '.-', color='green')\n",
        "# Plot test accuracy(Y-Axis) v/s 'c' on X - Axis.\n",
        "plt.plot(iteration_values, acc_test_logreg, '.-', color='red')\n",
        "\n",
        "plt.xlabel('# of Iterations')\n",
        "plt.ylabel('Accuracy')\n",
        "plt.grid()\n",
        "plt.title('Predicting MPC with Standard LogReg')\n",
        "plt.legend(['Training Accuracy', 'Test Accuracy'], loc='best')\n",
        "plt.show(block = False)"
      ],
      "execution_count": 58,
      "outputs": [
        {
          "output_type": "display_data",
          "data": {
            "image/png": "[encoded data removed]",
            "text/plain": [
              "<Figure size 432x288 with 1 Axes>"
            ]
          },
          "metadata": {
            "needs_background": "light"
          }
        }
      ]
    },
    {
      "cell_type": "markdown",
      "metadata": {
        "id": "__nTSYi3WiyD"
      },
      "source": [
        "# Logistic Regression with L1 Regularization"
      ]
    },
    {
      "cell_type": "code",
      "metadata": {
        "id": "flC-ClvIWejn"
      },
      "source": [
        "# \n",
        "# Logistic Regression using Lasso (L1) Regularization\n",
        "# \n",
        "\n",
        "# Initialize an empty list to store values of training set accuracy.\n",
        "acc_train_logreg = [] \n",
        "# Initialize an empty list to store values of test set accuracy.\n",
        "acc_test_logreg = []\n",
        "# Initialize an empty list to store different values of parameter 'c'.\n",
        "c_logreg = []\n",
        "\n",
        "# This function creates an L1 logreg model using sklearn's linear_model module\n",
        "# The code in logreg_model is inspired by code from previous homework assignments\n",
        "# It takes, as arguments: c(desired c value for regularization), X_train (training data features), Y_train (training data targets)\n",
        "#     X_test (testing data features), Y_test (testing data targets)\n",
        "def logreg_model(c , X_train, Y_train, X_test, Y_test):\n",
        "    # Create the Logistic Regression model object with L1 Regularization\n",
        "    logreg = linear_model.LogisticRegression(penalty='l1',C=c,solver='saga',max_iter=10000)\n",
        "    \n",
        "    # Fit the model on the training set\n",
        "    logreg.fit(X_train, Y_train)\n",
        "    \n",
        "    # Find the prediction on training set\n",
        "    Yhat_train = logreg.predict(X_train)\n",
        "    \n",
        "    # Adding training accuracy to acc_train_logreg\n",
        "    acc_train = logreg.score(X_train, Y_train)\n",
        "    acc_train_logreg.append(acc_train)\n",
        "    print(\"Accuracy on training data = %f\" % acc_train)\n",
        "    \n",
        "    # Find the prediction on test set\n",
        "    Yhat_test = logreg.predict(X_test)\n",
        "    \n",
        "    # Adding testing accuracy to acc_test_logreg\n",
        "    acc_test = logreg.score(X_test, Y_test)\n",
        "    acc_test_logreg.append(acc_test)\n",
        "    print(\"Accuracy on test data = %f\" % acc_test)\n",
        "    \n",
        "    # Appending value of c for graphing purposes\n",
        "    c_logreg.append(c)\n"
      ],
      "execution_count": 59,
      "outputs": []
    },
    {
      "cell_type": "code",
      "metadata": {
        "colab": {
          "base_uri": "https://localhost:8080/"
        },
        "id": "v784p786Zdlj",
        "outputId": "a26e49d2-83e9-403f-e63a-208ac99ec30d"
      },
      "source": [
        "# running our L1 regularization with various c values\n",
        "cVals = [0.0001, 0.001, 0.01, 0.1, 1, 10]\n",
        "\n",
        "# re-initialize the lists to clear old data\n",
        "acc_train_logreg = [] \n",
        "acc_test_logreg = []\n",
        "c_logreg = []\n",
        "\n",
        "for c in cVals:\n",
        "    logreg_model(c, X_train, Y_train, X_test, Y_test)\n",
        "\n"
      ],
      "execution_count": 60,
      "outputs": [
        {
          "output_type": "stream",
          "name": "stdout",
          "text": [
            "Accuracy on training data = 0.611111\n",
            "Accuracy on test data = 0.690476\n",
            "Accuracy on training data = 0.611111\n",
            "Accuracy on test data = 0.690476\n",
            "Accuracy on training data = 0.611111\n",
            "Accuracy on test data = 0.690476\n",
            "Accuracy on training data = 0.611111\n",
            "Accuracy on test data = 0.690476\n",
            "Accuracy on training data = 0.619048\n",
            "Accuracy on test data = 0.595238\n",
            "Accuracy on training data = 0.638889\n",
            "Accuracy on test data = 0.452381\n"
          ]
        }
      ]
    },
    {
      "cell_type": "code",
      "metadata": {
        "colab": {
          "base_uri": "https://localhost:8080/",
          "height": 295
        },
        "id": "RRSuXmXRaekb",
        "outputId": "34ea6d15-eb17-4416-b808-73e506070fad"
      },
      "source": [
        "# Plot training accuracy(Y-axis) v/s 'c' on X - Axis.\n",
        "plt.plot(c_logreg, acc_train_logreg, '.-', color='green')\n",
        "# Plot test accuracy(Y-Axis) v/s 'c' on X - Axis.\n",
        "plt.plot(c_logreg, acc_test_logreg, '.-', color='red')\n",
        "\n",
        "plt.xlabel('C Values')\n",
        "plt.ylabel('Accuracy')\n",
        "plt.grid()\n",
        "plt.title('Predicting MPC with L1 LogReg')\n",
        "plt.legend(['Training Accuracy', 'Test Accuracy'], loc='best')\n",
        "plt.show(block = False)\n",
        "\n"
      ],
      "execution_count": 61,
      "outputs": [
        {
          "output_type": "display_data",
          "data": {
            "image/png": "[encoded data removed]",
            "text/plain": [
              "<Figure size 432x288 with 1 Axes>"
            ]
          },
          "metadata": {
            "needs_background": "light"
          }
        }
      ]
    },
    {
      "cell_type": "markdown",
      "metadata": {
        "id": "DebZv7vYbbVx"
      },
      "source": [
        "# Logistic Regression with L2 Regularization\n",
        "\n"
      ]
    },
    {
      "cell_type": "code",
      "metadata": {
        "id": "o_3l4yfZbkXE"
      },
      "source": [
        "# \n",
        "# Logistic Regression using Ridge (L2) Regularization\n",
        "#\n",
        "\n",
        "# Initialize an empty list to store values of training set accuracy.\n",
        "acc_train_logreg2 = []\n",
        "# Initialize an empty list to store values of test set accuracy.\n",
        "acc_test_logreg2 = []\n",
        "# Initialize an empty list to store different values of parameter 'c'.\n",
        "c_logreg2 = []\n",
        "\n",
        "# This function creates an L2 logreg model using sklearn's linear_model module\n",
        "# The code in logreg2_model is inspired by code from previous homework assignments\n",
        "# It takes, as arguments: c(desired c value for regularization), X_train (training data features), Y_train (training data targets)\n",
        "#     X_test (testing data features), Y_test (testing data targets)\n",
        "def logreg2_model(c , X_train, Y_train, X_test, Y_test):\n",
        "    # Create the Logistic Regression model object with L2 Regularization\n",
        "    logreg2 = linear_model.LogisticRegression(penalty='l2',C=c,solver='saga',max_iter=10000)\n",
        "    \n",
        "    # Fit the model on the training set\n",
        "    logreg2.fit(X_train, Y_train)\n",
        "    \n",
        "    # Find the prediction on training set\n",
        "    Yhat_train = logreg2.predict(X_train)\n",
        "    \n",
        "    # Adding training accuracy to acc_train_logreg2\n",
        "    acc_train = logreg2.score(X_train, Y_train)\n",
        "    acc_train_logreg2.append(acc_train)\n",
        "    print(\"Accuracy on training data = %f\" % acc_train)\n",
        "    \n",
        "    # Find the prediction on test set\n",
        "    Yhat_test = logreg2.predict(X_test)\n",
        "    \n",
        "    # Adding testing accuracy to acc_test_logreg2\n",
        "    acc_test = logreg2.score(X_test, Y_test)\n",
        "    acc_test_logreg2.append(acc_test)\n",
        "    print(\"Accuracy on test data = %f\" % acc_test)\n",
        "    \n",
        "    # Appending value of c for graphing purposes\n",
        "    c_logreg2.append(c)\n",
        "    "
      ],
      "execution_count": 62,
      "outputs": []
    },
    {
      "cell_type": "code",
      "metadata": {
        "colab": {
          "base_uri": "https://localhost:8080/"
        },
        "id": "Y1mAKW4ybteD",
        "outputId": "92c147d5-6ed3-4463-e1e7-b5b8406633a5"
      },
      "source": [
        "# running our L2 regularization with various c values\n",
        "cVals = [0.0001, 0.001, 0.01, 0.1, 1, 10]\n",
        "\n",
        "# re-initialize the lists to clear old data\n",
        "acc_train_logreg2 = [] \n",
        "acc_test_logreg2 = []\n",
        "c_logreg2 = []\n",
        "\n",
        "for c in cVals:\n",
        "    logreg2_model(c, X_train, Y_train, X_test, Y_test)\n"
      ],
      "execution_count": 63,
      "outputs": [
        {
          "output_type": "stream",
          "name": "stdout",
          "text": [
            "Accuracy on training data = 0.611111\n",
            "Accuracy on test data = 0.690476\n",
            "Accuracy on training data = 0.611111\n",
            "Accuracy on test data = 0.690476\n",
            "Accuracy on training data = 0.611111\n",
            "Accuracy on test data = 0.690476\n",
            "Accuracy on training data = 0.599206\n",
            "Accuracy on test data = 0.583333\n",
            "Accuracy on training data = 0.626984\n",
            "Accuracy on test data = 0.547619\n",
            "Accuracy on training data = 0.638889\n",
            "Accuracy on test data = 0.476190\n"
          ]
        }
      ]
    },
    {
      "cell_type": "code",
      "metadata": {
        "colab": {
          "base_uri": "https://localhost:8080/",
          "height": 295
        },
        "id": "wihq8hkucDmI",
        "outputId": "d83c151f-d8df-4ae6-85b6-e8c72e8d8603"
      },
      "source": [
        "# Plot training accuracy(Y-axis) v/s 'c' on X - Axis.\n",
        "plt.plot(c_logreg2, acc_train_logreg2, '.-', color = 'green')\n",
        "# Plot test accuracy(Y-Axis) v/s 'c' on X - Axis.\n",
        "plt.plot(c_logreg2, acc_test_logreg2, '.-', color = 'red')\n",
        "\n",
        "plt.xlabel('C Values')\n",
        "plt.ylabel('Accuracy')\n",
        "plt.grid()\n",
        "plt.title('Predicting MPC with L2 LogReg')\n",
        "\n",
        "plt.legend(['Training Accuracy', 'Test Accuracy'], loc='best')\n",
        "plt.show(block = False)\n",
        "\n"
      ],
      "execution_count": 64,
      "outputs": [
        {
          "output_type": "display_data",
          "data": {
            "image/png": "[encoded data removed]",
            "text/plain": [
              "<Figure size 432x288 with 1 Axes>"
            ]
          },
          "metadata": {
            "needs_background": "light"
          }
        }
      ]
    },
    {
      "cell_type": "markdown",
      "metadata": {
        "id": "FVzDDhOXxBu7"
      },
      "source": [
        "# Logistic Regression Using Polynomial Feature Transformation\n"
      ]
    },
    {
      "cell_type": "code",
      "metadata": {
        "id": "URFqJ0X7xBJH"
      },
      "source": [
        "# \n",
        "# Logistic Regression with a Polynomial Feature Transformation\n",
        "#\n",
        "\n",
        "# Create an object of PolynomialFeatures(2)\n",
        "poly = PolynomialFeatures(2)\n",
        "# Create the transformed data matrices for training and test using poly.fit_transform(..)\n",
        "X_transformed_train = poly.fit_transform(X_train)\n",
        "X_transformed_test = poly.fit_transform(X_test)"
      ],
      "execution_count": 65,
      "outputs": []
    },
    {
      "cell_type": "code",
      "metadata": {
        "colab": {
          "base_uri": "https://localhost:8080/",
          "height": 503
        },
        "id": "ublxl8XcxN6L",
        "outputId": "73ab36ec-03da-4b77-be58-2a92bad6833e"
      },
      "source": [
        "# L1 Regularization with Polynomial Feature Transform\n",
        "acc_train_logreg = []\n",
        "acc_test_logreg = []\n",
        "c_logreg = []\n",
        "\n",
        "# Running the L1 logreg model function with the transformed data\n",
        "for c in cVals:\n",
        "    logreg_model(c, X_transformed_train, Y_train, X_transformed_test, Y_test)\n",
        "    \n",
        "# Plot training accuracy(Y-axis) v/s 'c' on X - Axis.\n",
        "plt.plot(c_logreg, acc_train_logreg, '.-', color = 'green')\n",
        "# Plot test accuracy(Y-Axis) v/s 'c' on X - Axis.\n",
        "plt.plot(c_logreg, acc_test_logreg, '.-', color = 'red')\n",
        "# Use the code that you wrote to draw the plot for logreg_model()\n",
        "plt.xlabel('C Values')\n",
        "plt.ylabel('Accuracy')\n",
        "plt.grid()\n",
        "plt.title('Predicting MPC with Polynomial L1 LogReg')\n",
        "\n",
        "# Use the following function to have a legend\n",
        "plt.legend(['Training Accuracy', 'Test Accuracy'], loc='best')\n",
        "plt.show(block = False)\n"
      ],
      "execution_count": 67,
      "outputs": [
        {
          "output_type": "stream",
          "name": "stdout",
          "text": [
            "Accuracy on training data = 0.611111\n",
            "Accuracy on test data = 0.690476\n",
            "Accuracy on training data = 0.611111\n",
            "Accuracy on test data = 0.690476\n",
            "Accuracy on training data = 0.611111\n",
            "Accuracy on test data = 0.690476\n",
            "Accuracy on training data = 0.619048\n",
            "Accuracy on test data = 0.690476\n",
            "Accuracy on training data = 0.674603\n",
            "Accuracy on test data = 0.380952\n",
            "Accuracy on training data = 0.670635\n",
            "Accuracy on test data = 0.559524\n"
          ]
        },
        {
          "output_type": "display_data",
          "data": {
            "image/png": "[encoded data removed]",
            "text/plain": [
              "<Figure size 432x288 with 1 Axes>"
            ]
          },
          "metadata": {
            "needs_background": "light"
          }
        }
      ]
    },
    {
      "cell_type": "code",
      "metadata": {
        "colab": {
          "base_uri": "https://localhost:8080/",
          "height": 503
        },
        "id": "WMac3paXxn8E",
        "outputId": "3f9e4ffa-3bf0-48e5-89ad-73d32648f164"
      },
      "source": [
        "# L2 Regularization with Polynomial Feature Transform\n",
        "acc_train_logreg2 = []\n",
        "acc_test_logreg2 = []\n",
        "c_logreg2 = []\n",
        "\n",
        "# Running the L2 logreg function with the transformed data\n",
        "for c in cVals:\n",
        "    logreg2_model(c, X_transformed_train, Y_train, X_transformed_test, Y_test)\n",
        "    \n",
        "# Plot training accuracy(Y-axis) v/s 'c' on X - Axis.\n",
        "plt.plot(c_logreg2, acc_train_logreg2, '.-', color = 'green')\n",
        "# Plot test accuracy(Y-Axis) v/s 'c' on X - Axis.\n",
        "plt.plot(c_logreg2, acc_test_logreg2, '.-', color = 'red')\n",
        "# Use the code that you wrote to draw the plot for logreg_model()\n",
        "plt.xlabel('C Values')\n",
        "plt.ylabel('Accuracy')\n",
        "plt.grid()\n",
        "plt.title('Predicting MPC with Polynomial L2 LogReg')\n",
        "\n",
        "# Use the following function to have a legend\n",
        "plt.legend(['Training Accuracy', 'Test Accuracy'], loc='best')\n",
        "plt.show(block = False)"
      ],
      "execution_count": 68,
      "outputs": [
        {
          "output_type": "stream",
          "name": "stdout",
          "text": [
            "Accuracy on training data = 0.611111\n",
            "Accuracy on test data = 0.690476\n",
            "Accuracy on training data = 0.611111\n",
            "Accuracy on test data = 0.690476\n",
            "Accuracy on training data = 0.615079\n",
            "Accuracy on test data = 0.690476\n",
            "Accuracy on training data = 0.662698\n",
            "Accuracy on test data = 0.369048\n",
            "Accuracy on training data = 0.678571\n",
            "Accuracy on test data = 0.404762\n",
            "Accuracy on training data = 0.686508\n",
            "Accuracy on test data = 0.654762\n"
          ]
        },
        {
          "output_type": "display_data",
          "data": {
            "image/png": "[encoded data removed]",
            "text/plain": [
              "<Figure size 432x288 with 1 Axes>"
            ]
          },
          "metadata": {
            "needs_background": "light"
          }
        }
      ]
    },
    {
      "cell_type": "markdown",
      "metadata": {
        "id": "ibFUXwzZyP_1"
      },
      "source": [
        "# SUPERVISED ANALYSIS PART 2: Support Vector Machines"
      ]
    },
    {
      "cell_type": "markdown",
      "metadata": {
        "id": "tMWQJPsMdthn"
      },
      "source": [
        "# SVM With Linear Kernel "
      ]
    },
    {
      "cell_type": "code",
      "metadata": {
        "id": "2k7DFLCIylY2"
      },
      "source": [
        "# We are using sklearn's built-in SVM tool to create our SVM models\n",
        "from sklearn import svm\n",
        "# Initialize an empty list to store values of training set accuracy\n",
        "acc_train_svm_linear = [] \n",
        "# Initialize an empty list to store values of test set accuracy\n",
        "acc_test_svm_linear = []\n",
        "# Initialize an empty list to store different values of parameter 'c'.\n",
        "c_svm_linear = []\n",
        "\n",
        "# This function creates a linear SVM model using sklearn's SVM module\n",
        "# The code in svm_linear is inspired by code from previous homework assignments\n",
        "# It takes, as arguments: c(desired c value for regularization)\n",
        "def svm_linear(c):\n",
        "    svc_linear = svm.SVC(probability=False, kernel='linear', C=c)\n",
        "\n",
        "    svc_linear.fit(X_train, Y_train)\n",
        "    Yhat_svc_linear_train = svc_linear.predict(X_train)\n",
        "    acc_train = np.mean(Yhat_svc_linear_train == Y_train)\n",
        "    \n",
        "    acc_train_svm_linear.append(acc_train)\n",
        "    print('Train Accuracy = {0:f}'.format(acc_train))\n",
        "    \n",
        "    Yhat_svc_linear_test = svc_linear.predict(X_test)\n",
        "    acc_test = np.mean(Yhat_svc_linear_test == Y_test)\n",
        "    \n",
        "    acc_test_svm_linear.append(acc_test)\n",
        "    print('Test Accuracy = {0:f}'.format(acc_test))\n",
        "    \n",
        "    c_svm_linear.append(c)"
      ],
      "execution_count": 69,
      "outputs": []
    },
    {
      "cell_type": "code",
      "metadata": {
        "colab": {
          "base_uri": "https://localhost:8080/",
          "height": 503
        },
        "id": "JrW45xKEd9vd",
        "outputId": "a9847ce2-b6b1-489a-fa38-91977d9f2bc4"
      },
      "source": [
        "acc_train_svm_linear = []\n",
        "acc_test_svm_linear = []\n",
        "c_svm_linear = []\n",
        "\n",
        "# Running the linear SVM function with various c values\n",
        "for c in cVals:\n",
        "    svm_linear(c)\n",
        "\n",
        "plt.plot(c_svm_linear, acc_train_svm_linear, '.-', color = 'green')\n",
        "plt.plot(c_svm_linear, acc_test_svm_linear, '.-', color = 'red')\n",
        "\n",
        "# Use the following function to have a legend\n",
        "plt.legend(['Training Accuracy', 'Test Accuracy'])\n",
        "plt.title(\"Predicting MPC with Linear SVM\")\n",
        "plt.xlabel(\"C Value\")\n",
        "plt.ylabel(\"Accuracy (%)\")\n",
        "plt.grid()\n",
        "plt.show()"
      ],
      "execution_count": 72,
      "outputs": [
        {
          "output_type": "stream",
          "name": "stdout",
          "text": [
            "Train Accuracy = 0.611111\n",
            "Test Accuracy = 0.690476\n",
            "Train Accuracy = 0.611111\n",
            "Test Accuracy = 0.690476\n",
            "Train Accuracy = 0.611111\n",
            "Test Accuracy = 0.690476\n",
            "Train Accuracy = 0.611111\n",
            "Test Accuracy = 0.690476\n",
            "Train Accuracy = 0.611111\n",
            "Test Accuracy = 0.666667\n",
            "Train Accuracy = 0.646825\n",
            "Test Accuracy = 0.511905\n"
          ]
        },
        {
          "output_type": "display_data",
          "data": {
            "image/png": "[encoded data removed]",
            "text/plain": [
              "<Figure size 432x288 with 1 Axes>"
            ]
          },
          "metadata": {
            "needs_background": "light"
          }
        }
      ]
    },
    {
      "cell_type": "markdown",
      "metadata": {
        "id": "7B02RxmtYLCu"
      },
      "source": [
        "# SVM With Radial Basis Function (RBF) Kernel"
      ]
    },
    {
      "cell_type": "code",
      "metadata": {
        "colab": {
          "base_uri": "https://localhost:8080/",
          "height": 503
        },
        "id": "H0IvOxXvYGUL",
        "outputId": "ce4c4370-4a2c-40cd-e84d-c6c1555bdcf6"
      },
      "source": [
        "# Initialize an empty list to store values of training set accuracy\n",
        "acc_train_svm_rbf = []\n",
        "# Initialize an empty list to store values of test set accuracy\n",
        "acc_test_svm_rbf = []\n",
        "# Initialize an empty list to store different values of parameter 'c'\n",
        "c_svm_rbf = []\n",
        "\n",
        "# This function creates an RBF SVM model using sklearn's SVM module\n",
        "# The code in svm_rbf is inspired by code from previous homework assignments\n",
        "# It takes, as arguments: c(desired c value for regularization)\n",
        "def svm_rbf(c):\n",
        "    svc_rbf = svm.SVC(probability=False, kernel='rbf', C=c)\n",
        "      \n",
        "    svc_rbf.fit(X_train, Y_train)\n",
        "\n",
        "    Yhat_svc_rbf_train = svc_rbf.predict(X_train)\n",
        "    acc_train = np.mean(Yhat_svc_rbf_train == Y_train)\n",
        "    \n",
        "    # Adding testing accuracy to acc_train_svm\n",
        "    acc_train_svm_rbf.append(acc_train)\n",
        "    print('Train Accuracy = {0:f}'.format(acc_train))\n",
        "    \n",
        "    Yhat_svc_rbf_test = svc_rbf.predict(X_test)\n",
        "    acc_test = np.mean(Yhat_svc_rbf_test == Y_test)\n",
        "    \n",
        "    # Adding testing accuracy to acc_test_svm\n",
        "    acc_test_svm_rbf.append(acc_test)\n",
        "    print('Test Accuracy = {0:f}'.format(acc_test))\n",
        "    \n",
        "    # Appending value of c for graphing purposes\n",
        "    c_svm_rbf.append(c)\n",
        "  \n",
        "# Running svm_rbf with various c values\n",
        "for c in cVals:\n",
        "    svm_rbf(c)\n",
        "\n",
        "# Plotting the accuracies vs the various c values\n",
        "plt.plot(c_svm_rbf, acc_train_svm_rbf, '.-', color = 'green')\n",
        "plt.plot(c_svm_rbf, acc_test_svm_rbf, '.-', color = 'red')\n",
        "\n",
        "# Use the following function to have a legend\n",
        "plt.legend(['Training Accuracy', 'Test Accuracy'])\n",
        "plt.title(\"Predicting MPC with RBF SVM\")\n",
        "plt.xlabel(\"C Value\")\n",
        "plt.ylabel(\"Accuracy (%)\")\n",
        "plt.grid()\n",
        "plt.show()\n"
      ],
      "execution_count": 74,
      "outputs": [
        {
          "output_type": "stream",
          "name": "stdout",
          "text": [
            "Train Accuracy = 0.611111\n",
            "Test Accuracy = 0.690476\n",
            "Train Accuracy = 0.611111\n",
            "Test Accuracy = 0.690476\n",
            "Train Accuracy = 0.611111\n",
            "Test Accuracy = 0.690476\n",
            "Train Accuracy = 0.611111\n",
            "Test Accuracy = 0.690476\n",
            "Train Accuracy = 0.674603\n",
            "Test Accuracy = 0.690476\n",
            "Train Accuracy = 0.678571\n",
            "Test Accuracy = 0.654762\n"
          ]
        },
        {
          "output_type": "display_data",
          "data": {
            "image/png": "[encoded data removed]",
            "text/plain": [
              "<Figure size 432x288 with 1 Axes>"
            ]
          },
          "metadata": {
            "needs_background": "light"
          }
        }
      ]
    },
    {
      "cell_type": "markdown",
      "metadata": {
        "id": "3NATr-gnZqKA"
      },
      "source": [
        "# SVM with Polynomial Kernel"
      ]
    },
    {
      "cell_type": "code",
      "metadata": {
        "colab": {
          "base_uri": "https://localhost:8080/",
          "height": 712
        },
        "id": "uld8VD5xZvLn",
        "outputId": "4ff3be12-0112-43ea-e46c-6ac37027c5f2"
      },
      "source": [
        "# Initialize an empty list to store values of training set accuracy\n",
        "acc_train_svm_poly = []\n",
        "# Initialize an empty list to store values of test set accuracy\n",
        "acc_test_svm_poly = []\n",
        "# Initialize an empty list to store different values of parameter 'c'\n",
        "c_svm_poly = []\n",
        "\n",
        "# This function creates a Polynomial SVM model using sklearn's SVM module\n",
        "# The code in svm_polynomial is inspired by code from previous homework assignments\n",
        "# It takes, as arguments: c(desired c value for regularization)\n",
        "def svm_polynomial(c):\n",
        "    svc_polynomial = svm.SVC(probability=False, kernel='poly', C=c)\n",
        "    \n",
        "    svc_polynomial.fit(X_train, Y_train)\n",
        "\n",
        "    Yhat_svc_poly_train = svc_polynomial.predict(X_train)\n",
        "    acc_train = np.mean(Yhat_svc_poly_train == Y_train)\n",
        "    \n",
        "    # Adding testing accuracy to acc_train_svm\n",
        "    acc_train_svm_poly.append(acc_train)\n",
        "    print('Train Accuracy = {0:f}'.format(acc_train))\n",
        "    \n",
        "    Yhat_svc_poly_test = svc_polynomial.predict(X_test)\n",
        "    acc_test = np.mean(Yhat_svc_poly_test == Y_test)\n",
        "    \n",
        "    # Adding testing accuracy to acc_test_svm\n",
        "    acc_test_svm_poly.append(acc_test)\n",
        "    print('Test Accuracy = {0:f}'.format(acc_test))\n",
        "    \n",
        "    # Appending value of c for graphing purposes\n",
        "    c_svm_poly.append(c)\n",
        "  \n",
        "# Running svm_polynomial with various c values\n",
        "for c in cVals:\n",
        "    svm_polynomial(c)\n",
        "\n",
        "# Re-initializing the lists to clear old data \n",
        "acc_train_svm_poly = []\n",
        "acc_test_svm_poly = []\n",
        "c_svm_poly = []\n",
        "for c in cVals:\n",
        "    svm_polynomial(c)\n",
        "plt.plot(c_svm_poly, acc_train_svm_poly, '.-', color = 'green')\n",
        "plt.plot(c_svm_poly, acc_test_svm_poly, '.-', color = 'red')\n",
        "plt.legend(['Training Accuracy', 'Test Accuracy'])\n",
        "plt.title(\"Predicting MPC with Polynomial SVM\")\n",
        "plt.xlabel(\"C Value\")\n",
        "plt.ylabel(\"Accuracy (%)\")\n",
        "plt.grid()\n",
        "plt.show()"
      ],
      "execution_count": 77,
      "outputs": [
        {
          "output_type": "stream",
          "name": "stdout",
          "text": [
            "Train Accuracy = 0.611111\n",
            "Test Accuracy = 0.690476\n",
            "Train Accuracy = 0.611111\n",
            "Test Accuracy = 0.690476\n",
            "Train Accuracy = 0.611111\n",
            "Test Accuracy = 0.690476\n",
            "Train Accuracy = 0.626984\n",
            "Test Accuracy = 0.690476\n",
            "Train Accuracy = 0.634921\n",
            "Test Accuracy = 0.690476\n",
            "Train Accuracy = 0.682540\n",
            "Test Accuracy = 0.535714\n",
            "Train Accuracy = 0.611111\n",
            "Test Accuracy = 0.690476\n",
            "Train Accuracy = 0.611111\n",
            "Test Accuracy = 0.690476\n",
            "Train Accuracy = 0.611111\n",
            "Test Accuracy = 0.690476\n",
            "Train Accuracy = 0.626984\n",
            "Test Accuracy = 0.690476\n",
            "Train Accuracy = 0.634921\n",
            "Test Accuracy = 0.690476\n",
            "Train Accuracy = 0.682540\n",
            "Test Accuracy = 0.535714\n"
          ]
        },
        {
          "output_type": "display_data",
          "data": {
            "image/png": "[encoded data removed]",
            "text/plain": [
              "<Figure size 432x288 with 1 Axes>"
            ]
          },
          "metadata": {
            "needs_background": "light"
          }
        }
      ]
    }
  ]
}