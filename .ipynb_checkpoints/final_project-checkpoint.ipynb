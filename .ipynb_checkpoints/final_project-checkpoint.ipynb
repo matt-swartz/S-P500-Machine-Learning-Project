{
 "cells": [
  {
   "cell_type": "code",
   "execution_count": 2,
   "metadata": {},
   "outputs": [],
   "source": [
    "# run this code cell using shift+enter before moving further\n",
    "\n",
    "import numpy as np\n",
    "import pandas as pd\n",
    "import matplotlib\n",
    "from matplotlib import pyplot as plt\n",
    "%matplotlib inline"
   ]
  },
  {
   "cell_type": "code",
   "execution_count": 23,
   "metadata": {},
   "outputs": [],
   "source": [
    "names =[\n",
    "    'DATE', 'PRICE', 'DIVIDEND', 'EARNINGS', 'CPI', 'LIR', \n",
    "    'RP',  'RD', 'RE', 'PE10', 'MPC'\n",
    "]\n",
    "\n",
    "# read in our S&P data\n",
    "df = pd.read_csv('data_csv.csv', header=0, names=names, na_values='?')\n",
    "# remove na values\n",
    "df = df.dropna()"
   ]
  },
  {
   "cell_type": "code",
   "execution_count": null,
   "metadata": {
    "deletable": false,
    "editable": false
   },
   "outputs": [],
   "source": [
    "grader.check(\"Q01\")"
   ]
  },
  {
   "cell_type": "code",
   "execution_count": 28,
   "metadata": {
    "scrolled": true
   },
   "outputs": [
    {
     "data": {
      "text/html": [
       "<div>\n",
       "<style scoped>\n",
       "    .dataframe tbody tr th:only-of-type {\n",
       "        vertical-align: middle;\n",
       "    }\n",
       "\n",
       "    .dataframe tbody tr th {\n",
       "        vertical-align: top;\n",
       "    }\n",
       "\n",
       "    .dataframe thead th {\n",
       "        text-align: right;\n",
       "    }\n",
       "</style>\n",
       "<table border=\"1\" class=\"dataframe\">\n",
       "  <thead>\n",
       "    <tr style=\"text-align: right;\">\n",
       "      <th></th>\n",
       "      <th>DATE</th>\n",
       "      <th>PRICE</th>\n",
       "      <th>DIVIDEND</th>\n",
       "      <th>EARNINGS</th>\n",
       "      <th>CPI</th>\n",
       "      <th>LIR</th>\n",
       "      <th>RP</th>\n",
       "      <th>RD</th>\n",
       "      <th>RE</th>\n",
       "      <th>PE10</th>\n",
       "      <th>MPC</th>\n",
       "    </tr>\n",
       "  </thead>\n",
       "  <tbody>\n",
       "    <tr>\n",
       "      <th>0</th>\n",
       "      <td>1/1/90</td>\n",
       "      <td>339.97</td>\n",
       "      <td>11.14</td>\n",
       "      <td>22.49</td>\n",
       "      <td>127.4</td>\n",
       "      <td>8.21</td>\n",
       "      <td>666.69</td>\n",
       "      <td>21.85</td>\n",
       "      <td>44.10</td>\n",
       "      <td>17.05</td>\n",
       "      <td>-2.800247</td>\n",
       "    </tr>\n",
       "    <tr>\n",
       "      <th>1</th>\n",
       "      <td>2/1/90</td>\n",
       "      <td>330.45</td>\n",
       "      <td>11.23</td>\n",
       "      <td>22.08</td>\n",
       "      <td>128.0</td>\n",
       "      <td>8.47</td>\n",
       "      <td>644.99</td>\n",
       "      <td>21.92</td>\n",
       "      <td>43.10</td>\n",
       "      <td>16.51</td>\n",
       "      <td>2.423967</td>\n",
       "    </tr>\n",
       "    <tr>\n",
       "      <th>2</th>\n",
       "      <td>3/1/90</td>\n",
       "      <td>338.46</td>\n",
       "      <td>11.32</td>\n",
       "      <td>21.67</td>\n",
       "      <td>128.7</td>\n",
       "      <td>8.59</td>\n",
       "      <td>657.03</td>\n",
       "      <td>21.97</td>\n",
       "      <td>42.07</td>\n",
       "      <td>16.83</td>\n",
       "      <td>-0.082728</td>\n",
       "    </tr>\n",
       "    <tr>\n",
       "      <th>3</th>\n",
       "      <td>4/1/90</td>\n",
       "      <td>338.18</td>\n",
       "      <td>11.44</td>\n",
       "      <td>21.53</td>\n",
       "      <td>128.9</td>\n",
       "      <td>8.79</td>\n",
       "      <td>655.46</td>\n",
       "      <td>22.17</td>\n",
       "      <td>41.74</td>\n",
       "      <td>16.81</td>\n",
       "      <td>3.569105</td>\n",
       "    </tr>\n",
       "    <tr>\n",
       "      <th>4</th>\n",
       "      <td>5/1/90</td>\n",
       "      <td>350.25</td>\n",
       "      <td>11.55</td>\n",
       "      <td>21.40</td>\n",
       "      <td>129.2</td>\n",
       "      <td>8.76</td>\n",
       "      <td>677.28</td>\n",
       "      <td>22.34</td>\n",
       "      <td>41.38</td>\n",
       "      <td>17.39</td>\n",
       "      <td>2.895075</td>\n",
       "    </tr>\n",
       "    <tr>\n",
       "      <th>5</th>\n",
       "      <td>6/1/90</td>\n",
       "      <td>360.39</td>\n",
       "      <td>11.66</td>\n",
       "      <td>21.26</td>\n",
       "      <td>129.9</td>\n",
       "      <td>8.48</td>\n",
       "      <td>693.13</td>\n",
       "      <td>22.43</td>\n",
       "      <td>40.89</td>\n",
       "      <td>17.82</td>\n",
       "      <td>-0.099892</td>\n",
       "    </tr>\n",
       "  </tbody>\n",
       "</table>\n",
       "</div>"
      ],
      "text/plain": [
       "     DATE   PRICE  DIVIDEND  EARNINGS    CPI   LIR      RP     RD     RE  \\\n",
       "0  1/1/90  339.97     11.14     22.49  127.4  8.21  666.69  21.85  44.10   \n",
       "1  2/1/90  330.45     11.23     22.08  128.0  8.47  644.99  21.92  43.10   \n",
       "2  3/1/90  338.46     11.32     21.67  128.7  8.59  657.03  21.97  42.07   \n",
       "3  4/1/90  338.18     11.44     21.53  128.9  8.79  655.46  22.17  41.74   \n",
       "4  5/1/90  350.25     11.55     21.40  129.2  8.76  677.28  22.34  41.38   \n",
       "5  6/1/90  360.39     11.66     21.26  129.9  8.48  693.13  22.43  40.89   \n",
       "\n",
       "    PE10       MPC  \n",
       "0  17.05 -2.800247  \n",
       "1  16.51  2.423967  \n",
       "2  16.83 -0.082728  \n",
       "3  16.81  3.569105  \n",
       "4  17.39  2.895075  \n",
       "5  17.82 -0.099892  "
      ]
     },
     "execution_count": 28,
     "metadata": {},
     "output_type": "execute_result"
    }
   ],
   "source": [
    "df.head(6)"
   ]
  },
  {
   "cell_type": "markdown",
   "metadata": {},
   "source": [
    "## Basic Manipulations on the Data\n",
    "\n",
    "What is the shape of the data?  How many attributes are there?  How many samples?\n",
    "Print a statement of the form:\n",
    "\n",
    "    num samples=xxx, num attributes=yy"
   ]
  },
  {
   "cell_type": "markdown",
   "metadata": {},
   "source": [
    "#### If done correctly: num_samples = 506, num_attributes = 14"
   ]
  },
  {
   "cell_type": "code",
   "execution_count": 26,
   "metadata": {},
   "outputs": [
    {
     "name": "stdout",
     "output_type": "stream",
     "text": [
      "336 11\n"
     ]
    }
   ],
   "source": [
    "# TODO Q02\n",
    "num_samples = df.shape[0]\n",
    "num_attributes = df.shape[1]\n",
    "print(num_samples, num_attributes)"
   ]
  },
  {
   "cell_type": "code",
   "execution_count": 5,
   "metadata": {
    "deletable": false,
    "editable": false
   },
   "outputs": [
    {
     "ename": "NameError",
     "evalue": "name 'grader' is not defined",
     "output_type": "error",
     "traceback": [
      "\u001b[0;31m---------------------------------------------------------------------------\u001b[0m",
      "\u001b[0;31mNameError\u001b[0m                                 Traceback (most recent call last)",
      "\u001b[0;32m<ipython-input-5-ecad890306e1>\u001b[0m in \u001b[0;36m<module>\u001b[0;34m\u001b[0m\n\u001b[0;32m----> 1\u001b[0;31m \u001b[0mgrader\u001b[0m\u001b[0;34m.\u001b[0m\u001b[0mcheck\u001b[0m\u001b[0;34m(\u001b[0m\u001b[0;34m\"Q02\"\u001b[0m\u001b[0;34m)\u001b[0m\u001b[0;34m\u001b[0m\u001b[0;34m\u001b[0m\u001b[0m\n\u001b[0m",
      "\u001b[0;31mNameError\u001b[0m: name 'grader' is not defined"
     ]
    }
   ],
   "source": [
    "grader.check(\"Q02\")"
   ]
  },
  {
   "cell_type": "markdown",
   "metadata": {},
   "source": [
    "Create a response vector `y` with the values in the column `PRICE`.  The vector `y` should be a 1D `numpy.array` structure."
   ]
  },
  {
   "cell_type": "code",
   "execution_count": 9,
   "metadata": {},
   "outputs": [],
   "source": [
    "# TODO Q03\n",
    "y = np.array(df['PRICE'])"
   ]
  },
  {
   "cell_type": "code",
   "execution_count": null,
   "metadata": {
    "deletable": false,
    "editable": false
   },
   "outputs": [],
   "source": [
    "grader.check(\"Q03\")"
   ]
  },
  {
   "cell_type": "markdown",
   "metadata": {},
   "source": [
    "Use the response vector `y` to find the mean house price in thousands and the fraction of homes that are above $40k. (You may realize this is very cheap.  Prices have gone up a lot since the 1970s!).   Create print statements of the form:\n",
    "\n",
    "    The mean house price is xx.yy thousands of dollars.\n",
    "    Only x.y percent are above $40k."
   ]
  },
  {
   "cell_type": "code",
   "execution_count": 9,
   "metadata": {},
   "outputs": [],
   "source": [
    "# print statements for Q04 should be commented out later"
   ]
  },
  {
   "cell_type": "markdown",
   "metadata": {},
   "source": [
    "#### If done correctly: The mean house price is 22.53 thousands of dollars. Only 6.1 percent are above $40k."
   ]
  },
  {
   "cell_type": "code",
   "execution_count": 10,
   "metadata": {},
   "outputs": [],
   "source": [
    "# TODO Q04\n",
    "mean_house_price = np.mean(y)\n",
    "percent_over_40k = np.mean(y > 40)"
   ]
  },
  {
   "cell_type": "code",
   "execution_count": null,
   "metadata": {
    "deletable": false,
    "editable": false
   },
   "outputs": [],
   "source": [
    "grader.check(\"Q04\")"
   ]
  },
  {
   "cell_type": "markdown",
   "metadata": {},
   "source": [
    "## Visualizing the Data\n",
    "\n",
    "Python's `matplotlib` has very good routines for plotting and visualizing data that closely follows the format of MATLAB programs.  You can load the `matplotlib` package with the following commands."
   ]
  },
  {
   "cell_type": "markdown",
   "metadata": {},
   "source": [
    "Similar to the `y` vector, create a predictor vector `X` containing the values in the `RM` column, which represents the average number of rooms in each region."
   ]
  },
  {
   "cell_type": "code",
   "execution_count": 11,
   "metadata": {},
   "outputs": [],
   "source": [
    "# TODO Q05\n",
    "X = np.array(df['RM'])"
   ]
  },
  {
   "cell_type": "code",
   "execution_count": null,
   "metadata": {
    "deletable": false,
    "editable": false
   },
   "outputs": [],
   "source": [
    "grader.check(\"Q05\")"
   ]
  },
  {
   "cell_type": "markdown",
   "metadata": {},
   "source": [
    "Create a scatter plot of the price vs. the `RM` attribute.  Make sure your plot has grid lines and label the axes with reasonable labels so that someone else can understand the plot."
   ]
  },
  {
   "cell_type": "markdown",
   "metadata": {
    "deletable": false,
    "editable": false
   },
   "source": [
    "<!-- BEGIN QUESTION -->\n",
    "\n",
    "<!--\n",
    "BEGIN QUESTION\n",
    "name: Q06\n",
    "manual: true\n",
    "points: 2\n",
    "-->"
   ]
  },
  {
   "cell_type": "code",
   "execution_count": 12,
   "metadata": {},
   "outputs": [
    {
     "data": {
      "image/png": "[encoded data removed]",
      "text/plain": [
       "<Figure size 432x288 with 1 Axes>"
      ]
     },
     "metadata": {
      "needs_background": "light"
     },
     "output_type": "display_data"
    }
   ],
   "source": [
    "# TODO Q06\n",
    "plt.plot(X,y,'o')\n",
    "plt.xlabel('Average Number of Rooms')\n",
    "plt.ylabel('Price of the House')\n",
    "plt.grid(True)"
   ]
  },
  {
   "cell_type": "markdown",
   "metadata": {},
   "source": [
    "<!-- END QUESTION -->\n",
    "\n",
    "\n",
    "\n",
    "## Fitting a Simple Linear Model\n",
    "\n",
    "We will write a simple function to perform a linear fit. Use the formulae given in the class to compute the parameters $w_0, w_1$ in the linear model $$y \\approx w_0 + w_1 X $$ as well as the coefficient of determination $R^2$."
   ]
  },
  {
   "cell_type": "code",
   "execution_count": 13,
   "metadata": {},
   "outputs": [],
   "source": [
    "def fit_linear(X,y):\n",
    "    \"\"\"\n",
    "    Given vectors of data points (X,y), performs a fit for the linear model:\n",
    "       yhat = w0 + w1*X, \n",
    "    The function returns w0, w1 and rsq, where rsq is the coefficient of determination.\n",
    "    \"\"\"\n",
    "    # TODO Q07\n",
    "    # complete the following code\n",
    "    xm = np.mean(X)\n",
    "    ym = np.mean(y)\n",
    "    syy = np.mean((y-ym)**2)\n",
    "    syx = np.mean((y-ym)*(X-xm))\n",
    "    sxx = np.mean((X-xm)**2)\n",
    "    w1 = syx/sxx\n",
    "    w0 = ym - w1*xm\n",
    "    #rsq calculations\n",
    "    yhat = w0+w1*X\n",
    "    RSS = np.sum((y-yhat)**2)\n",
    "    TSS = np.sum( (y-ym)**2)\n",
    "    rsq = 1-RSS/TSS\n",
    "    return w0, w1, rsq"
   ]
  },
  {
   "cell_type": "code",
   "execution_count": null,
   "metadata": {
    "deletable": false,
    "editable": false
   },
   "outputs": [],
   "source": [
    "grader.check(\"Q07\")"
   ]
  },
  {
   "cell_type": "markdown",
   "metadata": {},
   "source": [
    "Using the function `fit_linear` above, print the values `w0`, `w1` and `rsq` for the linear model of price vs. number of rooms."
   ]
  },
  {
   "cell_type": "code",
   "execution_count": 15,
   "metadata": {},
   "outputs": [],
   "source": [
    "# TODO Q08\n",
    "w0, w1, rsq = fit_linear(X, y)\n",
    "# Print w0, w1, and rsq\n",
    "# print(w0, w1, rsq)"
   ]
  },
  {
   "cell_type": "code",
   "execution_count": null,
   "metadata": {
    "deletable": false,
    "editable": false
   },
   "outputs": [],
   "source": [
    "grader.check(\"Q08\")"
   ]
  },
  {
   "cell_type": "markdown",
   "metadata": {},
   "source": [
    "Replot the scatter plot above, but now with the regression line.  You can create the regression line by creating points `xp` from say 4 to 9, computing the linear predicted values `yp` on those points and plotting `yp` vs. `xp` on top of the above plot."
   ]
  },
  {
   "cell_type": "markdown",
   "metadata": {
    "deletable": false,
    "editable": false
   },
   "source": [
    "<!-- BEGIN QUESTION -->\n",
    "\n",
    "<!--\n",
    "BEGIN QUESTION\n",
    "name: Q09\n",
    "manual: true\n",
    "points: 2\n",
    "-->"
   ]
  },
  {
   "cell_type": "code",
   "execution_count": 16,
   "metadata": {},
   "outputs": [
    {
     "data": {
      "image/png": "[encoded data removed]",
      "text/plain": [
       "<Figure size 432x288 with 1 Axes>"
      ]
     },
     "metadata": {
      "needs_background": "light"
     },
     "output_type": "display_data"
    }
   ],
   "source": [
    "# TODO Q09\n",
    "xplt = np.array([4,9])  \n",
    "yplt = w1*xplt + w0\n",
    "plt.plot(X,y,'o')\n",
    "plt.plot(xplt,yplt,'-',linewidth=3)\n",
    "plt.xlabel('Average Number of Rooms')\n",
    "plt.ylabel('Price of the House')\n",
    "plt.grid(True)"
   ]
  },
  {
   "cell_type": "markdown",
   "metadata": {},
   "source": [
    "<!-- END QUESTION -->\n",
    "\n",
    "\n",
    "\n",
    "# Compute coefficients of determination\n",
    "\n",
    "We next compute the $R^2$ values for all the predictors and output the values in a table. Your table should look like the following, where each the first column is the attribute name and the second column is the $R^2$ value.\n",
    "\n",
    "    CRIM        0.151\n",
    "    ZN          0.130\n",
    "    INDUS       0.234\n",
    "    ...         ...\n",
    "\n",
    "To index over the set of colunms in the dataframe `df`, you can either loop over the items in the `names` lists (skipping over the final name `PRICE`) or loop over integer indices and use the method, `df.iloc`."
   ]
  },
  {
   "cell_type": "code",
   "execution_count": 17,
   "metadata": {},
   "outputs": [],
   "source": [
    "# TODO Q10\n",
    "#Please create your table as a numpy array, named it as coeff_determ, and set dtype as object\n",
    "#However, if you define coeff_determ as a pandas.DataFrame that would also be fine\n",
    "coeff_determ = np.zeros(12)\n",
    "for i in range(0, 12):\n",
    "    X = np.array(df[names[i]])\n",
    "    w0, w1, rsq = fit_linear(X, y)\n",
    "    coeff_determ[i] = rsq"
   ]
  },
  {
   "cell_type": "code",
   "execution_count": null,
   "metadata": {
    "deletable": false,
    "editable": false
   },
   "outputs": [],
   "source": [
    "grader.check(\"Q10\")"
   ]
  },
  {
   "cell_type": "markdown",
   "metadata": {},
   "source": [
    "---------------------------------------------------------------------------------------------------------------------\n",
    "\n",
    "You have finished the first part of the asssignment, feel free to take a break and come back to do the second part"
   ]
  },
  {
   "cell_type": "markdown",
   "metadata": {},
   "source": [
    "## Implementing Linear Regression Using Gradient Descent \n",
    "\n",
    "In this lab, you will be implementing the Linear Regression Model. We will be using the gradient descent algorithm (GDA) and the stochastic gradient descent algorithm (SGDA) to minimize the cost function as we covered in the class.\n"
   ]
  },
  {
   "cell_type": "markdown",
   "metadata": {},
   "source": [
    "# Loading the data set."
   ]
  },
  {
   "cell_type": "code",
   "execution_count": 18,
   "metadata": {},
   "outputs": [],
   "source": [
    "# After completing the code in this code cell, run this code cell before moving further.\n",
    "names =[\n",
    "    'CRIM', 'ZN', 'INDUS', 'CHAS', 'NOX', 'RM', \n",
    "    'AGE',  'DIS', 'RAD', 'TAX', 'PTRATIO', 'B', 'LSTAT', 'PRICE'\n",
    "]\n",
    "\n",
    "# TODO Q11\n",
    "df_gda = pd.read_csv('https://archive.ics.uci.edu/ml/machine-learning-databases/housing/housing.data',header=None,delim_whitespace=True,names=names,na_values='?')"
   ]
  },
  {
   "cell_type": "code",
   "execution_count": null,
   "metadata": {
    "deletable": false,
    "editable": false
   },
   "outputs": [],
   "source": [
    "grader.check(\"Q11\")"
   ]
  },
  {
   "cell_type": "markdown",
   "metadata": {},
   "source": [
    "Fetch the values from the `PRICE` and `RM` columns into a smaller dataframe named `df1` from `df_gda`. This step is the same as was done in programming_assignment_1a.  Then drop rows with NaN values from `df1` and save the result in `df2`."
   ]
  },
  {
   "cell_type": "markdown",
   "metadata": {},
   "source": [
    "Check the shape of df2. It should be (506,2)"
   ]
  },
  {
   "cell_type": "code",
   "execution_count": 19,
   "metadata": {},
   "outputs": [],
   "source": [
    "# TODO Q12\n",
    "df1 = df[['PRICE', 'RM']]\n",
    "df2 = df1.dropna()"
   ]
  },
  {
   "cell_type": "code",
   "execution_count": null,
   "metadata": {
    "deletable": false,
    "editable": false
   },
   "outputs": [],
   "source": [
    "grader.check(\"Q12\")"
   ]
  },
  {
   "cell_type": "markdown",
   "metadata": {},
   "source": [
    "Create a vector `y_gda` having the values of 'PRICE' column and vector `X_gda` having the values of 'RM' column. This step is also same as done in programming_assignment_1a."
   ]
  },
  {
   "cell_type": "code",
   "execution_count": 20,
   "metadata": {},
   "outputs": [],
   "source": [
    "# TODO Q13\n",
    "X_gda = np.array(df2['RM'])\n",
    "y_gda = np.array(df2['PRICE'])"
   ]
  },
  {
   "cell_type": "code",
   "execution_count": null,
   "metadata": {
    "deletable": false,
    "editable": false
   },
   "outputs": [],
   "source": [
    "grader.check(\"Q13\")"
   ]
  },
  {
   "cell_type": "markdown",
   "metadata": {},
   "source": [
    "Reshape `X_gda` and `y_gda` to be rank 2 (here we refer to the number of dimentions of a array as it's rank). After checking the shape of `X_gda` and `y_gda` in the above code cell, we see that `X_gda` and `y_gda` are rank 1 matricies. Before proceeding,  convert them to be rank 2 matricies. For example, you could use the command `X_2d = X_gda.reshape(X_gda.shape[0],1)` to reshape `X_gda`."
   ]
  },
  {
   "cell_type": "code",
   "execution_count": 21,
   "metadata": {},
   "outputs": [],
   "source": [
    "# TODO Q14\n",
    "X_2d = X_gda.reshape(X_gda.shape[0],1)\n",
    "y_2d = y_gda.reshape(y_gda.shape[0],1)\n"
   ]
  },
  {
   "cell_type": "code",
   "execution_count": null,
   "metadata": {
    "deletable": false,
    "editable": false
   },
   "outputs": [],
   "source": [
    "grader.check(\"Q14\")"
   ]
  },
  {
   "cell_type": "markdown",
   "metadata": {},
   "source": [
    "# Gradient Descent\n",
    "Write the code to perform gradient descent in the function below.  In this assigment, we will run the algorithm a fixed number of iterations.  Later in the course, we will add a simple extension by adding a stopping criteria."
   ]
  },
  {
   "cell_type": "markdown",
   "metadata": {},
   "source": [
    "Calculating the value of `N`, i.e. number of training examples. \n",
    "Hint: Value of `N` is equal to the number of rows in either `X_2d` or `y_2d` matrix which can be accessed using the numpy shape command."
   ]
  },
  {
   "cell_type": "code",
   "execution_count": 23,
   "metadata": {},
   "outputs": [],
   "source": [
    "# TODO Q15\n",
    "N = np.shape(X_2d)[0]\n",
    "# print(N)"
   ]
  },
  {
   "cell_type": "code",
   "execution_count": null,
   "metadata": {
    "deletable": false,
    "editable": false
   },
   "outputs": [],
   "source": [
    "grader.check(\"Q15\")"
   ]
  },
  {
   "cell_type": "markdown",
   "metadata": {},
   "source": [
    "Compute the cost: Write the code to compute the cost inside the function. Do not change the function name or function parameters."
   ]
  },
  {
   "cell_type": "code",
   "execution_count": 24,
   "metadata": {},
   "outputs": [],
   "source": [
    "# TODO Q16\n",
    "def compute_cost(X_2d, y_2d, w0_gda, w1_gda, N):\n",
    "    #Write your code in place of None. Cost can be calculated using a single line of code\n",
    "    yhat = w0_gda + w1_gda * X_2d\n",
    "    RSS = N * np.mean((y_2d-yhat)**2)\n",
    "    cost = RSS/(2*N)\n",
    "    return cost"
   ]
  },
  {
   "cell_type": "code",
   "execution_count": null,
   "metadata": {
    "deletable": false,
    "editable": false
   },
   "outputs": [],
   "source": [
    "grader.check(\"Q16\")"
   ]
  },
  {
   "cell_type": "markdown",
   "metadata": {},
   "source": [
    "Before moving ahead, ensure that the code you have written to compute the cost is correct. Just run the below cell."
   ]
  },
  {
   "cell_type": "code",
   "execution_count": 26,
   "metadata": {},
   "outputs": [],
   "source": [
    "cost_verify = compute_cost(X_2d, y_2d, 0, 0, N)\n",
    "# print(cost_verify)"
   ]
  },
  {
   "cell_type": "markdown",
   "metadata": {},
   "source": [
    "Your output should be equal to 296.073458498.  Ensure your answer is correct before continuing"
   ]
  },
  {
   "cell_type": "code",
   "execution_count": 27,
   "metadata": {},
   "outputs": [],
   "source": [
    "# TODO Q17\n",
    "def gradient_descent(X_2d, y_2d, learning_rate, w0_gda, w1_gda, N, num_iters):\n",
    "    # In place of None, write the updated value of w0 in temp0 and of w1 in temp1\n",
    "    for i in range(num_iters):\n",
    "        temp0 = w0_gda - (learning_rate / N) * np.sum(w0_gda + w1_gda * X_2d - y_2d)\n",
    "        temp1 = w1_gda - (learning_rate / N) * np.sum((w0_gda + w1_gda * X_2d - y_2d) * X_2d)\n",
    "        w0_gda = temp0\n",
    "        w1_gda = temp1\n",
    "        \n",
    "        if(i%100==0):\n",
    "            # In place of None, call the cost you just coded above\n",
    "            # You can uncomment print statements to see the details of execution, \n",
    "            # but please make sure you put prints in comments before submission\n",
    "            cost = compute_cost(X_2d, y_2d, w0_gda, w1_gda, N)\n",
    "            # print(\"Cost\")\n",
    "            # print(cost)\n",
    "            # print(\"w's\")\n",
    "            # print(w0_gda)\n",
    "            # print(w1_gda) \n",
    "            \n",
    "    return w0_gda, w1_gda       "
   ]
  },
  {
   "cell_type": "code",
   "execution_count": null,
   "metadata": {
    "deletable": false,
    "editable": false
   },
   "outputs": [],
   "source": [
    "grader.check(\"Q17\")"
   ]
  },
  {
   "cell_type": "markdown",
   "metadata": {},
   "source": [
    "Before moving ahead, ensure that your code to update beta0 and beta1 is correct. Run the code cell below."
   ]
  },
  {
   "cell_type": "code",
   "execution_count": 29,
   "metadata": {},
   "outputs": [],
   "source": [
    "g = gradient_descent(X_2d, y_2d, 0.04, 0, 0, N, 10000)\n",
    "# print(g[0])"
   ]
  },
  {
   "cell_type": "markdown",
   "metadata": {},
   "source": [
    "The last output should be: -34.3837376153. Ensure that you have the correct result before continuing."
   ]
  },
  {
   "cell_type": "markdown",
   "metadata": {},
   "source": [
    "# Integerating the Batch Gradient Descent Function \n",
    "\n",
    "Using the above code, create a single function `linear_reg_model_gda`: This function uses the gradient descent algorithm to minimize the cost."
   ]
  },
  {
   "cell_type": "code",
   "execution_count": 30,
   "metadata": {},
   "outputs": [],
   "source": [
    "# TODO Q18\n",
    "def linear_reg_model_gda(X_2d, y_2d, N, learning_rate, num_iters) -> np.float64:\n",
    "    # initialize the values of parameters w0 and w1 both to 0\n",
    "    w0_gda = 0\n",
    "    w1_gda = 0\n",
    "    \n",
    "    # calculate the initial cost by calling the function you just coded above\n",
    "    initial_cost = compute_cost(X_2d, y_2d, w0_gda, w1_gda, N)\n",
    "    # You can uncomment print statements to see the details of execution, \n",
    "    # but please make sure you put prints in comments before submission\n",
    "    # print(\"Initial Cost\")\n",
    "    # print(initial_cost)\n",
    "    \n",
    "    #calculate the optimized value of w0 and w1 by calling the gradient_descent function coded above\n",
    "    w0_gda, w1_gda = gradient_descent(X_2d, y_2d, learning_rate, w0_gda, w1_gda, N, num_iters)\n",
    "    \n",
    "    #Calculate the cost with the optimized value of w0 and w1 by calling the cost function.\n",
    "    \n",
    "    final_cost = compute_cost(X_2d, y_2d, w0_gda, w1_gda, N)\n",
    "    # You can uncomment print statements to see the details of execution, \n",
    "    # but please make sure you put prints in comments before submission\n",
    "    # print(\"Final Cost\")\n",
    "    # print(final_cost)\n",
    "    return w0_gda, w1_gda\n",
    "    "
   ]
  },
  {
   "cell_type": "code",
   "execution_count": null,
   "metadata": {
    "deletable": false,
    "editable": false
   },
   "outputs": [],
   "source": [
    "grader.check(\"Q18\")"
   ]
  },
  {
   "cell_type": "markdown",
   "metadata": {},
   "source": [
    "Now, when you have completed the `linear_reg_model_gda` function, you can use this function to find the optimized values of `w0_gda` and `w1_gda`. Using it, set the values of `learning_rate` and `num_iters` to something reasonable. You may have to call this function several times with different values of `num_iters` and `learning_rate` to find the optimal values of `w0_gda` and `w1_gda`. For some values of `learning_rate`, you may recieve incorrect values of `w0_gda` and `w1_gda`, wherein they reach a very large value(infinity) due to overshooting as was discussed in class. Finally, the values of `w0_gda`, `w1_gda` and `cost(RSS)` should be same(or very close to) the ones in Part 1 of this assignment."
   ]
  },
  {
   "cell_type": "code",
   "execution_count": 31,
   "metadata": {
    "tags": []
   },
   "outputs": [],
   "source": [
    "# TODO Q19\n",
    "# Write your code below, use lr for learning_rate and n_itr for num_iters\n",
    "lr = 0.048\n",
    "n_itr = 10000\n",
    "# In place of None, call the linear_reg_model_gda.\n",
    "w0_gda, w1_gda = linear_reg_model_gda(X_2d, y_2d, N, lr, n_itr)"
   ]
  },
  {
   "cell_type": "code",
   "execution_count": null,
   "metadata": {
    "deletable": false,
    "editable": false
   },
   "outputs": [],
   "source": [
    "grader.check(\"Q19\")"
   ]
  },
  {
   "cell_type": "markdown",
   "metadata": {},
   "source": [
    "# Predicting the Price of a House"
   ]
  },
  {
   "cell_type": "markdown",
   "metadata": {},
   "source": [
    "Now you should have found the optimal values for `w0_gda` and `w1_gda`.  Once you have the optimal values for the parameters, you can predict the value of `predicted_y` (`PRICE`) using `x` (`RM`).  Compute the function below to prdict `y_predicted`, using `x`, `w0_gda` and `w1_gda`"
   ]
  },
  {
   "cell_type": "code",
   "execution_count": 32,
   "metadata": {},
   "outputs": [],
   "source": [
    "# TODO Q20\n",
    "def predict(x, w0_gda, w1_gda):\n",
    "    predicted_y = w0_gda + w1_gda * x\n",
    "    \n",
    "    return predicted_y"
   ]
  },
  {
   "cell_type": "code",
   "execution_count": null,
   "metadata": {
    "deletable": false,
    "editable": false
   },
   "outputs": [],
   "source": [
    "grader.check(\"Q20\")"
   ]
  },
  {
   "cell_type": "markdown",
   "metadata": {},
   "source": [
    "Now, predict the price of a house with rm=6 using ```predict()```. \n",
    "The value should be approximately 19.54424 "
   ]
  },
  {
   "cell_type": "code",
   "execution_count": 34,
   "metadata": {},
   "outputs": [],
   "source": [
    "# TODO Q21\n",
    "# Call the predict function with rm=6 \n",
    "y_predict = predict(6, w0_gda, w1_gda)\n",
    "# print(y_predict)"
   ]
  },
  {
   "cell_type": "code",
   "execution_count": null,
   "metadata": {
    "deletable": false,
    "editable": false
   },
   "outputs": [],
   "source": [
    "grader.check(\"Q21\")"
   ]
  },
  {
   "cell_type": "markdown",
   "metadata": {},
   "source": [
    "# Normal Equation Method\n",
    "Now, we will be writing the code to find the values of parameters `w0` and `w1` for our linear regression model. This can also be used to cross-check the optimal values of `w0` and `w1` we just found above using the above two models. These values should be approximately the same."
   ]
  },
  {
   "cell_type": "markdown",
   "metadata": {},
   "source": [
    "Step 1: Appending a column of ones to `X_2d` in the left. Save this into `X_nem`. You can first create a column vector of ones say `a` (ensure this to have dimension (`N`,`1`) i.e. a rank 2 array). Now, you can use `np.hstack` to append it to the left of `X_2d`."
   ]
  },
  {
   "cell_type": "code",
   "execution_count": 35,
   "metadata": {},
   "outputs": [],
   "source": [
    "# TODO Q22\n",
    "# Write the code below\n",
    "a = np.ones(N).reshape(N, 1)\n",
    "X_nem = np.hstack((a, X_2d))"
   ]
  },
  {
   "cell_type": "code",
   "execution_count": null,
   "metadata": {
    "deletable": false,
    "editable": false
   },
   "outputs": [],
   "source": [
    "grader.check(\"Q22\")"
   ]
  },
  {
   "cell_type": "markdown",
   "metadata": {},
   "source": [
    "Step 2: Instead of writing the code for normal equation in one line, you can break this into 3 parts: First calculate `q` = inverse of (dot of (`X_nem.T`,`X_nem`)) (these are pseudo commands, use original numpy commands to calculate `q`). Then `w` = dot of (`X_nem.T` , `y_2d`) and then `w_vec` = dot of (`q`,`w`). Here, `w_vec` is vector of dimension (2,1) having two values. Example `w0_nem = w_vec[0][0]`"
   ]
  },
  {
   "cell_type": "code",
   "execution_count": 36,
   "metadata": {},
   "outputs": [],
   "source": [
    "# TODO Q23\n",
    "# Write the code below\n",
    "q = np.linalg.inv(np.dot(X_nem.T, X_nem))\n",
    "w = np.dot(X_nem.T, y_2d)\n",
    "w_vec = np.dot(q, w)\n",
    "w0_nem = w_vec[0][0]\n",
    "w1_nem = w_vec[1][0]"
   ]
  },
  {
   "cell_type": "code",
   "execution_count": null,
   "metadata": {
    "deletable": false,
    "editable": false
   },
   "outputs": [],
   "source": [
    "grader.check(\"Q23\")"
   ]
  },
  {
   "cell_type": "code",
   "execution_count": 37,
   "metadata": {},
   "outputs": [
    {
     "name": "stdout",
     "output_type": "stream",
     "text": [
      "w0_nem is -34.67062077643868\n",
      "w1_nem is 9.102108981180265\n"
     ]
    }
   ],
   "source": [
    "# print(\"w0_nem is \" + str(w0_nem))\n",
    "# print(\"w1_nem is \" + str(w1_nem))"
   ]
  },
  {
   "cell_type": "markdown",
   "metadata": {
    "collapsed": true
   },
   "source": [
    "The Values of `w0_nem` and `w1_nem` you just got above should be approximately the same as the ones you got using `linear_reg_model_gda` or `linear_reg_model_sgda`."
   ]
  },
  {
   "cell_type": "markdown",
   "metadata": {},
   "source": [
    "\n",
    "# Optional (The following will not be graded):  \n",
    "# Stochastic Gradient Descent\n",
    "\n",
    "You can read more about stochastic gradient descent: https://en.wikipedia.org/wiki/Stochastic_gradient_descent\n",
    "\n",
    "To prevent cycles, shuffle the data for each pass.\n",
    "\n",
    "Write the code to perform a stochastic gradient descent. Remember, every update in a sgda uses examples one by one."
   ]
  },
  {
   "cell_type": "code",
   "execution_count": 52,
   "metadata": {
    "collapsed": true
   },
   "outputs": [],
   "source": [
    "def stochastic_gradient_descent(x, y, learning_rate, w0, w1, N, num_iters):\n",
    "\n",
    "    for j in range(num_iters):\n",
    "    \n",
    "        for i in range(0,N):\n",
    "        # Write updated value in beta0 in temp0 and of beta1 in temp1\n",
    "            temp0 = None \n",
    "            temp1 = None\n",
    "            w0 = temp0\n",
    "            w1 = temp1   \n",
    "\n",
    "        if(j%2000==0):\n",
    "            cost= None\n",
    "            print(\"Cost\")\n",
    "            print(cost)\n",
    "            print(\"Betas\")\n",
    "            print(w0)\n",
    "            print(w1)           \n",
    "            \n",
    "    return w0,w1"
   ]
  },
  {
   "cell_type": "markdown",
   "metadata": {},
   "source": [
    "Before moving ahead, ensure that your code to update beta0 and beta1 is correct. Run the code cell below. This may take some time to run completely."
   ]
  },
  {
   "cell_type": "markdown",
   "metadata": {
    "collapsed": true
   },
   "source": [
    "g=stochastic_gradient_descent(x, y, 0.0048, 0, 0, N, 10000)\n",
    "print(g[0])"
   ]
  },
  {
   "cell_type": "markdown",
   "metadata": {},
   "source": [
    "The result should be: -17.98968896 . Ensure that your answer is correct before continuing."
   ]
  },
  {
   "cell_type": "markdown",
   "metadata": {},
   "source": [
    "# Integrating the Stochastic Gradient Descent Algorithm\n",
    "\n",
    "Use this function to complete linear_reg_model_sgda(). This function uses stochastic gradient descent to minimize the cost."
   ]
  },
  {
   "cell_type": "code",
   "execution_count": 53,
   "metadata": {
    "collapsed": true
   },
   "outputs": [],
   "source": [
    "def linear_reg_model_sgda(x, y, N, learning_rate, num_iters):\n",
    "    \n",
    "     #initialize the values of parameters w0 and w1 both to 0\n",
    "    w0=None\n",
    "    w1=None\n",
    "    \n",
    "    #calculate the initial cost by calling the function cost you just coded above\n",
    "    print(\"Initial Cost\")\n",
    "    initial_cost=None\n",
    "    print(initial_cost)\n",
    "    \n",
    "    #calculate the optimized value of w0 and w1 by calling the stochastic_gradient_descent function coded above\n",
    "    \n",
    "    w0, w1= None\n",
    "    \n",
    "    #Calculate the cost with the optimized value of w0 and w1 by calling the cost function.\n",
    "    \n",
    "    final_cost=None\n",
    "    print(\"Final_cost\")\n",
    "    print(final_cost)\n",
    "    return w0, w1"
   ]
  },
  {
   "cell_type": "markdown",
   "metadata": {},
   "source": [
    "Now, when you have completed linear_reg_model_sgda function, you can call this function to find the optimized values of w0 and w1. Before calling the function, set the values of learning_rate and num_iters appropriately. You may have to call this function several times with different values of num_iters and learning_rate to find the optimal values of w0 and w1. For a sufficiently high learning_rate, it may return extremely high values for w0 and w1 (infinity). Finally, the values of w0, w1 and cost(RSS) should be same(or nearly the same) as you got in the programming_assignment1a."
   ]
  },
  {
   "cell_type": "code",
   "execution_count": 54,
   "metadata": {
    "collapsed": true
   },
   "outputs": [],
   "source": [
    "# Write your code below\n",
    "learning_rate = None\n",
    "num_iters = None\n",
    "# In place of None call the function linear_reg_model_sgda.\n",
    "w0, w1 = None, None"
   ]
  }
 ],
 "metadata": {
  "anaconda-cloud": {},
  "kernelspec": {
   "display_name": "Python 3",
   "language": "python",
   "name": "python3"
  },
  "language_info": {
   "codemirror_mode": {
    "name": "ipython",
    "version": 3
   },
   "file_extension": ".py",
   "mimetype": "text/x-python",
   "name": "python",
   "nbconvert_exporter": "python",
   "pygments_lexer": "ipython3",
   "version": "3.8.8"
  }
 },
 "nbformat": 4,
 "nbformat_minor": 1
}
