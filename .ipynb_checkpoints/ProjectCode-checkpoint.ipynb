{
 "cells": [
  {
   "cell_type": "markdown",
   "metadata": {
    "id": "QqF19QG1U_JN"
   },
   "source": [
    "# CS-UY4536 Final Project: Predicting SP500 Monthly Price Changes\n",
    "Done by Matthew Swartz and Sasha Agapiev for 12/8/21\n",
    "---\n",
    "\n"
   ]
  },
  {
   "cell_type": "markdown",
   "metadata": {
    "id": "3d6sHnPvUv_s"
   },
   "source": [
    "# Importing Libraries"
   ]
  },
  {
   "cell_type": "code",
   "execution_count": 1,
   "metadata": {
    "id": "C6DY-wvXUNoo"
   },
   "outputs": [],
   "source": [
    "import numpy as np\n",
    "import pandas as pd\n",
    "\n",
    "# Import Logistic Regression libraries\n",
    "import sklearn\n",
    "from sklearn import linear_model\n",
    "from sklearn import datasets\n",
    "from sklearn.linear_model import LogisticRegression # importing Sklearn's logistic regression's module\n",
    "from sklearn import preprocessing # preprossing is what we do with the data before we run the learning algorithm\n",
    "from sklearn.preprocessing import PolynomialFeatures\n",
    "from sklearn.model_selection import train_test_split \n",
    "\n",
    "# Import Neural Network libraries\n",
    "from sklearn.preprocessing import StandardScaler\n",
    "from sklearn.metrics import accuracy_score\n",
    "import numpy.random as r\n",
    "\n",
    "# Import plotting libraries \n",
    "import matplotlib.pyplot as plt\n",
    "from scipy import stats\n",
    "import seaborn as sns\n",
    "%matplotlib inline"
   ]
  },
  {
   "cell_type": "code",
   "execution_count": 2,
   "metadata": {
    "colab": {
     "base_uri": "https://localhost:8080/",
     "height": 238
    },
    "id": "tQScAHV2UtDQ",
    "outputId": "c5bd5094-52ce-428e-83b9-16f38914acf5"
   },
   "outputs": [
    {
     "data": {
      "text/html": [
       "<div>\n",
       "<style scoped>\n",
       "    .dataframe tbody tr th:only-of-type {\n",
       "        vertical-align: middle;\n",
       "    }\n",
       "\n",
       "    .dataframe tbody tr th {\n",
       "        vertical-align: top;\n",
       "    }\n",
       "\n",
       "    .dataframe thead th {\n",
       "        text-align: right;\n",
       "    }\n",
       "</style>\n",
       "<table border=\"1\" class=\"dataframe\">\n",
       "  <thead>\n",
       "    <tr style=\"text-align: right;\">\n",
       "      <th></th>\n",
       "      <th>DATE</th>\n",
       "      <th>PRICE</th>\n",
       "      <th>DIVIDEND</th>\n",
       "      <th>EARNINGS</th>\n",
       "      <th>CPI</th>\n",
       "      <th>LIR</th>\n",
       "      <th>RP</th>\n",
       "      <th>RD</th>\n",
       "      <th>RE</th>\n",
       "      <th>PE10</th>\n",
       "      <th>MPC</th>\n",
       "    </tr>\n",
       "  </thead>\n",
       "  <tbody>\n",
       "    <tr>\n",
       "      <th>0</th>\n",
       "      <td>1/1/90</td>\n",
       "      <td>339.97</td>\n",
       "      <td>11.14</td>\n",
       "      <td>22.49</td>\n",
       "      <td>127.4</td>\n",
       "      <td>8.21</td>\n",
       "      <td>666.69</td>\n",
       "      <td>21.85</td>\n",
       "      <td>44.10</td>\n",
       "      <td>17.05</td>\n",
       "      <td>0</td>\n",
       "    </tr>\n",
       "    <tr>\n",
       "      <th>1</th>\n",
       "      <td>2/1/90</td>\n",
       "      <td>330.45</td>\n",
       "      <td>11.23</td>\n",
       "      <td>22.08</td>\n",
       "      <td>128.0</td>\n",
       "      <td>8.47</td>\n",
       "      <td>644.99</td>\n",
       "      <td>21.92</td>\n",
       "      <td>43.10</td>\n",
       "      <td>16.51</td>\n",
       "      <td>1</td>\n",
       "    </tr>\n",
       "    <tr>\n",
       "      <th>2</th>\n",
       "      <td>3/1/90</td>\n",
       "      <td>338.46</td>\n",
       "      <td>11.32</td>\n",
       "      <td>21.67</td>\n",
       "      <td>128.7</td>\n",
       "      <td>8.59</td>\n",
       "      <td>657.03</td>\n",
       "      <td>21.97</td>\n",
       "      <td>42.07</td>\n",
       "      <td>16.83</td>\n",
       "      <td>0</td>\n",
       "    </tr>\n",
       "    <tr>\n",
       "      <th>3</th>\n",
       "      <td>4/1/90</td>\n",
       "      <td>338.18</td>\n",
       "      <td>11.44</td>\n",
       "      <td>21.53</td>\n",
       "      <td>128.9</td>\n",
       "      <td>8.79</td>\n",
       "      <td>655.46</td>\n",
       "      <td>22.17</td>\n",
       "      <td>41.74</td>\n",
       "      <td>16.81</td>\n",
       "      <td>1</td>\n",
       "    </tr>\n",
       "    <tr>\n",
       "      <th>4</th>\n",
       "      <td>5/1/90</td>\n",
       "      <td>350.25</td>\n",
       "      <td>11.55</td>\n",
       "      <td>21.40</td>\n",
       "      <td>129.2</td>\n",
       "      <td>8.76</td>\n",
       "      <td>677.28</td>\n",
       "      <td>22.34</td>\n",
       "      <td>41.38</td>\n",
       "      <td>17.39</td>\n",
       "      <td>1</td>\n",
       "    </tr>\n",
       "    <tr>\n",
       "      <th>5</th>\n",
       "      <td>6/1/90</td>\n",
       "      <td>360.39</td>\n",
       "      <td>11.66</td>\n",
       "      <td>21.26</td>\n",
       "      <td>129.9</td>\n",
       "      <td>8.48</td>\n",
       "      <td>693.13</td>\n",
       "      <td>22.43</td>\n",
       "      <td>40.89</td>\n",
       "      <td>17.82</td>\n",
       "      <td>0</td>\n",
       "    </tr>\n",
       "  </tbody>\n",
       "</table>\n",
       "</div>"
      ],
      "text/plain": [
       "     DATE   PRICE  DIVIDEND  EARNINGS    CPI   LIR      RP     RD     RE  \\\n",
       "0  1/1/90  339.97     11.14     22.49  127.4  8.21  666.69  21.85  44.10   \n",
       "1  2/1/90  330.45     11.23     22.08  128.0  8.47  644.99  21.92  43.10   \n",
       "2  3/1/90  338.46     11.32     21.67  128.7  8.59  657.03  21.97  42.07   \n",
       "3  4/1/90  338.18     11.44     21.53  128.9  8.79  655.46  22.17  41.74   \n",
       "4  5/1/90  350.25     11.55     21.40  129.2  8.76  677.28  22.34  41.38   \n",
       "5  6/1/90  360.39     11.66     21.26  129.9  8.48  693.13  22.43  40.89   \n",
       "\n",
       "    PE10  MPC  \n",
       "0  17.05    0  \n",
       "1  16.51    1  \n",
       "2  16.83    0  \n",
       "3  16.81    1  \n",
       "4  17.39    1  \n",
       "5  17.82    0  "
      ]
     },
     "execution_count": 2,
     "metadata": {},
     "output_type": "execute_result"
    }
   ],
   "source": [
    "names =[\n",
    "    'DATE', 'PRICE', 'DIVIDEND', 'EARNINGS', 'CPI', 'LIR', \n",
    "    'RP',  'RD', 'RE', 'PE10', 'MPC'\n",
    "]\n",
    "\n",
    "# read in our S&P data\n",
    "df = pd.read_csv('data_csv.csv', header=0, names=names, na_values='?')\n",
    "# remove na values\n",
    "df = df.dropna()\n",
    "# encode monthly percent change where positive month = 1, negative month = 0\n",
    "df['MPC'] = np.where((df.MPC)>=0,1,0)\n",
    "\n",
    "# checking data\n",
    "df.head(6)\n",
    "# print(df.shape)\n",
    "# num_samples = df.shape[0]\n",
    "# num_attributes = df.shape[1]\n",
    "# print(num_samples, num_attributes)"
   ]
  },
  {
   "cell_type": "markdown",
   "metadata": {
    "id": "Hzx2lEkrWCjC"
   },
   "source": [
    "# SUPERVISED ANALYSIS PART 1: Logistic Regression"
   ]
  },
  {
   "cell_type": "code",
   "execution_count": 3,
   "metadata": {
    "id": "bkzLri5NWIRZ"
   },
   "outputs": [],
   "source": [
    "# Editing dataframe to get our feature and target array \n",
    "\n",
    "# Convert the df data frame into a numpy array named df2\n",
    "df2 = df.to_numpy()\n",
    "# Select all rows and first 11 columns as X from df2\n",
    "X = df2[:, 1:10]\n",
    "# Select all rows and monthly percent change column as target\n",
    "Y = df2[:, 10:]\n",
    "# added to flatten y as I was getting an error message\n",
    "Y = np.ravel(Y)\n",
    "Y = Y.astype('int')\n"
   ]
  },
  {
   "cell_type": "code",
   "execution_count": 4,
   "metadata": {
    "id": "ZNf_A-FCXemd"
   },
   "outputs": [],
   "source": [
    "# Using built-in preprocessing function to scale the X data \n",
    "X_scale = preprocessing.scale(X)"
   ]
  },
  {
   "cell_type": "code",
   "execution_count": 5,
   "metadata": {
    "id": "FkXAS0CgWIXD"
   },
   "outputs": [],
   "source": [
    "# Splitting the dataset into training and test data\n",
    "# 336 training examples, and we decided on a 75/25 split for training and testing\n",
    "X_train = X_scale[:252]\n",
    "Y_train = Y[:252]\n",
    "X_test = X_scale[252:]\n",
    "Y_test = Y[252:]\n"
   ]
  },
  {
   "cell_type": "code",
   "execution_count": 6,
   "metadata": {
    "id": "K9j9GvYvuPoe"
   },
   "outputs": [],
   "source": [
    "# Standard Logistic Regression \n",
    "\n",
    "# Initialize an empty list to store values of training set accuracy.\n",
    "acc_train_logreg = [] \n",
    "# Initialize an empty list to store values of test set accuracy.\n",
    "acc_test_logreg = []\n",
    "# Initialize an empty list to store different values of parameter 'iter'.\n",
    "iteration_values = []\n",
    "\n",
    "# This function creates a standard logreg model using sklearn's linear_model module\n",
    "# The code in standard_logreg_model is inspired by code from previous homework assignments\n",
    "# It takes, as arguments: iter(desired number of max_iterations), X_train (training data features), Y_train (training data targets)\n",
    "#     X_test (testing data features), Y_test (testing data targets)\n",
    "def standard_logreg_model(iter , X_train, Y_train, X_test, Y_test):\n",
    "    # Create the Logistic Regression model object with no penalty \n",
    "    # NOTE: Since there's no regularization in the standard logistic regression, the c values are insignificant\n",
    "    logreg = linear_model.LogisticRegression(penalty='none', solver='saga', max_iter=iter)\n",
    "    \n",
    "    # Fit the model on the training set\n",
    "    logreg.fit(X_train, Y_train)\n",
    "    \n",
    "    # Find the prediction on training set\n",
    "    Yhat_train = logreg.predict(X_train)\n",
    "    \n",
    "    # Adding training accuracy to acc_train_logreg\n",
    "    acc_train = logreg.score(X_train, Y_train)\n",
    "    acc_train_logreg.append(acc_train)\n",
    "    print(\"Accuracy on training data = %f\" % acc_train)\n",
    "    \n",
    "    # Find the prediction on test set\n",
    "    Yhat_test = logreg.predict(X_test)\n",
    "    \n",
    "    # Adding testing accuracy to acc_test_logreg\n",
    "    acc_test = logreg.score(X_test, Y_test)\n",
    "    acc_test_logreg.append(acc_test)\n",
    "    print(\"Accuracy on test data = %f\" % acc_test)\n",
    "    \n",
    "    # Appending value of c for graphing purposes\n",
    "    iteration_values.append(iter)\n"
   ]
  },
  {
   "cell_type": "code",
   "execution_count": 7,
   "metadata": {
    "colab": {
     "base_uri": "https://localhost:8080/"
    },
    "id": "P5_YatDJu4Z7",
    "outputId": "03da884b-722b-4f2c-b199-5cf943497aaf"
   },
   "outputs": [
    {
     "name": "stderr",
     "output_type": "stream",
     "text": [
      "/Users/matthewswartz/opt/anaconda3/lib/python3.8/site-packages/sklearn/linear_model/_sag.py:328: ConvergenceWarning: The max_iter was reached which means the coef_ did not converge\n",
      "  warnings.warn(\"The max_iter was reached which means \"\n",
      "/Users/matthewswartz/opt/anaconda3/lib/python3.8/site-packages/sklearn/linear_model/_sag.py:328: ConvergenceWarning: The max_iter was reached which means the coef_ did not converge\n",
      "  warnings.warn(\"The max_iter was reached which means \"\n",
      "/Users/matthewswartz/opt/anaconda3/lib/python3.8/site-packages/sklearn/linear_model/_sag.py:328: ConvergenceWarning: The max_iter was reached which means the coef_ did not converge\n",
      "  warnings.warn(\"The max_iter was reached which means \"\n"
     ]
    },
    {
     "name": "stdout",
     "output_type": "stream",
     "text": [
      "Accuracy on training data = 0.642857\n",
      "Accuracy on test data = 0.440476\n",
      "Accuracy on training data = 0.650794\n",
      "Accuracy on test data = 0.404762\n",
      "Accuracy on training data = 0.666667\n",
      "Accuracy on test data = 0.392857\n",
      "Accuracy on training data = 0.654762\n",
      "Accuracy on test data = 0.357143\n",
      "Accuracy on training data = 0.654762\n",
      "Accuracy on test data = 0.357143\n",
      "Accuracy on training data = 0.654762\n",
      "Accuracy on test data = 0.357143\n"
     ]
    }
   ],
   "source": [
    "# running our Standard Logistic Regression with various iterations\n",
    "iters = [100, 500, 1000, 10000, 25000, 50000]\n",
    "\n",
    "# re-initialize the Regressionlists to clear old data\n",
    "acc_train_logreg = [] \n",
    "acc_test_logreg = []\n",
    "iteration_values = []\n",
    "\n",
    "for iter in iters:\n",
    "    standard_logreg_model(iter, X_train, Y_train, X_test, Y_test)\n",
    "\n"
   ]
  },
  {
   "cell_type": "code",
   "execution_count": 8,
   "metadata": {
    "colab": {
     "base_uri": "https://localhost:8080/",
     "height": 295
    },
    "id": "HvOAx49zu_vM",
    "outputId": "e23e798a-5d08-4fd0-c4eb-d3b34c968dfc"
   },
   "outputs": [
    {
     "data": {
      "image/png": "[encoded data removed]",
      "text/plain": [
       "<Figure size 432x288 with 1 Axes>"
      ]
     },
     "metadata": {
      "needs_background": "light"
     },
     "output_type": "display_data"
    }
   ],
   "source": [
    "# Plot training accuracy(Y-axis) v/s 'c' on X - Axis.\n",
    "plt.plot(iteration_values, acc_train_logreg, '.-', color='green')\n",
    "# Plot test accuracy(Y-Axis) v/s 'c' on X - Axis.\n",
    "plt.plot(iteration_values, acc_test_logreg, '.-', color='red')\n",
    "\n",
    "plt.xlabel('# of Iterations')\n",
    "plt.ylabel('Accuracy')\n",
    "plt.grid()\n",
    "plt.title('Predicting MPC with Standard LogReg')\n",
    "plt.legend(['Training Accuracy', 'Test Accuracy'], loc='best')\n",
    "plt.show(block = False)"
   ]
  },
  {
   "cell_type": "markdown",
   "metadata": {
    "id": "__nTSYi3WiyD"
   },
   "source": [
    "# Logistic Regression with L1 Regularization"
   ]
  },
  {
   "cell_type": "code",
   "execution_count": 9,
   "metadata": {
    "id": "flC-ClvIWejn"
   },
   "outputs": [],
   "source": [
    "# \n",
    "# Logistic Regression using Lasso (L1) Regularization\n",
    "# \n",
    "\n",
    "# Initialize an empty list to store values of training set accuracy.\n",
    "acc_train_logreg = [] \n",
    "# Initialize an empty list to store values of test set accuracy.\n",
    "acc_test_logreg = []\n",
    "# Initialize an empty list to store different values of parameter 'c'.\n",
    "c_logreg = []\n",
    "\n",
    "# This function creates an L1 logreg model using sklearn's linear_model module\n",
    "# The code in logreg_model is inspired by code from previous homework assignments\n",
    "# It takes, as arguments: c(desired c value for regularization), X_train (training data features), Y_train (training data targets)\n",
    "#     X_test (testing data features), Y_test (testing data targets)\n",
    "def logreg_model(c , X_train, Y_train, X_test, Y_test):\n",
    "    # Create the Logistic Regression model object with L1 Regularization\n",
    "    logreg = linear_model.LogisticRegression(penalty='l1',C=c,solver='saga',max_iter=10000)\n",
    "    \n",
    "    # Fit the model on the training set\n",
    "    logreg.fit(X_train, Y_train)\n",
    "    \n",
    "    # Find the prediction on training set\n",
    "    Yhat_train = logreg.predict(X_train)\n",
    "    \n",
    "    # Adding training accuracy to acc_train_logreg\n",
    "    acc_train = logreg.score(X_train, Y_train)\n",
    "    acc_train_logreg.append(acc_train)\n",
    "    print(\"Accuracy on training data = %f\" % acc_train)\n",
    "    \n",
    "    # Find the prediction on test set\n",
    "    Yhat_test = logreg.predict(X_test)\n",
    "    \n",
    "    # Adding testing accuracy to acc_test_logreg\n",
    "    acc_test = logreg.score(X_test, Y_test)\n",
    "    acc_test_logreg.append(acc_test)\n",
    "    print(\"Accuracy on test data = %f\" % acc_test)\n",
    "    \n",
    "    # Appending value of c for graphing purposes\n",
    "    c_logreg.append(c)\n"
   ]
  },
  {
   "cell_type": "code",
   "execution_count": 10,
   "metadata": {
    "colab": {
     "base_uri": "https://localhost:8080/"
    },
    "id": "v784p786Zdlj",
    "outputId": "a26e49d2-83e9-403f-e63a-208ac99ec30d"
   },
   "outputs": [
    {
     "name": "stdout",
     "output_type": "stream",
     "text": [
      "Accuracy on training data = 0.611111\n",
      "Accuracy on test data = 0.690476\n",
      "Accuracy on training data = 0.611111\n",
      "Accuracy on test data = 0.690476\n",
      "Accuracy on training data = 0.611111\n",
      "Accuracy on test data = 0.690476\n",
      "Accuracy on training data = 0.611111\n",
      "Accuracy on test data = 0.690476\n",
      "Accuracy on training data = 0.619048\n",
      "Accuracy on test data = 0.595238\n",
      "Accuracy on training data = 0.638889\n",
      "Accuracy on test data = 0.452381\n"
     ]
    }
   ],
   "source": [
    "# running our L1 regularization with various c values\n",
    "cVals = [0.0001, 0.001, 0.01, 0.1, 1, 10]\n",
    "\n",
    "# re-initialize the lists to clear old data\n",
    "acc_train_logreg = [] \n",
    "acc_test_logreg = []\n",
    "c_logreg = []\n",
    "\n",
    "for c in cVals:\n",
    "    logreg_model(c, X_train, Y_train, X_test, Y_test)\n",
    "\n"
   ]
  },
  {
   "cell_type": "code",
   "execution_count": 11,
   "metadata": {
    "colab": {
     "base_uri": "https://localhost:8080/",
     "height": 295
    },
    "id": "RRSuXmXRaekb",
    "outputId": "34ea6d15-eb17-4416-b808-73e506070fad"
   },
   "outputs": [
    {
     "data": {
      "image/png": "[encoded data removed]",
      "text/plain": [
       "<Figure size 432x288 with 1 Axes>"
      ]
     },
     "metadata": {
      "needs_background": "light"
     },
     "output_type": "display_data"
    }
   ],
   "source": [
    "# Plot training accuracy(Y-axis) v/s 'c' on X - Axis.\n",
    "plt.plot(c_logreg, acc_train_logreg, '.-', color='green')\n",
    "# Plot test accuracy(Y-Axis) v/s 'c' on X - Axis.\n",
    "plt.plot(c_logreg, acc_test_logreg, '.-', color='red')\n",
    "\n",
    "plt.xlabel('C Values')\n",
    "plt.ylabel('Accuracy')\n",
    "plt.grid()\n",
    "plt.title('Predicting MPC with L1 LogReg')\n",
    "plt.legend(['Training Accuracy', 'Test Accuracy'], loc='best')\n",
    "plt.show(block = False)\n",
    "\n"
   ]
  },
  {
   "cell_type": "markdown",
   "metadata": {
    "id": "DebZv7vYbbVx"
   },
   "source": [
    "# Logistic Regression with L2 Regularization\n",
    "\n"
   ]
  },
  {
   "cell_type": "code",
   "execution_count": 12,
   "metadata": {
    "id": "o_3l4yfZbkXE"
   },
   "outputs": [],
   "source": [
    "# \n",
    "# Logistic Regression using Ridge (L2) Regularization\n",
    "#\n",
    "\n",
    "# Initialize an empty list to store values of training set accuracy.\n",
    "acc_train_logreg2 = []\n",
    "# Initialize an empty list to store values of test set accuracy.\n",
    "acc_test_logreg2 = []\n",
    "# Initialize an empty list to store different values of parameter 'c'.\n",
    "c_logreg2 = []\n",
    "\n",
    "# This function creates an L2 logreg model using sklearn's linear_model module\n",
    "# The code in logreg2_model is inspired by code from previous homework assignments\n",
    "# It takes, as arguments: c(desired c value for regularization), X_train (training data features), Y_train (training data targets)\n",
    "#     X_test (testing data features), Y_test (testing data targets)\n",
    "def logreg2_model(c , X_train, Y_train, X_test, Y_test):\n",
    "    # Create the Logistic Regression model object with L2 Regularization\n",
    "    logreg2 = linear_model.LogisticRegression(penalty='l2',C=c,solver='saga',max_iter=10000)\n",
    "    \n",
    "    # Fit the model on the training set\n",
    "    logreg2.fit(X_train, Y_train)\n",
    "    \n",
    "    # Find the prediction on training set\n",
    "    Yhat_train = logreg2.predict(X_train)\n",
    "    \n",
    "    # Adding training accuracy to acc_train_logreg2\n",
    "    acc_train = logreg2.score(X_train, Y_train)\n",
    "    acc_train_logreg2.append(acc_train)\n",
    "    print(\"Accuracy on training data = %f\" % acc_train)\n",
    "    \n",
    "    # Find the prediction on test set\n",
    "    Yhat_test = logreg2.predict(X_test)\n",
    "    \n",
    "    # Adding testing accuracy to acc_test_logreg2\n",
    "    acc_test = logreg2.score(X_test, Y_test)\n",
    "    acc_test_logreg2.append(acc_test)\n",
    "    print(\"Accuracy on test data = %f\" % acc_test)\n",
    "    \n",
    "    # Appending value of c for graphing purposes\n",
    "    c_logreg2.append(c)\n",
    "    "
   ]
  },
  {
   "cell_type": "code",
   "execution_count": 13,
   "metadata": {
    "colab": {
     "base_uri": "https://localhost:8080/"
    },
    "id": "Y1mAKW4ybteD",
    "outputId": "92c147d5-6ed3-4463-e1e7-b5b8406633a5"
   },
   "outputs": [
    {
     "name": "stdout",
     "output_type": "stream",
     "text": [
      "Accuracy on training data = 0.611111\n",
      "Accuracy on test data = 0.690476\n",
      "Accuracy on training data = 0.611111\n",
      "Accuracy on test data = 0.690476\n",
      "Accuracy on training data = 0.611111\n",
      "Accuracy on test data = 0.690476\n",
      "Accuracy on training data = 0.599206\n",
      "Accuracy on test data = 0.583333\n",
      "Accuracy on training data = 0.626984\n",
      "Accuracy on test data = 0.547619\n",
      "Accuracy on training data = 0.638889\n",
      "Accuracy on test data = 0.476190\n"
     ]
    }
   ],
   "source": [
    "# running our L2 regularization with various c values\n",
    "cVals = [0.0001, 0.001, 0.01, 0.1, 1, 10]\n",
    "\n",
    "# re-initialize the lists to clear old data\n",
    "acc_train_logreg2 = [] \n",
    "acc_test_logreg2 = []\n",
    "c_logreg2 = []\n",
    "\n",
    "for c in cVals:\n",
    "    logreg2_model(c, X_train, Y_train, X_test, Y_test)\n"
   ]
  },
  {
   "cell_type": "code",
   "execution_count": 14,
   "metadata": {
    "colab": {
     "base_uri": "https://localhost:8080/",
     "height": 295
    },
    "id": "wihq8hkucDmI",
    "outputId": "d83c151f-d8df-4ae6-85b6-e8c72e8d8603"
   },
   "outputs": [
    {
     "data": {
      "image/png": "[encoded data removed]",
      "text/plain": [
       "<Figure size 432x288 with 1 Axes>"
      ]
     },
     "metadata": {
      "needs_background": "light"
     },
     "output_type": "display_data"
    }
   ],
   "source": [
    "# Plot training accuracy(Y-axis) v/s 'c' on X - Axis.\n",
    "plt.plot(c_logreg2, acc_train_logreg2, '.-', color = 'green')\n",
    "# Plot test accuracy(Y-Axis) v/s 'c' on X - Axis.\n",
    "plt.plot(c_logreg2, acc_test_logreg2, '.-', color = 'red')\n",
    "\n",
    "plt.xlabel('C Values')\n",
    "plt.ylabel('Accuracy')\n",
    "plt.grid()\n",
    "plt.title('Predicting MPC with L2 LogReg')\n",
    "\n",
    "plt.legend(['Training Accuracy', 'Test Accuracy'], loc='best')\n",
    "plt.show(block = False)\n",
    "\n"
   ]
  },
  {
   "cell_type": "markdown",
   "metadata": {
    "id": "FVzDDhOXxBu7"
   },
   "source": [
    "# Logistic Regression Using Polynomial Feature Transformation\n"
   ]
  },
  {
   "cell_type": "code",
   "execution_count": 15,
   "metadata": {
    "id": "URFqJ0X7xBJH"
   },
   "outputs": [],
   "source": [
    "# \n",
    "# Logistic Regression with a Polynomial Feature Transformation\n",
    "#\n",
    "\n",
    "# Create an object of PolynomialFeatures(2)\n",
    "poly = PolynomialFeatures(2)\n",
    "# Create the transformed data matrices for training and test using poly.fit_transform(..)\n",
    "X_transformed_train = poly.fit_transform(X_train)\n",
    "X_transformed_test = poly.fit_transform(X_test)"
   ]
  },
  {
   "cell_type": "code",
   "execution_count": 16,
   "metadata": {
    "colab": {
     "base_uri": "https://localhost:8080/",
     "height": 503
    },
    "id": "ublxl8XcxN6L",
    "outputId": "73ab36ec-03da-4b77-be58-2a92bad6833e"
   },
   "outputs": [
    {
     "name": "stdout",
     "output_type": "stream",
     "text": [
      "Accuracy on training data = 0.611111\n",
      "Accuracy on test data = 0.690476\n",
      "Accuracy on training data = 0.611111\n",
      "Accuracy on test data = 0.690476\n",
      "Accuracy on training data = 0.611111\n",
      "Accuracy on test data = 0.690476\n",
      "Accuracy on training data = 0.619048\n",
      "Accuracy on test data = 0.690476\n",
      "Accuracy on training data = 0.674603\n",
      "Accuracy on test data = 0.380952\n",
      "Accuracy on training data = 0.670635\n",
      "Accuracy on test data = 0.559524\n"
     ]
    },
    {
     "data": {
      "image/png": "[encoded data removed]",
      "text/plain": [
       "<Figure size 432x288 with 1 Axes>"
      ]
     },
     "metadata": {
      "needs_background": "light"
     },
     "output_type": "display_data"
    }
   ],
   "source": [
    "# L1 Regularization with Polynomial Feature Transform\n",
    "acc_train_logreg = []\n",
    "acc_test_logreg = []\n",
    "c_logreg = []\n",
    "\n",
    "# Running the L1 logreg model function with the transformed data\n",
    "for c in cVals:\n",
    "    logreg_model(c, X_transformed_train, Y_train, X_transformed_test, Y_test)\n",
    "    \n",
    "# Plot training accuracy(Y-axis) v/s 'c' on X - Axis.\n",
    "plt.plot(c_logreg, acc_train_logreg, '.-', color = 'green')\n",
    "# Plot test accuracy(Y-Axis) v/s 'c' on X - Axis.\n",
    "plt.plot(c_logreg, acc_test_logreg, '.-', color = 'red')\n",
    "# Use the code that you wrote to draw the plot for logreg_model()\n",
    "plt.xlabel('C Values')\n",
    "plt.ylabel('Accuracy')\n",
    "plt.grid()\n",
    "plt.title('Predicting MPC with Polynomial L1 LogReg')\n",
    "\n",
    "# Use the following function to have a legend\n",
    "plt.legend(['Training Accuracy', 'Test Accuracy'], loc='best')\n",
    "plt.show(block = False)\n"
   ]
  },
  {
   "cell_type": "code",
   "execution_count": 17,
   "metadata": {
    "colab": {
     "base_uri": "https://localhost:8080/",
     "height": 503
    },
    "id": "WMac3paXxn8E",
    "outputId": "3f9e4ffa-3bf0-48e5-89ad-73d32648f164"
   },
   "outputs": [
    {
     "name": "stdout",
     "output_type": "stream",
     "text": [
      "Accuracy on training data = 0.611111\n",
      "Accuracy on test data = 0.690476\n",
      "Accuracy on training data = 0.611111\n",
      "Accuracy on test data = 0.690476\n",
      "Accuracy on training data = 0.615079\n",
      "Accuracy on test data = 0.690476\n",
      "Accuracy on training data = 0.662698\n",
      "Accuracy on test data = 0.369048\n",
      "Accuracy on training data = 0.678571\n",
      "Accuracy on test data = 0.404762\n",
      "Accuracy on training data = 0.686508\n",
      "Accuracy on test data = 0.654762\n"
     ]
    },
    {
     "data": {
      "image/png": "[encoded data removed]",
      "text/plain": [
       "<Figure size 432x288 with 1 Axes>"
      ]
     },
     "metadata": {
      "needs_background": "light"
     },
     "output_type": "display_data"
    }
   ],
   "source": [
    "# L2 Regularization with Polynomial Feature Transform\n",
    "acc_train_logreg2 = []\n",
    "acc_test_logreg2 = []\n",
    "c_logreg2 = []\n",
    "\n",
    "# Running the L2 logreg function with the transformed data\n",
    "for c in cVals:\n",
    "    logreg2_model(c, X_transformed_train, Y_train, X_transformed_test, Y_test)\n",
    "    \n",
    "# Plot training accuracy(Y-axis) v/s 'c' on X - Axis.\n",
    "plt.plot(c_logreg2, acc_train_logreg2, '.-', color = 'green')\n",
    "# Plot test accuracy(Y-Axis) v/s 'c' on X - Axis.\n",
    "plt.plot(c_logreg2, acc_test_logreg2, '.-', color = 'red')\n",
    "# Use the code that you wrote to draw the plot for logreg_model()\n",
    "plt.xlabel('C Values')\n",
    "plt.ylabel('Accuracy')\n",
    "plt.grid()\n",
    "plt.title('Predicting MPC with Polynomial L2 LogReg')\n",
    "\n",
    "# Use the following function to have a legend\n",
    "plt.legend(['Training Accuracy', 'Test Accuracy'], loc='best')\n",
    "plt.show(block = False)"
   ]
  },
  {
   "cell_type": "markdown",
   "metadata": {
    "id": "ibFUXwzZyP_1"
   },
   "source": [
    "# SUPERVISED ANALYSIS PART 2: Support Vector Machines"
   ]
  },
  {
   "cell_type": "markdown",
   "metadata": {
    "id": "tMWQJPsMdthn"
   },
   "source": [
    "# SVM With Linear Kernel "
   ]
  },
  {
   "cell_type": "code",
   "execution_count": 18,
   "metadata": {
    "id": "2k7DFLCIylY2"
   },
   "outputs": [],
   "source": [
    "# We are using sklearn's built-in SVM tool to create our SVM models\n",
    "from sklearn import svm\n",
    "# Initialize an empty list to store values of training set accuracy\n",
    "acc_train_svm_linear = [] \n",
    "# Initialize an empty list to store values of test set accuracy\n",
    "acc_test_svm_linear = []\n",
    "# Initialize an empty list to store different values of parameter 'c'.\n",
    "c_svm_linear = []\n",
    "\n",
    "# This function creates a linear SVM model using sklearn's SVM module\n",
    "# The code in svm_linear is inspired by code from previous homework assignments\n",
    "# It takes, as arguments: c(desired c value for regularization)\n",
    "def svm_linear(c):\n",
    "    svc_linear = svm.SVC(probability=False, kernel='linear', C=c)\n",
    "\n",
    "    svc_linear.fit(X_train, Y_train)\n",
    "    Yhat_svc_linear_train = svc_linear.predict(X_train)\n",
    "    acc_train = np.mean(Yhat_svc_linear_train == Y_train)\n",
    "    \n",
    "    acc_train_svm_linear.append(acc_train)\n",
    "    print('Train Accuracy = {0:f}'.format(acc_train))\n",
    "    \n",
    "    Yhat_svc_linear_test = svc_linear.predict(X_test)\n",
    "    acc_test = np.mean(Yhat_svc_linear_test == Y_test)\n",
    "    \n",
    "    acc_test_svm_linear.append(acc_test)\n",
    "    print('Test Accuracy = {0:f}'.format(acc_test))\n",
    "    \n",
    "    c_svm_linear.append(c)"
   ]
  },
  {
   "cell_type": "code",
   "execution_count": 19,
   "metadata": {
    "colab": {
     "base_uri": "https://localhost:8080/",
     "height": 503
    },
    "id": "JrW45xKEd9vd",
    "outputId": "a9847ce2-b6b1-489a-fa38-91977d9f2bc4"
   },
   "outputs": [
    {
     "name": "stdout",
     "output_type": "stream",
     "text": [
      "Train Accuracy = 0.611111\n",
      "Test Accuracy = 0.690476\n",
      "Train Accuracy = 0.611111\n",
      "Test Accuracy = 0.690476\n",
      "Train Accuracy = 0.611111\n",
      "Test Accuracy = 0.690476\n",
      "Train Accuracy = 0.611111\n",
      "Test Accuracy = 0.690476\n",
      "Train Accuracy = 0.611111\n",
      "Test Accuracy = 0.666667\n",
      "Train Accuracy = 0.646825\n",
      "Test Accuracy = 0.511905\n"
     ]
    },
    {
     "data": {
      "image/png": "[encoded data removed]",
      "text/plain": [
       "<Figure size 432x288 with 1 Axes>"
      ]
     },
     "metadata": {
      "needs_background": "light"
     },
     "output_type": "display_data"
    }
   ],
   "source": [
    "acc_train_svm_linear = []\n",
    "acc_test_svm_linear = []\n",
    "c_svm_linear = []\n",
    "\n",
    "# Running the linear SVM function with various c values\n",
    "for c in cVals:\n",
    "    svm_linear(c)\n",
    "\n",
    "plt.plot(c_svm_linear, acc_train_svm_linear, '.-', color = 'green')\n",
    "plt.plot(c_svm_linear, acc_test_svm_linear, '.-', color = 'red')\n",
    "\n",
    "# Use the following function to have a legend\n",
    "plt.legend(['Training Accuracy', 'Test Accuracy'])\n",
    "plt.title(\"Predicting MPC with Linear SVM\")\n",
    "plt.xlabel(\"C Value\")\n",
    "plt.ylabel(\"Accuracy (%)\")\n",
    "plt.grid()\n",
    "plt.show()"
   ]
  },
  {
   "cell_type": "markdown",
   "metadata": {
    "id": "7B02RxmtYLCu"
   },
   "source": [
    "# SVM With Radial Basis Function (RBF) Kernel"
   ]
  },
  {
   "cell_type": "code",
   "execution_count": 20,
   "metadata": {
    "colab": {
     "base_uri": "https://localhost:8080/",
     "height": 503
    },
    "id": "H0IvOxXvYGUL",
    "outputId": "ce4c4370-4a2c-40cd-e84d-c6c1555bdcf6"
   },
   "outputs": [
    {
     "name": "stdout",
     "output_type": "stream",
     "text": [
      "Train Accuracy = 0.611111\n",
      "Test Accuracy = 0.690476\n",
      "Train Accuracy = 0.611111\n",
      "Test Accuracy = 0.690476\n",
      "Train Accuracy = 0.611111\n",
      "Test Accuracy = 0.690476\n",
      "Train Accuracy = 0.611111\n",
      "Test Accuracy = 0.690476\n",
      "Train Accuracy = 0.674603\n",
      "Test Accuracy = 0.690476\n",
      "Train Accuracy = 0.678571\n",
      "Test Accuracy = 0.654762\n"
     ]
    },
    {
     "data": {
      "image/png": "[encoded data removed]",
      "text/plain": [
       "<Figure size 432x288 with 1 Axes>"
      ]
     },
     "metadata": {
      "needs_background": "light"
     },
     "output_type": "display_data"
    }
   ],
   "source": [
    "# Initialize an empty list to store values of training set accuracy\n",
    "acc_train_svm_rbf = []\n",
    "# Initialize an empty list to store values of test set accuracy\n",
    "acc_test_svm_rbf = []\n",
    "# Initialize an empty list to store different values of parameter 'c'\n",
    "c_svm_rbf = []\n",
    "\n",
    "# This function creates an RBF SVM model using sklearn's SVM module\n",
    "# The code in svm_rbf is inspired by code from previous homework assignments\n",
    "# It takes, as arguments: c(desired c value for regularization)\n",
    "def svm_rbf(c):\n",
    "    svc_rbf = svm.SVC(probability=False, kernel='rbf', C=c)\n",
    "      \n",
    "    svc_rbf.fit(X_train, Y_train)\n",
    "\n",
    "    Yhat_svc_rbf_train = svc_rbf.predict(X_train)\n",
    "    acc_train = np.mean(Yhat_svc_rbf_train == Y_train)\n",
    "    \n",
    "    # Adding testing accuracy to acc_train_svm\n",
    "    acc_train_svm_rbf.append(acc_train)\n",
    "    print('Train Accuracy = {0:f}'.format(acc_train))\n",
    "    \n",
    "    Yhat_svc_rbf_test = svc_rbf.predict(X_test)\n",
    "    acc_test = np.mean(Yhat_svc_rbf_test == Y_test)\n",
    "    \n",
    "    # Adding testing accuracy to acc_test_svm\n",
    "    acc_test_svm_rbf.append(acc_test)\n",
    "    print('Test Accuracy = {0:f}'.format(acc_test))\n",
    "    \n",
    "    # Appending value of c for graphing purposes\n",
    "    c_svm_rbf.append(c)\n",
    "  \n",
    "# Running svm_rbf with various c values\n",
    "for c in cVals:\n",
    "    svm_rbf(c)\n",
    "\n",
    "# Plotting the accuracies vs the various c values\n",
    "plt.plot(c_svm_rbf, acc_train_svm_rbf, '.-', color = 'green')\n",
    "plt.plot(c_svm_rbf, acc_test_svm_rbf, '.-', color = 'red')\n",
    "\n",
    "# Use the following function to have a legend\n",
    "plt.legend(['Training Accuracy', 'Test Accuracy'])\n",
    "plt.title(\"Predicting MPC with RBF SVM\")\n",
    "plt.xlabel(\"C Value\")\n",
    "plt.ylabel(\"Accuracy (%)\")\n",
    "plt.grid()\n",
    "plt.show()\n"
   ]
  },
  {
   "cell_type": "markdown",
   "metadata": {
    "id": "3NATr-gnZqKA"
   },
   "source": [
    "# SVM with Polynomial Kernel"
   ]
  },
  {
   "cell_type": "code",
   "execution_count": 21,
   "metadata": {
    "colab": {
     "base_uri": "https://localhost:8080/",
     "height": 712
    },
    "id": "uld8VD5xZvLn",
    "outputId": "4ff3be12-0112-43ea-e46c-6ac37027c5f2"
   },
   "outputs": [
    {
     "name": "stdout",
     "output_type": "stream",
     "text": [
      "Train Accuracy = 0.611111\n",
      "Test Accuracy = 0.690476\n",
      "Train Accuracy = 0.611111\n",
      "Test Accuracy = 0.690476\n",
      "Train Accuracy = 0.611111\n",
      "Test Accuracy = 0.690476\n",
      "Train Accuracy = 0.626984\n",
      "Test Accuracy = 0.690476\n",
      "Train Accuracy = 0.634921\n",
      "Test Accuracy = 0.690476\n",
      "Train Accuracy = 0.682540\n",
      "Test Accuracy = 0.535714\n",
      "Train Accuracy = 0.611111\n",
      "Test Accuracy = 0.690476\n",
      "Train Accuracy = 0.611111\n",
      "Test Accuracy = 0.690476\n",
      "Train Accuracy = 0.611111\n",
      "Test Accuracy = 0.690476\n",
      "Train Accuracy = 0.626984\n",
      "Test Accuracy = 0.690476\n",
      "Train Accuracy = 0.634921\n",
      "Test Accuracy = 0.690476\n",
      "Train Accuracy = 0.682540\n",
      "Test Accuracy = 0.535714\n"
     ]
    },
    {
     "data": {
      "image/png": "[encoded data removed]",
      "text/plain": [
       "<Figure size 432x288 with 1 Axes>"
      ]
     },
     "metadata": {
      "needs_background": "light"
     },
     "output_type": "display_data"
    }
   ],
   "source": [
    "# Initialize an empty list to store values of training set accuracy\n",
    "acc_train_svm_poly = []\n",
    "# Initialize an empty list to store values of test set accuracy\n",
    "acc_test_svm_poly = []\n",
    "# Initialize an empty list to store different values of parameter 'c'\n",
    "c_svm_poly = []\n",
    "\n",
    "# This function creates a Polynomial SVM model using sklearn's SVM module\n",
    "# The code in svm_polynomial is inspired by code from previous homework assignments\n",
    "# It takes, as arguments: c(desired c value for regularization)\n",
    "def svm_polynomial(c):\n",
    "    svc_polynomial = svm.SVC(probability=False, kernel='poly', C=c)\n",
    "    \n",
    "    svc_polynomial.fit(X_train, Y_train)\n",
    "\n",
    "    Yhat_svc_poly_train = svc_polynomial.predict(X_train)\n",
    "    acc_train = np.mean(Yhat_svc_poly_train == Y_train)\n",
    "    \n",
    "    # Adding testing accuracy to acc_train_svm\n",
    "    acc_train_svm_poly.append(acc_train)\n",
    "    print('Train Accuracy = {0:f}'.format(acc_train))\n",
    "    \n",
    "    Yhat_svc_poly_test = svc_polynomial.predict(X_test)\n",
    "    acc_test = np.mean(Yhat_svc_poly_test == Y_test)\n",
    "    \n",
    "    # Adding testing accuracy to acc_test_svm\n",
    "    acc_test_svm_poly.append(acc_test)\n",
    "    print('Test Accuracy = {0:f}'.format(acc_test))\n",
    "    \n",
    "    # Appending value of c for graphing purposes\n",
    "    c_svm_poly.append(c)\n",
    "  \n",
    "# Running svm_polynomial with various c values\n",
    "for c in cVals:\n",
    "    svm_polynomial(c)\n",
    "\n",
    "# Re-initializing the lists to clear old data \n",
    "acc_train_svm_poly = []\n",
    "acc_test_svm_poly = []\n",
    "c_svm_poly = []\n",
    "for c in cVals:\n",
    "    svm_polynomial(c)\n",
    "plt.plot(c_svm_poly, acc_train_svm_poly, '.-', color = 'green')\n",
    "plt.plot(c_svm_poly, acc_test_svm_poly, '.-', color = 'red')\n",
    "plt.legend(['Training Accuracy', 'Test Accuracy'])\n",
    "plt.title(\"Predicting MPC with Polynomial SVM\")\n",
    "plt.xlabel(\"C Value\")\n",
    "plt.ylabel(\"Accuracy (%)\")\n",
    "plt.grid()\n",
    "plt.show()"
   ]
  },
  {
   "cell_type": "markdown",
   "metadata": {
    "id": "3NATr-gnZqKA"
   },
   "source": [
    "\n",
    "# SUPERVISED ANALYSIS PART 3: Neural Networks\n"
   ]
  },
  {
   "cell_type": "code",
   "execution_count": 22,
   "metadata": {},
   "outputs": [],
   "source": [
    "# modifying our data for the neural network\n",
    "X_scale = StandardScaler()\n",
    "X = X_scale.fit_transform(X)\n",
    "# split up our data\n",
    "X_train, X_test, y_train, y_test = train_test_split(X, Y, test_size=0.25)"
   ]
  },
  {
   "cell_type": "code",
   "execution_count": 23,
   "metadata": {},
   "outputs": [],
   "source": [
    "# function for setting up output layer, need 2 output neurons as y is either 0 or 1\n",
    "def convert_y_to_vect(y):\n",
    "    y_vect = np.zeros((len(y), 2))\n",
    "    for i in range(len(y)):\n",
    "        y_vect[i, y[i]] = 1\n",
    "    return y_vect\n",
    "# converting to vectors\n",
    "y_v_train = convert_y_to_vect(y_train)\n",
    "y_v_test = convert_y_to_vect(y_test)"
   ]
  },
  {
   "cell_type": "code",
   "execution_count": 24,
   "metadata": {},
   "outputs": [],
   "source": [
    "# function to calculate our sigmoid value\n",
    "def f(z):\n",
    "    return 1 / (1 + np.exp(-z))\n",
    "# function to calculate our sigmoid value\n",
    "def f_deriv(z):\n",
    "    return f(z) * (1 - f(z))"
   ]
  },
  {
   "cell_type": "code",
   "execution_count": 25,
   "metadata": {},
   "outputs": [],
   "source": [
    "# function to setup and initialize W and b\n",
    "def setup_and_init_weights(nn_structure):\n",
    "    W = {} #creating a dictionary i.e. a set of key: value pairs\n",
    "    b = {}\n",
    "    for l in range(1, len(nn_structure)):\n",
    "        W[l] = r.random_sample((nn_structure[l], nn_structure[l-1]))\n",
    "        b[l] = r.random_sample((nn_structure[l],))\n",
    "    return W, b\n",
    "# function to setup W_step and b_step\n",
    "def init_tri_values(nn_structure):\n",
    "    tri_W = {}\n",
    "    tri_b = {}\n",
    "    for l in range(1, len(nn_structure)):\n",
    "        tri_W[l] = np.zeros((nn_structure[l], nn_structure[l-1]))\n",
    "        tri_b[l] = np.zeros((nn_structure[l],))\n",
    "    return tri_W, tri_b\n",
    "# function to calculate our feed forward of NN\n",
    "def feed_forward(x, W, b):\n",
    "    a = {1: x} \n",
    "    z = { }\n",
    "    for l in range(1, len(W) + 1): # for each layer\n",
    "        node_in = a[l]\n",
    "        z[l+1] = W[l].dot(node_in) + b[l]  # z^(l+1) = W^(l)*a^(l) + b^(l)\n",
    "        a[l+1] = f(z[l+1]) # a^(l+1) = f(z^(l+1))\n",
    "    return a, z\n",
    "# function to calculate our delta for each node in the outer layer\n",
    "def calculate_out_layer_delta(y, a_out, z_out):\n",
    "    return -(y-a_out) * f_deriv(z_out) \n",
    "# function to calculate our delta for each node in the hidden layer\n",
    "def calculate_hidden_delta(delta_plus_1, w_l, z_l):\n",
    "    return np.dot(np.transpose(w_l), delta_plus_1) * f_deriv(z_l)"
   ]
  },
  {
   "cell_type": "code",
   "execution_count": 26,
   "metadata": {},
   "outputs": [],
   "source": [
    "# function for back propigating and training our NN\n",
    "def train_nn(nn_structure, X, y, iter_num=3000, alpha=0.25):\n",
    "    W, b = setup_and_init_weights(nn_structure)\n",
    "    cnt = 0\n",
    "    N = len(y)\n",
    "    avg_cost_func = []\n",
    "    print('Starting gradient descent for {} iterations'.format(iter_num))\n",
    "    while cnt < iter_num:\n",
    "        if cnt%1000 == 0:\n",
    "            print('Iteration {} of {}'.format(cnt, iter_num))\n",
    "        tri_W, tri_b = init_tri_values(nn_structure)\n",
    "        avg_cost = 0\n",
    "        for i in range(N):\n",
    "            delta = {}\n",
    "            # perform the feed forward pass and return the stored a and z values, to be used in the\n",
    "            # gradient descent step\n",
    "            a, z = feed_forward(X[i, :], W, b)\n",
    "            # loop from nl-1 to 1 backpropagating the errors\n",
    "            for l in range(len(nn_structure), 0, -1):\n",
    "                if l == len(nn_structure):\n",
    "                    delta[l] = calculate_out_layer_delta(y[i,:], a[l], z[l])\n",
    "                    avg_cost += np.linalg.norm((y[i,:]-a[l]))\n",
    "                else:\n",
    "                    if l > 1:\n",
    "                        delta[l] = calculate_hidden_delta(delta[l+1], W[l], z[l])\n",
    "                    # triW^(l) = triW^(l) + delta^(l+1) * transpose(a^(l))\n",
    "                    tri_W[l] += np.dot(delta[l+1][:,np.newaxis], np.transpose(a[l][:,np.newaxis]))# np.newaxis increase the number of dimensions\n",
    "                    # trib^(l) = trib^(l) + delta^(l+1)\n",
    "                    tri_b[l] += delta[l+1]\n",
    "        # perform the gradient descent step for the weights in each layer\n",
    "        for l in range(len(nn_structure) - 1, 0, -1):\n",
    "            W[l] += -alpha * (1.0/N * tri_W[l])\n",
    "            b[l] += -alpha * (1.0/N * tri_b[l])\n",
    "        # complete the average cost calculation\n",
    "        avg_cost = 1.0/N * avg_cost\n",
    "        avg_cost_func.append(avg_cost)\n",
    "        cnt += 1\n",
    "    return W, b, avg_cost_func\n",
    "# running our NN\n",
    "def predict_y(W, b, X, n_layers):\n",
    "    N = X.shape[0]\n",
    "    y = np.zeros((N,))\n",
    "    for i in range(N):\n",
    "        a, z = feed_forward(X[i, :], W, b)\n",
    "        y[i] = np.argmax(a[n_layers])\n",
    "    return y"
   ]
  },
  {
   "cell_type": "code",
   "execution_count": 27,
   "metadata": {},
   "outputs": [
    {
     "name": "stdout",
     "output_type": "stream",
     "text": [
      "Starting gradient descent for 3000 iterations\n",
      "Iteration 0 of 3000\n",
      "Iteration 1000 of 3000\n",
      "Iteration 2000 of 3000\n"
     ]
    }
   ],
   "source": [
    "# testing data through NN\n",
    "# input layer = 9 (features), hidden layer = 10, output layer = 2 (y is 0 or 1)\n",
    "nn_structure = [9, 10, 2]\n",
    "W, b, avg_cost_func = train_nn(nn_structure, X_train, y_v_train, 3000)"
   ]
  },
  {
   "cell_type": "code",
   "execution_count": 28,
   "metadata": {},
   "outputs": [
    {
     "data": {
      "image/png": "[encoded data removed]",
      "text/plain": [
       "<Figure size 432x288 with 1 Axes>"
      ]
     },
     "metadata": {
      "needs_background": "light"
     },
     "output_type": "display_data"
    }
   ],
   "source": [
    "# plot the avg_cost_func\n",
    "plt.plot(avg_cost_func)\n",
    "plt.ylabel('Average J')\n",
    "plt.xlabel('Iteration number')\n",
    "plt.show()"
   ]
  },
  {
   "cell_type": "code",
   "execution_count": 29,
   "metadata": {},
   "outputs": [
    {
     "name": "stdout",
     "output_type": "stream",
     "text": [
      "Prediction accuracy is 67.85714285714286%\n"
     ]
    }
   ],
   "source": [
    "# get the prediction accuracy and print\n",
    "y_pred = predict_y(W, b, X_test, 3)\n",
    "print('Prediction accuracy is {}%'.format(accuracy_score(y_test, y_pred) * 100))"
   ]
  },
  {
   "cell_type": "code",
   "execution_count": null,
   "metadata": {},
   "outputs": [],
   "source": []
  }
 ],
 "metadata": {
  "colab": {
   "name": "ProjectCode.ipynb",
   "provenance": []
  },
  "kernelspec": {
   "display_name": "Python 3",
   "language": "python",
   "name": "python3"
  },
  "language_info": {
   "codemirror_mode": {
    "name": "ipython",
    "version": 3
   },
   "file_extension": ".py",
   "mimetype": "text/x-python",
   "name": "python",
   "nbconvert_exporter": "python",
   "pygments_lexer": "ipython3",
   "version": "3.8.8"
  }
 },
 "nbformat": 4,
 "nbformat_minor": 1
}
