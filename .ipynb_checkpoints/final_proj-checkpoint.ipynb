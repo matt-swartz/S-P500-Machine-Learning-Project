{
 "cells": [
  {
   "cell_type": "markdown",
   "id": "d48aac23",
   "metadata": {},
   "source": [
    "# Importing Libraries\n"
   ]
  },
  {
   "cell_type": "code",
   "execution_count": 1,
   "id": "75cab5fa",
   "metadata": {},
   "outputs": [],
   "source": [
    "import numpy as np\n",
    "import pandas as pd\n",
    "\n",
    "# Import Logistic Regression libraries\n",
    "import sklearn\n",
    "from sklearn import linear_model\n",
    "from sklearn.linear_model import LogisticRegression # importing Sklearn's logistic regression's module\n",
    "from sklearn import preprocessing # preprossing is what we do with the data before we run the learning algorithm\n",
    "from sklearn.preprocessing import PolynomialFeatures\n",
    "from sklearn.model_selection import train_test_split \n",
    "\n",
    "# Import plotting libraries \n",
    "import matplotlib.pyplot as plt\n",
    "%matplotlib inline"
   ]
  },
  {
   "cell_type": "markdown",
   "id": "0225067d",
   "metadata": {},
   "source": [
    "# Loading in the Dataset\n"
   ]
  },
  {
   "cell_type": "code",
   "execution_count": 2,
   "id": "447c9b56",
   "metadata": {},
   "outputs": [
    {
     "data": {
      "text/html": [
       "<div>\n",
       "<style scoped>\n",
       "    .dataframe tbody tr th:only-of-type {\n",
       "        vertical-align: middle;\n",
       "    }\n",
       "\n",
       "    .dataframe tbody tr th {\n",
       "        vertical-align: top;\n",
       "    }\n",
       "\n",
       "    .dataframe thead th {\n",
       "        text-align: right;\n",
       "    }\n",
       "</style>\n",
       "<table border=\"1\" class=\"dataframe\">\n",
       "  <thead>\n",
       "    <tr style=\"text-align: right;\">\n",
       "      <th></th>\n",
       "      <th>DATE</th>\n",
       "      <th>PRICE</th>\n",
       "      <th>DIVIDEND</th>\n",
       "      <th>EARNINGS</th>\n",
       "      <th>CPI</th>\n",
       "      <th>LIR</th>\n",
       "      <th>RP</th>\n",
       "      <th>RD</th>\n",
       "      <th>RE</th>\n",
       "      <th>PE10</th>\n",
       "      <th>MPC</th>\n",
       "    </tr>\n",
       "  </thead>\n",
       "  <tbody>\n",
       "    <tr>\n",
       "      <th>0</th>\n",
       "      <td>1/1/90</td>\n",
       "      <td>339.97</td>\n",
       "      <td>11.14</td>\n",
       "      <td>22.49</td>\n",
       "      <td>127.4</td>\n",
       "      <td>8.21</td>\n",
       "      <td>666.69</td>\n",
       "      <td>21.85</td>\n",
       "      <td>44.10</td>\n",
       "      <td>17.05</td>\n",
       "      <td>0</td>\n",
       "    </tr>\n",
       "    <tr>\n",
       "      <th>1</th>\n",
       "      <td>2/1/90</td>\n",
       "      <td>330.45</td>\n",
       "      <td>11.23</td>\n",
       "      <td>22.08</td>\n",
       "      <td>128.0</td>\n",
       "      <td>8.47</td>\n",
       "      <td>644.99</td>\n",
       "      <td>21.92</td>\n",
       "      <td>43.10</td>\n",
       "      <td>16.51</td>\n",
       "      <td>1</td>\n",
       "    </tr>\n",
       "    <tr>\n",
       "      <th>2</th>\n",
       "      <td>3/1/90</td>\n",
       "      <td>338.46</td>\n",
       "      <td>11.32</td>\n",
       "      <td>21.67</td>\n",
       "      <td>128.7</td>\n",
       "      <td>8.59</td>\n",
       "      <td>657.03</td>\n",
       "      <td>21.97</td>\n",
       "      <td>42.07</td>\n",
       "      <td>16.83</td>\n",
       "      <td>0</td>\n",
       "    </tr>\n",
       "    <tr>\n",
       "      <th>3</th>\n",
       "      <td>4/1/90</td>\n",
       "      <td>338.18</td>\n",
       "      <td>11.44</td>\n",
       "      <td>21.53</td>\n",
       "      <td>128.9</td>\n",
       "      <td>8.79</td>\n",
       "      <td>655.46</td>\n",
       "      <td>22.17</td>\n",
       "      <td>41.74</td>\n",
       "      <td>16.81</td>\n",
       "      <td>1</td>\n",
       "    </tr>\n",
       "    <tr>\n",
       "      <th>4</th>\n",
       "      <td>5/1/90</td>\n",
       "      <td>350.25</td>\n",
       "      <td>11.55</td>\n",
       "      <td>21.40</td>\n",
       "      <td>129.2</td>\n",
       "      <td>8.76</td>\n",
       "      <td>677.28</td>\n",
       "      <td>22.34</td>\n",
       "      <td>41.38</td>\n",
       "      <td>17.39</td>\n",
       "      <td>1</td>\n",
       "    </tr>\n",
       "    <tr>\n",
       "      <th>5</th>\n",
       "      <td>6/1/90</td>\n",
       "      <td>360.39</td>\n",
       "      <td>11.66</td>\n",
       "      <td>21.26</td>\n",
       "      <td>129.9</td>\n",
       "      <td>8.48</td>\n",
       "      <td>693.13</td>\n",
       "      <td>22.43</td>\n",
       "      <td>40.89</td>\n",
       "      <td>17.82</td>\n",
       "      <td>0</td>\n",
       "    </tr>\n",
       "  </tbody>\n",
       "</table>\n",
       "</div>"
      ],
      "text/plain": [
       "     DATE   PRICE  DIVIDEND  EARNINGS    CPI   LIR      RP     RD     RE  \\\n",
       "0  1/1/90  339.97     11.14     22.49  127.4  8.21  666.69  21.85  44.10   \n",
       "1  2/1/90  330.45     11.23     22.08  128.0  8.47  644.99  21.92  43.10   \n",
       "2  3/1/90  338.46     11.32     21.67  128.7  8.59  657.03  21.97  42.07   \n",
       "3  4/1/90  338.18     11.44     21.53  128.9  8.79  655.46  22.17  41.74   \n",
       "4  5/1/90  350.25     11.55     21.40  129.2  8.76  677.28  22.34  41.38   \n",
       "5  6/1/90  360.39     11.66     21.26  129.9  8.48  693.13  22.43  40.89   \n",
       "\n",
       "    PE10  MPC  \n",
       "0  17.05    0  \n",
       "1  16.51    1  \n",
       "2  16.83    0  \n",
       "3  16.81    1  \n",
       "4  17.39    1  \n",
       "5  17.82    0  "
      ]
     },
     "execution_count": 2,
     "metadata": {},
     "output_type": "execute_result"
    }
   ],
   "source": [
    "names =[\n",
    "    'DATE', 'PRICE', 'DIVIDEND', 'EARNINGS', 'CPI', 'LIR', \n",
    "    'RP',  'RD', 'RE', 'PE10', 'MPC'\n",
    "]\n",
    "\n",
    "# read in our S&P data\n",
    "df = pd.read_csv('data_csv.csv', header=0, names=names, na_values='?')\n",
    "# remove na values\n",
    "df = df.dropna()\n",
    "# encode monthly percent change where positive month = 1, negative month = 0\n",
    "df['MPC'] = np.where((df.MPC)>=0,1,0)\n",
    "\n",
    "# checking data\n",
    "df.head(6)\n",
    "# print(df.shape)\n",
    "# num_samples = df.shape[0]\n",
    "# num_attributes = df.shape[1]\n",
    "# print(num_samples, num_attributes)"
   ]
  },
  {
   "cell_type": "code",
   "execution_count": 3,
   "id": "62df36e0",
   "metadata": {},
   "outputs": [],
   "source": [
    "# response vector of monthly % change\n",
    "classifier = np.array(df['MPC'])\n",
    "y = np.array(df['PRICE'])\n",
    "X = np.array(df['EARNINGS'])"
   ]
  },
  {
   "cell_type": "code",
   "execution_count": 4,
   "id": "b4d889a5",
   "metadata": {},
   "outputs": [
    {
     "data": {
      "image/png": "[encoded data removed]",
      "text/plain": [
       "<Figure size 432x288 with 1 Axes>"
      ]
     },
     "metadata": {
      "needs_background": "light"
     },
     "output_type": "display_data"
    }
   ],
   "source": [
    "col = np.where(classifier<=0,'r','g')\n",
    "plt.scatter(X,y,c=col)\n",
    "plt.xlabel('EARNINGS')\n",
    "plt.ylabel('PRICE')\n",
    "plt.grid(True)"
   ]
  },
  {
   "cell_type": "markdown",
   "id": "a7b22516",
   "metadata": {},
   "source": [
    "# Logistic Regression\n"
   ]
  },
  {
   "cell_type": "code",
   "execution_count": 5,
   "id": "e4abd9a9",
   "metadata": {},
   "outputs": [],
   "source": [
    "#\n",
    "# Editing dataframe to get our feature and target array\n",
    "# \n",
    "\n",
    "# Convert the df data frame into a numpy array named df2\n",
    "df2 = df.to_numpy()\n",
    "# Select all rows and first 11 columns as X from df2\n",
    "X = df2[:, 1:10]\n",
    "# Select all rows and monthly percent change column as target\n",
    "Y = df2[:, 10:]\n",
    "# added to flatten y as I was getting an error message\n",
    "Y = np.ravel(Y)\n",
    "Y = Y.astype('int')"
   ]
  },
  {
   "cell_type": "code",
   "execution_count": 6,
   "id": "030724ee",
   "metadata": {},
   "outputs": [],
   "source": [
    "# Splitting the dataset into training and test data.\n",
    "X_train = X[:200]\n",
    "Y_train = Y[:200]\n",
    "X_test = X[200:]\n",
    "Y_test = Y[200:]"
   ]
  },
  {
   "cell_type": "markdown",
   "id": "7483a670",
   "metadata": {},
   "source": [
    "# Logistic Regression Using L1 Regularization\n"
   ]
  },
  {
   "cell_type": "code",
   "execution_count": 7,
   "id": "c3459978",
   "metadata": {},
   "outputs": [],
   "source": [
    "# \n",
    "# Logistic Regression using Lasso (L1) Regularization\n",
    "# \n",
    "\n",
    "# Initialize an empty list to store values of training set accuracy.\n",
    "acc_train_logreg = [] \n",
    "# Initialize an empty list to store values of test set accuracy.\n",
    "acc_test_logreg = []\n",
    "# Initialize an empty list to store different values of parameter 'c'.\n",
    "c_logreg = []\n",
    "\n",
    "def logreg_model(c , X_train, Y_train, X_test, Y_test):\n",
    "    # Create the Logistic Regression model object with L1 Regularization\n",
    "    logreg = linear_model.LogisticRegression(penalty='l1',C=c,solver='saga',max_iter=10000)\n",
    "    \n",
    "    # Fit the model on the training set\n",
    "    logreg.fit(X_train, Y_train)\n",
    "    \n",
    "    # Find the prediction on training set\n",
    "    Yhat_train = logreg.predict(X_train)\n",
    "    \n",
    "    # Adding training accuracy to acc_train_logreg\n",
    "    acc_train = logreg.score(X_train, Y_train)\n",
    "    acc_train_logreg.append(acc_train)\n",
    "    print(\"Accuracy on training data = %f\" % acc_train)\n",
    "    \n",
    "    # Find the prediction on test set\n",
    "    Yhat_test = logreg.predict(X_test)\n",
    "    \n",
    "    # Adding testing accuracy to acc_test_logreg\n",
    "    acc_test = logreg.score(X_test, Y_test)\n",
    "    acc_test_logreg.append(acc_test)\n",
    "    print(\"Accuracy on test data = %f\" % acc_test)\n",
    "    \n",
    "    # Appending value of c for graphing purposes\n",
    "    c_logreg.append(c)"
   ]
  },
  {
   "cell_type": "code",
   "execution_count": 8,
   "id": "1ffcfa33",
   "metadata": {},
   "outputs": [
    {
     "name": "stdout",
     "output_type": "stream",
     "text": [
      "Accuracy on training data = 0.605000\n",
      "Accuracy on test data = 0.669118\n",
      "Accuracy on training data = 0.605000\n",
      "Accuracy on test data = 0.669118\n",
      "Accuracy on training data = 0.645000\n",
      "Accuracy on test data = 0.544118\n",
      "Accuracy on training data = 0.660000\n",
      "Accuracy on test data = 0.573529\n",
      "Accuracy on training data = 0.650000\n",
      "Accuracy on test data = 0.566176\n",
      "Accuracy on training data = 0.650000\n",
      "Accuracy on test data = 0.573529\n"
     ]
    }
   ],
   "source": [
    "# running our L1 regularization\n",
    "cVals = [0.0001, 0.001, 0.01, 0.1, 1, 10]\n",
    "for c in cVals:\n",
    "    logreg_model(c, X_train, Y_train, X_test, Y_test)"
   ]
  },
  {
   "cell_type": "code",
   "execution_count": 9,
   "id": "0464791e",
   "metadata": {},
   "outputs": [
    {
     "data": {
      "image/png": "[encoded data removed]",
      "text/plain": [
       "<Figure size 432x288 with 1 Axes>"
      ]
     },
     "metadata": {
      "needs_background": "light"
     },
     "output_type": "display_data"
    }
   ],
   "source": [
    "# Plot training accuracy(Y-axis) v/s 'c' on X - Axis.\n",
    "plt.plot(c_logreg, acc_train_logreg, '.-', color='green')\n",
    "# Plot test accuracy(Y-Axis) v/s 'c' on X - Axis.\n",
    "plt.plot(c_logreg, acc_test_logreg, '.-', color='red')\n",
    "\n",
    "plt.xlabel('C Values')\n",
    "plt.ylabel('Accuracy')\n",
    "plt.grid()\n",
    "plt.title('Predicting Stock Change LogReg L1')\n",
    "plt.legend(['Training Accuracy', 'Test Accuracy'], loc='lower right')\n",
    "plt.show(block = False)"
   ]
  },
  {
   "cell_type": "markdown",
   "id": "d476d1ff",
   "metadata": {},
   "source": [
    "# Logistic Regression Using L2 Regularization\n",
    " "
   ]
  },
  {
   "cell_type": "code",
   "execution_count": 10,
   "id": "a5c669cc",
   "metadata": {},
   "outputs": [],
   "source": [
    "# \n",
    "# Logistic Regression using Ridge (L2) Regularization\n",
    "# \n",
    "\n",
    "# Initialize an empty list to store values of training set accuracy.\n",
    "acc_train_logreg2 = []\n",
    "# Initialize an empty list to store values of test set accuracy.\n",
    "acc_test_logreg2 = []\n",
    "# Initialize an empty list to store different values of parameter 'c'.\n",
    "c_logreg2 = []\n",
    "\n",
    "def logreg2_model(c , X_train, Y_train, X_test, Y_test):\n",
    "    # Create the Logistic Regression model object with L2 Regularization\n",
    "    logreg2 = linear_model.LogisticRegression(penalty='l2',C=c,solver='saga',max_iter=10000)\n",
    "    \n",
    "    # Fit the model on the training set\n",
    "    logreg2.fit(X_train, Y_train)\n",
    "    \n",
    "    # Find the prediction on training set\n",
    "    Yhat_train = logreg2.predict(X_train)\n",
    "    \n",
    "    # Adding training accuracy to acc_train_logreg2\n",
    "    acc_train = logreg2.score(X_train, Y_train)\n",
    "    acc_train_logreg2.append(acc_train)\n",
    "    print(\"Accuracy on training data = %f\" % acc_train)\n",
    "    \n",
    "    # Find the prediction on test set\n",
    "    Yhat_test = logreg2.predict(X_test)\n",
    "    \n",
    "    # Adding testing accuracy to acc_test_logreg2\n",
    "    acc_test = logreg2.score(X_test, Y_test)\n",
    "    acc_test_logreg2.append(acc_test)\n",
    "    print(\"Accuracy on test data = %f\" % acc_test)\n",
    "    \n",
    "    # Appending value of c for graphing purposes\n",
    "    c_logreg2.append(c)\n",
    "    "
   ]
  },
  {
   "cell_type": "code",
   "execution_count": 11,
   "id": "5161eade",
   "metadata": {},
   "outputs": [
    {
     "name": "stdout",
     "output_type": "stream",
     "text": [
      "Accuracy on training data = 0.635000\n",
      "Accuracy on test data = 0.558824\n",
      "Accuracy on training data = 0.650000\n",
      "Accuracy on test data = 0.602941\n",
      "Accuracy on training data = 0.650000\n",
      "Accuracy on test data = 0.580882\n",
      "Accuracy on training data = 0.650000\n",
      "Accuracy on test data = 0.566176\n",
      "Accuracy on training data = 0.650000\n",
      "Accuracy on test data = 0.573529\n",
      "Accuracy on training data = 0.650000\n",
      "Accuracy on test data = 0.573529\n"
     ]
    }
   ],
   "source": [
    "# Call the above function i.e. logreg_model with different values of parameter 'c'.\n",
    "# Start with smaller values of 'c' say 0.0001, 0.001, 0.01, 0.1, 1, 10, 100\n",
    "for c in cVals:\n",
    "    logreg2_model(c, X_train, Y_train, X_test, Y_test)"
   ]
  },
  {
   "cell_type": "code",
   "execution_count": 12,
   "id": "f25bd276",
   "metadata": {},
   "outputs": [
    {
     "data": {
      "image/png": "[encoded data removed]",
      "text/plain": [
       "<Figure size 432x288 with 1 Axes>"
      ]
     },
     "metadata": {
      "needs_background": "light"
     },
     "output_type": "display_data"
    }
   ],
   "source": [
    "# TODO - Write code to plot 2 plots - 10 points\n",
    "# Plot training accuracy(Y-axis) v/s 'c' on X - Axis.\n",
    "plt.plot(c_logreg2, acc_train_logreg2, '.-', color = 'green')\n",
    "# Plot test accuracy(Y-Axis) v/s 'c' on X - Axis.\n",
    "plt.plot(c_logreg2, acc_test_logreg2, '.-', color = 'red')\n",
    "# IMP - Make sure you reinitialize c_logreg2, acc_train_logreg2 and acc_test_logreg2 before rerunning logreg2_model()\n",
    "plt.xlabel('C Values')\n",
    "plt.ylabel('Accuracy')\n",
    "plt.grid()\n",
    "plt.title('Predicting Stock Change LogReg L2')\n",
    "\n",
    "# Use the following function to have a legend\n",
    "plt.legend(['Training Accuracy', 'Test Accuracy'], loc='upper right')\n",
    "plt.show(block = False)"
   ]
  },
  {
   "cell_type": "markdown",
   "id": "746aed6d",
   "metadata": {},
   "source": [
    "# Logistic Regression Using Polynomial Feature Transformation\n"
   ]
  },
  {
   "cell_type": "code",
   "execution_count": 13,
   "id": "c7e6fd83",
   "metadata": {},
   "outputs": [],
   "source": [
    "#\n",
    "# Logistic Regression with a Polynomial Feature Transformation\n",
    "#\n",
    "\n",
    "# Create an object of PolynomialFeatures(2)\n",
    "poly = PolynomialFeatures(2)\n",
    "# Create the transformed data matrices for training and test using poly.fit_transform(..)\n",
    "X_transformed_train = poly.fit_transform(X_train)\n",
    "X_transformed_test = poly.fit_transform(X_test)"
   ]
  },
  {
   "cell_type": "code",
   "execution_count": 14,
   "id": "4116bb8b",
   "metadata": {
    "scrolled": false
   },
   "outputs": [
    {
     "name": "stdout",
     "output_type": "stream",
     "text": [
      "Accuracy on training data = 0.660000\n",
      "Accuracy on test data = 0.477941\n",
      "Accuracy on training data = 0.660000\n",
      "Accuracy on test data = 0.477941\n",
      "Accuracy on training data = 0.660000\n",
      "Accuracy on test data = 0.477941\n",
      "Accuracy on training data = 0.660000\n",
      "Accuracy on test data = 0.477941\n",
      "Accuracy on training data = 0.660000\n",
      "Accuracy on test data = 0.477941\n",
      "Accuracy on training data = 0.660000\n",
      "Accuracy on test data = 0.477941\n"
     ]
    },
    {
     "data": {
      "image/png": "[encoded data removed]",
      "text/plain": [
       "<Figure size 432x288 with 1 Axes>"
      ]
     },
     "metadata": {
      "needs_background": "light"
     },
     "output_type": "display_data"
    }
   ],
   "source": [
    "# L1 Regularization with Polynomial Feature Transform\n",
    "acc_train_logreg = []\n",
    "acc_test_logreg = []\n",
    "c_logreg = []\n",
    "\n",
    "for c in cVals:\n",
    "    logreg_model(c, X_transformed_train, Y_train, X_transformed_test, Y_test)\n",
    "    \n",
    "# Plot training accuracy(Y-axis) v/s 'c' on X - Axis.\n",
    "plt.plot(c_logreg, acc_train_logreg, '.-', color = 'green')\n",
    "# Plot test accuracy(Y-Axis) v/s 'c' on X - Axis.\n",
    "plt.plot(c_logreg, acc_test_logreg, '.-', color = 'red')\n",
    "# Use the code that you wrote to draw the plot for logreg_model()\n",
    "plt.xlabel('C Values')\n",
    "plt.ylabel('Accuracy')\n",
    "plt.grid()\n",
    "plt.title('Stock Monthly Change Polynomial LogReg L1')\n",
    "\n",
    "# Use the following function to have a legend\n",
    "plt.legend(['Training Accuracy', 'Test Accuracy'], loc='lower right')\n",
    "plt.show(block = False)"
   ]
  },
  {
   "cell_type": "code",
   "execution_count": 15,
   "id": "2dc18dd6",
   "metadata": {},
   "outputs": [
    {
     "name": "stdout",
     "output_type": "stream",
     "text": [
      "Accuracy on training data = 0.660000\n",
      "Accuracy on test data = 0.477941\n",
      "Accuracy on training data = 0.660000\n",
      "Accuracy on test data = 0.477941\n",
      "Accuracy on training data = 0.660000\n",
      "Accuracy on test data = 0.477941\n",
      "Accuracy on training data = 0.660000\n",
      "Accuracy on test data = 0.477941\n",
      "Accuracy on training data = 0.660000\n",
      "Accuracy on test data = 0.477941\n",
      "Accuracy on training data = 0.660000\n",
      "Accuracy on test data = 0.477941\n"
     ]
    },
    {
     "data": {
      "image/png": "[encoded data removed]",
      "text/plain": [
       "<Figure size 432x288 with 1 Axes>"
      ]
     },
     "metadata": {
      "needs_background": "light"
     },
     "output_type": "display_data"
    }
   ],
   "source": [
    "# L2 Regularization with Polynomial Feature Transform\n",
    "acc_train_logreg2 = []\n",
    "acc_test_logreg2 = []\n",
    "c_logreg2 = []\n",
    "\n",
    "for c in cVals:\n",
    "    logreg2_model(c, X_transformed_train, Y_train, X_transformed_test, Y_test)\n",
    "    \n",
    "# Plot training accuracy(Y-axis) v/s 'c' on X - Axis.\n",
    "plt.plot(c_logreg2, acc_train_logreg2, '.-', color = 'green')\n",
    "# Plot test accuracy(Y-Axis) v/s 'c' on X - Axis.\n",
    "plt.plot(c_logreg2, acc_test_logreg2, '.-', color = 'red')\n",
    "# Use the code that you wrote to draw the plot for logreg2_model()\n",
    "plt.xlabel('C Values')\n",
    "plt.ylabel('Accuracy')\n",
    "plt.grid()\n",
    "plt.title('Stock Monthly Change Polynomial LogReg L2')\n",
    "\n",
    "# Use the following function to have a legend\n",
    "plt.legend(['Training Accuracy', 'Test Accuracy'], loc='lower right')\n",
    "plt.show(block = False)"
   ]
  },
  {
   "cell_type": "markdown",
   "id": "d6e660f8",
   "metadata": {},
   "source": [
    "# SVM"
   ]
  },
  {
   "cell_type": "code",
   "execution_count": null,
   "id": "7dbaecb9",
   "metadata": {},
   "outputs": [],
   "source": []
  }
 ],
 "metadata": {
  "kernelspec": {
   "display_name": "Python 3",
   "language": "python",
   "name": "python3"
  },
  "language_info": {
   "codemirror_mode": {
    "name": "ipython",
    "version": 3
   },
   "file_extension": ".py",
   "mimetype": "text/x-python",
   "name": "python",
   "nbconvert_exporter": "python",
   "pygments_lexer": "ipython3",
   "version": "3.8.8"
  }
 },
 "nbformat": 4,
 "nbformat_minor": 5
}
